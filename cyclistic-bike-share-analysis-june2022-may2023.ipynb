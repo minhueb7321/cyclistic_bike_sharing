{
 "cells": [
  {
   "cell_type": "markdown",
   "id": "0b6820e0",
   "metadata": {
    "papermill": {
     "duration": 0.016688,
     "end_time": "2023-06-19T11:28:54.518993",
     "exception": false,
     "start_time": "2023-06-19T11:28:54.502305",
     "status": "completed"
    },
    "tags": []
   },
   "source": [
    "# Case Study Project : Cyclistic Bike Sharing - Google Data Analysis Profressional Certificate\n",
    "Analyze with Python\n",
    "\n",
    "Performer : Tran Toan Minh"
   ]
  },
  {
   "cell_type": "markdown",
   "id": "b6e689f7",
   "metadata": {
    "papermill": {
     "duration": 0.016114,
     "end_time": "2023-06-19T11:28:54.551373",
     "exception": false,
     "start_time": "2023-06-19T11:28:54.535259",
     "status": "completed"
    },
    "tags": []
   },
   "source": [
    "![Imgur](https://i.imgur.com/WPKB6jE.png)"
   ]
  },
  {
   "cell_type": "markdown",
   "id": "995a89dc",
   "metadata": {
    "papermill": {
     "duration": 0.01567,
     "end_time": "2023-06-19T11:28:54.583354",
     "exception": false,
     "start_time": "2023-06-19T11:28:54.567684",
     "status": "completed"
    },
    "tags": []
   },
   "source": [
    "# 1. Introduction "
   ]
  },
  {
   "cell_type": "markdown",
   "id": "0452b74c",
   "metadata": {
    "papermill": {
     "duration": 0.015704,
     "end_time": "2023-06-19T11:28:54.615205",
     "exception": false,
     "start_time": "2023-06-19T11:28:54.599501",
     "status": "completed"
    },
    "tags": []
   },
   "source": [
    "- This case study is the Capstone Project of Google Data Analysis Profressional Certificate course on Coursera .\n",
    "\n",
    "- Cyclistic is a bike-share company in Chicago .\n",
    "\n",
    "- In this case study , marketing team wants to understand how casual riders and annual members use their company service differently . Through my insights , our team will design a new marketing stategy to attract casual riders become members use our service .\n",
    "\n",
    "- I will perform analysis this case study with Python language , follow the steps of data analysis progress : **ask , prepare, analyze , share** and **act.**\n"
   ]
  },
  {
   "cell_type": "markdown",
   "id": "f1f9cace",
   "metadata": {
    "papermill": {
     "duration": 0.015707,
     "end_time": "2023-06-19T11:28:54.647066",
     "exception": false,
     "start_time": "2023-06-19T11:28:54.631359",
     "status": "completed"
    },
    "tags": []
   },
   "source": [
    "# 2. Ask"
   ]
  },
  {
   "cell_type": "markdown",
   "id": "a6dd2ad1",
   "metadata": {
    "papermill": {
     "duration": 0.015626,
     "end_time": "2023-06-19T11:28:54.679249",
     "exception": false,
     "start_time": "2023-06-19T11:28:54.663623",
     "status": "completed"
    },
    "tags": []
   },
   "source": [
    "### 2.1. Question ?"
   ]
  },
  {
   "cell_type": "markdown",
   "id": "1a8fb043",
   "metadata": {
    "papermill": {
     "duration": 0.015604,
     "end_time": "2023-06-19T11:28:54.710701",
     "exception": false,
     "start_time": "2023-06-19T11:28:54.695097",
     "status": "completed"
    },
    "tags": []
   },
   "source": [
    "* How do annual members and casual riders use Cyclistic bikes differently ?"
   ]
  },
  {
   "cell_type": "markdown",
   "id": "eb26a339",
   "metadata": {
    "papermill": {
     "duration": 0.015732,
     "end_time": "2023-06-19T11:28:54.742255",
     "exception": false,
     "start_time": "2023-06-19T11:28:54.726523",
     "status": "completed"
    },
    "tags": []
   },
   "source": [
    "### 2.2. Key Shakeholders"
   ]
  },
  {
   "cell_type": "markdown",
   "id": "9cc34885",
   "metadata": {
    "papermill": {
     "duration": 0.015666,
     "end_time": "2023-06-19T11:28:54.775569",
     "exception": false,
     "start_time": "2023-06-19T11:28:54.759903",
     "status": "completed"
    },
    "tags": []
   },
   "source": [
    "* The key stakeholders are :\n",
    " * Cyclistic executive team\n",
    "\n",
    " * Lily Moreno (fictional supervisor)"
   ]
  },
  {
   "cell_type": "markdown",
   "id": "b6579adc",
   "metadata": {
    "papermill": {
     "duration": 0.015628,
     "end_time": "2023-06-19T11:28:54.807131",
     "exception": false,
     "start_time": "2023-06-19T11:28:54.791503",
     "status": "completed"
    },
    "tags": []
   },
   "source": [
    "# 3. Prepare"
   ]
  },
  {
   "cell_type": "markdown",
   "id": "753452ba",
   "metadata": {
    "papermill": {
     "duration": 0.015613,
     "end_time": "2023-06-19T11:28:54.838616",
     "exception": false,
     "start_time": "2023-06-19T11:28:54.823003",
     "status": "completed"
    },
    "tags": []
   },
   "source": [
    "### 3.1. Analysis Time"
   ]
  },
  {
   "cell_type": "markdown",
   "id": "50edf94c",
   "metadata": {
    "papermill": {
     "duration": 0.016105,
     "end_time": "2023-06-19T11:28:54.870657",
     "exception": false,
     "start_time": "2023-06-19T11:28:54.854552",
     "status": "completed"
    },
    "tags": []
   },
   "source": [
    "* The data I used is Cyclistic's History Trip Data to analyze and indentify trends .\n",
    "* The analytical data set includes 12 subsets corresponding to 12 months from June 2022 to May 2023 ."
   ]
  },
  {
   "cell_type": "markdown",
   "id": "b62effd0",
   "metadata": {
    "papermill": {
     "duration": 0.015921,
     "end_time": "2023-06-19T11:28:54.902496",
     "exception": false,
     "start_time": "2023-06-19T11:28:54.886575",
     "status": "completed"
    },
    "tags": []
   },
   "source": [
    "### 3.2. Type of Data"
   ]
  },
  {
   "cell_type": "markdown",
   "id": "db1f6099",
   "metadata": {
    "papermill": {
     "duration": 0.016125,
     "end_time": "2023-06-19T11:28:54.935254",
     "exception": false,
     "start_time": "2023-06-19T11:28:54.919129",
     "status": "completed"
    },
    "tags": []
   },
   "source": [
    "* Type of files is \".csv\" file after unzip all datasets.\n",
    "* The datas are structered data \n",
    "* The data has been made available bt Motivate International Inc. under this [license](https://ride.divvybikes.com/data-license-agreement) ."
   ]
  },
  {
   "cell_type": "markdown",
   "id": "78f31cc2",
   "metadata": {
    "papermill": {
     "duration": 0.015726,
     "end_time": "2023-06-19T11:28:54.967069",
     "exception": false,
     "start_time": "2023-06-19T11:28:54.951343",
     "status": "completed"
    },
    "tags": []
   },
   "source": [
    "### 3.3. ROCCC requirements"
   ]
  },
  {
   "cell_type": "markdown",
   "id": "2c16e9ee",
   "metadata": {
    "papermill": {
     "duration": 0.016056,
     "end_time": "2023-06-19T11:28:54.999162",
     "exception": false,
     "start_time": "2023-06-19T11:28:54.983106",
     "status": "completed"
    },
    "tags": []
   },
   "source": [
    "Are there issues with bias or credibility in this data? Does your data ROCCC? Apart from the unrecorded station names and IDs, the data seem to meet the ROCCC requirements. Let’s look at them one by one :\n",
    "\n",
    "* **Reliable** - Despite the absence of station names and IDs in about 30% of the transactions, overall, data remains reliable as coordinates are present across all transactions. If there is a need to identify the station names and IDs of the missing values, we can simply match their coordinates to the coordinates of transactions with existing stations names/IDs.\n",
    "* **Original** - Data is proprietary to Cyclistic.\n",
    "* **Comprehensive** - We are only looking at 2022 -2023 data but record goes back to 2013. In 2022 and 2023, there were over 5 M transactions–giving us a wealth of data to work with and possibly provide accurate results even with a sample size.\n",
    "* **Current** - The data remains current and valid to come up with plausible recommendations given almost similar circumstances between 2022 and 2023 .\n",
    "* **Cited** - As mentioned, we are working with first-party data generated from Cyclistic’s bike-sharing technology."
   ]
  },
  {
   "cell_type": "markdown",
   "id": "a1b46c0b",
   "metadata": {
    "papermill": {
     "duration": 0.015775,
     "end_time": "2023-06-19T11:28:55.031057",
     "exception": false,
     "start_time": "2023-06-19T11:28:55.015282",
     "status": "completed"
    },
    "tags": []
   },
   "source": [
    "# 4. Process"
   ]
  },
  {
   "cell_type": "markdown",
   "id": "420882b3",
   "metadata": {
    "papermill": {
     "duration": 0.016293,
     "end_time": "2023-06-19T11:28:55.063975",
     "exception": false,
     "start_time": "2023-06-19T11:28:55.047682",
     "status": "completed"
    },
    "tags": []
   },
   "source": [
    "### 4.1. Data Colection"
   ]
  },
  {
   "cell_type": "code",
   "execution_count": 1,
   "id": "5b209afb",
   "metadata": {
    "execution": {
     "iopub.execute_input": "2023-06-19T11:28:55.098050Z",
     "iopub.status.busy": "2023-06-19T11:28:55.097447Z",
     "iopub.status.idle": "2023-06-19T11:28:57.176531Z",
     "shell.execute_reply": "2023-06-19T11:28:57.175495Z"
    },
    "papermill": {
     "duration": 2.100155,
     "end_time": "2023-06-19T11:28:57.180133",
     "exception": false,
     "start_time": "2023-06-19T11:28:55.079978",
     "status": "completed"
    },
    "tags": []
   },
   "outputs": [],
   "source": [
    "# Import nessesary modules to support process , perform exploration , visualize datas\n",
    "import pandas as pd , numpy as np , matplotlib.pyplot as plt , plotly.express as px , seaborn as sns\n",
    "import plotly.graph_objs as go\n",
    "from plotly.subplots import make_subplots\n",
    "import ipywidgets\n",
    "from ipywidgets import interact\n",
    "from pandas.api.types import CategoricalDtype\n",
    "import math\n",
    "import os\n",
    "# Some below modules to support to get directly datas from a website \n",
    "import zipfile\n",
    "import requests\n",
    "from io import BytesIO\n",
    "# To ignore some future warnings , should use filterwarnings\n",
    "import warnings \n",
    "warnings.filterwarnings(action = \"ignore\" , category = FutureWarning)\n"
   ]
  },
  {
   "cell_type": "code",
   "execution_count": 2,
   "id": "62c4e262",
   "metadata": {
    "execution": {
     "iopub.execute_input": "2023-06-19T11:28:57.214527Z",
     "iopub.status.busy": "2023-06-19T11:28:57.214150Z",
     "iopub.status.idle": "2023-06-19T11:28:57.219602Z",
     "shell.execute_reply": "2023-06-19T11:28:57.218794Z"
    },
    "papermill": {
     "duration": 0.025444,
     "end_time": "2023-06-19T11:28:57.221866",
     "exception": false,
     "start_time": "2023-06-19T11:28:57.196422",
     "status": "completed"
    },
    "tags": []
   },
   "outputs": [],
   "source": [
    "# If you want to import directly datas from website :\n",
    "# path = \"https:/.../file.zip\"\n",
    "# r = requests.get(path)\n",
    "# buf = BytesIO(r.content)\n",
    "# with zipfile.ZipFile(buf ,\"r\") as f :\n",
    "#     for name in f.namelist():\n",
    "#        if name.endswith(\".csv\"):\n",
    "#            with f.open(name) as zd :\n",
    "#                df = pd.read_csv(zd , encoding = 'utf-8')\n",
    "#        break \n",
    "# repeat for remaining 11 files , after that use pd.concat to merge datas\n",
    "# should use this import way in cases that your disk out of memory , secure problems."
   ]
  },
  {
   "cell_type": "code",
   "execution_count": 3,
   "id": "3435dc45",
   "metadata": {
    "execution": {
     "iopub.execute_input": "2023-06-19T11:28:57.256790Z",
     "iopub.status.busy": "2023-06-19T11:28:57.256093Z",
     "iopub.status.idle": "2023-06-19T11:28:57.348244Z",
     "shell.execute_reply": "2023-06-19T11:28:57.347332Z"
    },
    "papermill": {
     "duration": 0.112534,
     "end_time": "2023-06-19T11:28:57.351096",
     "exception": false,
     "start_time": "2023-06-19T11:28:57.238562",
     "status": "completed"
    },
    "tags": []
   },
   "outputs": [
    {
     "name": "stdout",
     "output_type": "stream",
     "text": [
      "df1 =pd.read_csv('/kaggle/input/cyclisticbikesharing/202302-divvy-tripdata/202302-divvy-tripdata.csv')\n",
      "df2 =pd.read_csv('/kaggle/input/cyclisticbikesharing/202303-divvy-tripdata/202303-divvy-tripdata.csv')\n",
      "df3 =pd.read_csv('/kaggle/input/cyclisticbikesharing/202301-divvy-tripdata/202301-divvy-tripdata.csv')\n",
      "df4 =pd.read_csv('/kaggle/input/cyclisticbikesharing/202208-divvy-tripdata/202208-divvy-tripdata.csv')\n",
      "df5 =pd.read_csv('/kaggle/input/cyclisticbikesharing/202206-divvy-tripdata/202206-divvy-tripdata.csv')\n",
      "df6 =pd.read_csv('/kaggle/input/cyclisticbikesharing/202209-divvy-tripdata/202209-divvy-publictripdata.csv')\n",
      "df7 =pd.read_csv('/kaggle/input/cyclisticbikesharing/202211-divvy-tripdata/202211-divvy-tripdata.csv')\n",
      "df8 =pd.read_csv('/kaggle/input/cyclisticbikesharing/202212-divvy-tripdata/202212-divvy-tripdata.csv')\n",
      "df9 =pd.read_csv('/kaggle/input/cyclisticbikesharing/202305-divvy-tripdata/202305-divvy-tripdata.csv')\n",
      "df10 =pd.read_csv('/kaggle/input/cyclisticbikesharing/202304-divvy-tripdata/202304-divvy-tripdata.csv')\n",
      "df11 =pd.read_csv('/kaggle/input/cyclisticbikesharing/202210-divvy-tripdata/202210-divvy-tripdata.csv')\n",
      "df12 =pd.read_csv('/kaggle/input/cyclisticbikesharing/202207-divvy-tripdata/202207-divvy-tripdata.csv')\n"
     ]
    }
   ],
   "source": [
    "# This below code lines use module os to print dataframe to load \n",
    "path = \"/kaggle/input\"\n",
    "count = 1\n",
    "for root, directories ,filenames in os.walk(path):\n",
    "    for filename in filenames:\n",
    "        full_path_names = os.path.join(root,filename)\n",
    "        variables = \"df{}\".format(count)\n",
    "        #print(full_file_names) to review full path address of files \n",
    "        print(\"{} =pd.read_csv('{}')\".format(variables,full_path_names))\n",
    "        count += 1        "
   ]
  },
  {
   "cell_type": "code",
   "execution_count": 4,
   "id": "acffdf30",
   "metadata": {
    "execution": {
     "iopub.execute_input": "2023-06-19T11:28:57.386312Z",
     "iopub.status.busy": "2023-06-19T11:28:57.385907Z",
     "iopub.status.idle": "2023-06-19T11:29:37.083025Z",
     "shell.execute_reply": "2023-06-19T11:29:37.082079Z"
    },
    "papermill": {
     "duration": 39.717309,
     "end_time": "2023-06-19T11:29:37.085657",
     "exception": false,
     "start_time": "2023-06-19T11:28:57.368348",
     "status": "completed"
    },
    "tags": []
   },
   "outputs": [],
   "source": [
    "# paste above output to load and concatenate datas to a final dataset\n",
    "df1 =pd.read_csv('/kaggle/input/cyclisticbikesharing/202302-divvy-tripdata/202302-divvy-tripdata.csv')\n",
    "df2 =pd.read_csv('/kaggle/input/cyclisticbikesharing/202303-divvy-tripdata/202303-divvy-tripdata.csv')\n",
    "df3 =pd.read_csv('/kaggle/input/cyclisticbikesharing/202301-divvy-tripdata/202301-divvy-tripdata.csv')\n",
    "df4 =pd.read_csv('/kaggle/input/cyclisticbikesharing/202208-divvy-tripdata/202208-divvy-tripdata.csv')\n",
    "df5 =pd.read_csv('/kaggle/input/cyclisticbikesharing/202206-divvy-tripdata/202206-divvy-tripdata.csv')\n",
    "df6 =pd.read_csv('/kaggle/input/cyclisticbikesharing/202209-divvy-tripdata/202209-divvy-publictripdata.csv')\n",
    "df7 =pd.read_csv('/kaggle/input/cyclisticbikesharing/202211-divvy-tripdata/202211-divvy-tripdata.csv')\n",
    "df8 =pd.read_csv('/kaggle/input/cyclisticbikesharing/202212-divvy-tripdata/202212-divvy-tripdata.csv')\n",
    "df9 =pd.read_csv('/kaggle/input/cyclisticbikesharing/202305-divvy-tripdata/202305-divvy-tripdata.csv')\n",
    "df10 =pd.read_csv('/kaggle/input/cyclisticbikesharing/202304-divvy-tripdata/202304-divvy-tripdata.csv')\n",
    "df11 =pd.read_csv('/kaggle/input/cyclisticbikesharing/202210-divvy-tripdata/202210-divvy-tripdata.csv')\n",
    "df12 =pd.read_csv('/kaggle/input/cyclisticbikesharing/202207-divvy-tripdata/202207-divvy-tripdata.csv')\n",
    "df = pd.concat([df1,df2,df3,df4,df5,df6,df7,df8,df9,df10,df11,df12])"
   ]
  },
  {
   "cell_type": "code",
   "execution_count": 5,
   "id": "c0d309e1",
   "metadata": {
    "execution": {
     "iopub.execute_input": "2023-06-19T11:29:37.120499Z",
     "iopub.status.busy": "2023-06-19T11:29:37.119760Z",
     "iopub.status.idle": "2023-06-19T11:29:37.124510Z",
     "shell.execute_reply": "2023-06-19T11:29:37.123363Z"
    },
    "papermill": {
     "duration": 0.02479,
     "end_time": "2023-06-19T11:29:37.126844",
     "exception": false,
     "start_time": "2023-06-19T11:29:37.102054",
     "status": "completed"
    },
    "tags": []
   },
   "outputs": [],
   "source": [
    "# backup file : df.to(\"path/file.csv\" , index = False)"
   ]
  },
  {
   "cell_type": "code",
   "execution_count": 6,
   "id": "5ab77da9",
   "metadata": {
    "execution": {
     "iopub.execute_input": "2023-06-19T11:29:37.161398Z",
     "iopub.status.busy": "2023-06-19T11:29:37.161034Z",
     "iopub.status.idle": "2023-06-19T11:29:37.195883Z",
     "shell.execute_reply": "2023-06-19T11:29:37.195038Z"
    },
    "papermill": {
     "duration": 0.054917,
     "end_time": "2023-06-19T11:29:37.198381",
     "exception": false,
     "start_time": "2023-06-19T11:29:37.143464",
     "status": "completed"
    },
    "tags": []
   },
   "outputs": [
    {
     "data": {
      "text/html": [
       "<div>\n",
       "<style scoped>\n",
       "    .dataframe tbody tr th:only-of-type {\n",
       "        vertical-align: middle;\n",
       "    }\n",
       "\n",
       "    .dataframe tbody tr th {\n",
       "        vertical-align: top;\n",
       "    }\n",
       "\n",
       "    .dataframe thead th {\n",
       "        text-align: right;\n",
       "    }\n",
       "</style>\n",
       "<table border=\"1\" class=\"dataframe\">\n",
       "  <thead>\n",
       "    <tr style=\"text-align: right;\">\n",
       "      <th></th>\n",
       "      <th>ride_id</th>\n",
       "      <th>rideable_type</th>\n",
       "      <th>started_at</th>\n",
       "      <th>ended_at</th>\n",
       "      <th>start_station_name</th>\n",
       "      <th>start_station_id</th>\n",
       "      <th>end_station_name</th>\n",
       "      <th>end_station_id</th>\n",
       "      <th>start_lat</th>\n",
       "      <th>start_lng</th>\n",
       "      <th>end_lat</th>\n",
       "      <th>end_lng</th>\n",
       "      <th>member_casual</th>\n",
       "    </tr>\n",
       "  </thead>\n",
       "  <tbody>\n",
       "    <tr>\n",
       "      <th>0</th>\n",
       "      <td>CBCD0D7777F0E45F</td>\n",
       "      <td>classic_bike</td>\n",
       "      <td>2023-02-14 11:59:42</td>\n",
       "      <td>2023-02-14 12:13:38</td>\n",
       "      <td>Southport Ave &amp; Clybourn Ave</td>\n",
       "      <td>TA1309000030</td>\n",
       "      <td>Clark St &amp; Schiller St</td>\n",
       "      <td>TA1309000024</td>\n",
       "      <td>41.920771</td>\n",
       "      <td>-87.663712</td>\n",
       "      <td>41.907993</td>\n",
       "      <td>-87.631501</td>\n",
       "      <td>casual</td>\n",
       "    </tr>\n",
       "    <tr>\n",
       "      <th>1</th>\n",
       "      <td>F3EC5FCE5FF39DE9</td>\n",
       "      <td>electric_bike</td>\n",
       "      <td>2023-02-15 13:53:48</td>\n",
       "      <td>2023-02-15 13:59:08</td>\n",
       "      <td>Clarendon Ave &amp; Gordon Ter</td>\n",
       "      <td>13379</td>\n",
       "      <td>Sheridan Rd &amp; Lawrence Ave</td>\n",
       "      <td>TA1309000041</td>\n",
       "      <td>41.957879</td>\n",
       "      <td>-87.649584</td>\n",
       "      <td>41.969517</td>\n",
       "      <td>-87.654691</td>\n",
       "      <td>casual</td>\n",
       "    </tr>\n",
       "    <tr>\n",
       "      <th>2</th>\n",
       "      <td>E54C1F27FA9354FF</td>\n",
       "      <td>classic_bike</td>\n",
       "      <td>2023-02-19 11:10:57</td>\n",
       "      <td>2023-02-19 11:35:01</td>\n",
       "      <td>Southport Ave &amp; Clybourn Ave</td>\n",
       "      <td>TA1309000030</td>\n",
       "      <td>Aberdeen St &amp; Monroe St</td>\n",
       "      <td>13156</td>\n",
       "      <td>41.920771</td>\n",
       "      <td>-87.663712</td>\n",
       "      <td>41.880419</td>\n",
       "      <td>-87.655519</td>\n",
       "      <td>member</td>\n",
       "    </tr>\n",
       "    <tr>\n",
       "      <th>3</th>\n",
       "      <td>3D561E04F739CC45</td>\n",
       "      <td>electric_bike</td>\n",
       "      <td>2023-02-26 16:12:05</td>\n",
       "      <td>2023-02-26 16:39:55</td>\n",
       "      <td>Southport Ave &amp; Clybourn Ave</td>\n",
       "      <td>TA1309000030</td>\n",
       "      <td>Franklin St &amp; Adams St (Temp)</td>\n",
       "      <td>TA1309000008</td>\n",
       "      <td>41.920873</td>\n",
       "      <td>-87.663733</td>\n",
       "      <td>41.879434</td>\n",
       "      <td>-87.635504</td>\n",
       "      <td>member</td>\n",
       "    </tr>\n",
       "    <tr>\n",
       "      <th>4</th>\n",
       "      <td>0CB4B4D53B2DBE05</td>\n",
       "      <td>electric_bike</td>\n",
       "      <td>2023-02-20 11:55:23</td>\n",
       "      <td>2023-02-20 12:05:48</td>\n",
       "      <td>Prairie Ave &amp; Garfield Blvd</td>\n",
       "      <td>TA1307000160</td>\n",
       "      <td>Cottage Grove Ave &amp; 63rd St</td>\n",
       "      <td>KA1503000054</td>\n",
       "      <td>41.794827</td>\n",
       "      <td>-87.618795</td>\n",
       "      <td>41.780531</td>\n",
       "      <td>-87.605970</td>\n",
       "      <td>member</td>\n",
       "    </tr>\n",
       "  </tbody>\n",
       "</table>\n",
       "</div>"
      ],
      "text/plain": [
       "            ride_id  rideable_type           started_at             ended_at  \\\n",
       "0  CBCD0D7777F0E45F   classic_bike  2023-02-14 11:59:42  2023-02-14 12:13:38   \n",
       "1  F3EC5FCE5FF39DE9  electric_bike  2023-02-15 13:53:48  2023-02-15 13:59:08   \n",
       "2  E54C1F27FA9354FF   classic_bike  2023-02-19 11:10:57  2023-02-19 11:35:01   \n",
       "3  3D561E04F739CC45  electric_bike  2023-02-26 16:12:05  2023-02-26 16:39:55   \n",
       "4  0CB4B4D53B2DBE05  electric_bike  2023-02-20 11:55:23  2023-02-20 12:05:48   \n",
       "\n",
       "             start_station_name start_station_id  \\\n",
       "0  Southport Ave & Clybourn Ave     TA1309000030   \n",
       "1    Clarendon Ave & Gordon Ter            13379   \n",
       "2  Southport Ave & Clybourn Ave     TA1309000030   \n",
       "3  Southport Ave & Clybourn Ave     TA1309000030   \n",
       "4   Prairie Ave & Garfield Blvd     TA1307000160   \n",
       "\n",
       "                end_station_name end_station_id  start_lat  start_lng  \\\n",
       "0         Clark St & Schiller St   TA1309000024  41.920771 -87.663712   \n",
       "1     Sheridan Rd & Lawrence Ave   TA1309000041  41.957879 -87.649584   \n",
       "2        Aberdeen St & Monroe St          13156  41.920771 -87.663712   \n",
       "3  Franklin St & Adams St (Temp)   TA1309000008  41.920873 -87.663733   \n",
       "4    Cottage Grove Ave & 63rd St   KA1503000054  41.794827 -87.618795   \n",
       "\n",
       "     end_lat    end_lng member_casual  \n",
       "0  41.907993 -87.631501        casual  \n",
       "1  41.969517 -87.654691        casual  \n",
       "2  41.880419 -87.655519        member  \n",
       "3  41.879434 -87.635504        member  \n",
       "4  41.780531 -87.605970        member  "
      ]
     },
     "execution_count": 6,
     "metadata": {},
     "output_type": "execute_result"
    }
   ],
   "source": [
    "df.head(5)"
   ]
  },
  {
   "cell_type": "code",
   "execution_count": 7,
   "id": "85e7fba0",
   "metadata": {
    "execution": {
     "iopub.execute_input": "2023-06-19T11:29:37.233948Z",
     "iopub.status.busy": "2023-06-19T11:29:37.233128Z",
     "iopub.status.idle": "2023-06-19T11:29:37.250039Z",
     "shell.execute_reply": "2023-06-19T11:29:37.249237Z"
    },
    "papermill": {
     "duration": 0.036994,
     "end_time": "2023-06-19T11:29:37.252029",
     "exception": false,
     "start_time": "2023-06-19T11:29:37.215035",
     "status": "completed"
    },
    "tags": []
   },
   "outputs": [
    {
     "data": {
      "text/html": [
       "<div>\n",
       "<style scoped>\n",
       "    .dataframe tbody tr th:only-of-type {\n",
       "        vertical-align: middle;\n",
       "    }\n",
       "\n",
       "    .dataframe tbody tr th {\n",
       "        vertical-align: top;\n",
       "    }\n",
       "\n",
       "    .dataframe thead th {\n",
       "        text-align: right;\n",
       "    }\n",
       "</style>\n",
       "<table border=\"1\" class=\"dataframe\">\n",
       "  <thead>\n",
       "    <tr style=\"text-align: right;\">\n",
       "      <th></th>\n",
       "      <th>ride_id</th>\n",
       "      <th>rideable_type</th>\n",
       "      <th>started_at</th>\n",
       "      <th>ended_at</th>\n",
       "      <th>start_station_name</th>\n",
       "      <th>start_station_id</th>\n",
       "      <th>end_station_name</th>\n",
       "      <th>end_station_id</th>\n",
       "      <th>start_lat</th>\n",
       "      <th>start_lng</th>\n",
       "      <th>end_lat</th>\n",
       "      <th>end_lng</th>\n",
       "      <th>member_casual</th>\n",
       "    </tr>\n",
       "  </thead>\n",
       "  <tbody>\n",
       "    <tr>\n",
       "      <th>823483</th>\n",
       "      <td>605787F70B3B9FD3</td>\n",
       "      <td>electric_bike</td>\n",
       "      <td>2022-07-09 08:32:15</td>\n",
       "      <td>2022-07-09 08:56:10</td>\n",
       "      <td>NaN</td>\n",
       "      <td>NaN</td>\n",
       "      <td>NaN</td>\n",
       "      <td>NaN</td>\n",
       "      <td>41.74</td>\n",
       "      <td>-87.68</td>\n",
       "      <td>41.75</td>\n",
       "      <td>-87.68</td>\n",
       "      <td>member</td>\n",
       "    </tr>\n",
       "    <tr>\n",
       "      <th>823484</th>\n",
       "      <td>F0EECBEE637DF028</td>\n",
       "      <td>electric_bike</td>\n",
       "      <td>2022-07-17 13:27:57</td>\n",
       "      <td>2022-07-17 13:33:09</td>\n",
       "      <td>NaN</td>\n",
       "      <td>NaN</td>\n",
       "      <td>NaN</td>\n",
       "      <td>NaN</td>\n",
       "      <td>41.87</td>\n",
       "      <td>-87.66</td>\n",
       "      <td>41.87</td>\n",
       "      <td>-87.68</td>\n",
       "      <td>member</td>\n",
       "    </tr>\n",
       "    <tr>\n",
       "      <th>823485</th>\n",
       "      <td>B8B091DC72DDAB9D</td>\n",
       "      <td>electric_bike</td>\n",
       "      <td>2022-07-17 14:51:37</td>\n",
       "      <td>2022-07-17 14:57:01</td>\n",
       "      <td>NaN</td>\n",
       "      <td>NaN</td>\n",
       "      <td>NaN</td>\n",
       "      <td>NaN</td>\n",
       "      <td>41.95</td>\n",
       "      <td>-87.64</td>\n",
       "      <td>41.95</td>\n",
       "      <td>-87.65</td>\n",
       "      <td>member</td>\n",
       "    </tr>\n",
       "    <tr>\n",
       "      <th>823486</th>\n",
       "      <td>B4D3FFCC1F3AF5EC</td>\n",
       "      <td>electric_bike</td>\n",
       "      <td>2022-07-28 13:41:50</td>\n",
       "      <td>2022-07-28 13:47:17</td>\n",
       "      <td>NaN</td>\n",
       "      <td>NaN</td>\n",
       "      <td>NaN</td>\n",
       "      <td>NaN</td>\n",
       "      <td>41.88</td>\n",
       "      <td>-87.63</td>\n",
       "      <td>41.87</td>\n",
       "      <td>-87.63</td>\n",
       "      <td>member</td>\n",
       "    </tr>\n",
       "    <tr>\n",
       "      <th>823487</th>\n",
       "      <td>AA9217C8DA3BAC0B</td>\n",
       "      <td>electric_bike</td>\n",
       "      <td>2022-07-29 13:05:20</td>\n",
       "      <td>2022-07-29 13:10:40</td>\n",
       "      <td>NaN</td>\n",
       "      <td>NaN</td>\n",
       "      <td>NaN</td>\n",
       "      <td>NaN</td>\n",
       "      <td>41.90</td>\n",
       "      <td>-87.66</td>\n",
       "      <td>41.90</td>\n",
       "      <td>-87.67</td>\n",
       "      <td>member</td>\n",
       "    </tr>\n",
       "  </tbody>\n",
       "</table>\n",
       "</div>"
      ],
      "text/plain": [
       "                 ride_id  rideable_type           started_at  \\\n",
       "823483  605787F70B3B9FD3  electric_bike  2022-07-09 08:32:15   \n",
       "823484  F0EECBEE637DF028  electric_bike  2022-07-17 13:27:57   \n",
       "823485  B8B091DC72DDAB9D  electric_bike  2022-07-17 14:51:37   \n",
       "823486  B4D3FFCC1F3AF5EC  electric_bike  2022-07-28 13:41:50   \n",
       "823487  AA9217C8DA3BAC0B  electric_bike  2022-07-29 13:05:20   \n",
       "\n",
       "                   ended_at start_station_name start_station_id  \\\n",
       "823483  2022-07-09 08:56:10                NaN              NaN   \n",
       "823484  2022-07-17 13:33:09                NaN              NaN   \n",
       "823485  2022-07-17 14:57:01                NaN              NaN   \n",
       "823486  2022-07-28 13:47:17                NaN              NaN   \n",
       "823487  2022-07-29 13:10:40                NaN              NaN   \n",
       "\n",
       "       end_station_name end_station_id  start_lat  start_lng  end_lat  \\\n",
       "823483              NaN            NaN      41.74     -87.68    41.75   \n",
       "823484              NaN            NaN      41.87     -87.66    41.87   \n",
       "823485              NaN            NaN      41.95     -87.64    41.95   \n",
       "823486              NaN            NaN      41.88     -87.63    41.87   \n",
       "823487              NaN            NaN      41.90     -87.66    41.90   \n",
       "\n",
       "        end_lng member_casual  \n",
       "823483   -87.68        member  \n",
       "823484   -87.68        member  \n",
       "823485   -87.65        member  \n",
       "823486   -87.63        member  \n",
       "823487   -87.67        member  "
      ]
     },
     "execution_count": 7,
     "metadata": {},
     "output_type": "execute_result"
    }
   ],
   "source": [
    "df.tail(5)"
   ]
  },
  {
   "cell_type": "markdown",
   "id": "4a0075d0",
   "metadata": {
    "papermill": {
     "duration": 0.016377,
     "end_time": "2023-06-19T11:29:37.284991",
     "exception": false,
     "start_time": "2023-06-19T11:29:37.268614",
     "status": "completed"
    },
    "tags": []
   },
   "source": [
    "### 4.2. Data Cleaning "
   ]
  },
  {
   "cell_type": "code",
   "execution_count": 8,
   "id": "5b320df0",
   "metadata": {
    "execution": {
     "iopub.execute_input": "2023-06-19T11:29:37.320443Z",
     "iopub.status.busy": "2023-06-19T11:29:37.319886Z",
     "iopub.status.idle": "2023-06-19T11:29:37.338698Z",
     "shell.execute_reply": "2023-06-19T11:29:37.336821Z"
    },
    "papermill": {
     "duration": 0.039659,
     "end_time": "2023-06-19T11:29:37.341376",
     "exception": false,
     "start_time": "2023-06-19T11:29:37.301717",
     "status": "completed"
    },
    "tags": []
   },
   "outputs": [
    {
     "name": "stdout",
     "output_type": "stream",
     "text": [
      "<class 'pandas.core.frame.DataFrame'>\n",
      "Int64Index: 5829030 entries, 0 to 823487\n",
      "Data columns (total 13 columns):\n",
      " #   Column              Dtype  \n",
      "---  ------              -----  \n",
      " 0   ride_id             object \n",
      " 1   rideable_type       object \n",
      " 2   started_at          object \n",
      " 3   ended_at            object \n",
      " 4   start_station_name  object \n",
      " 5   start_station_id    object \n",
      " 6   end_station_name    object \n",
      " 7   end_station_id      object \n",
      " 8   start_lat           float64\n",
      " 9   start_lng           float64\n",
      " 10  end_lat             float64\n",
      " 11  end_lng             float64\n",
      " 12  member_casual       object \n",
      "dtypes: float64(4), object(9)\n",
      "memory usage: 622.6+ MB\n"
     ]
    }
   ],
   "source": [
    "# review type of each fields\n",
    "df.info()"
   ]
  },
  {
   "cell_type": "code",
   "execution_count": 9,
   "id": "ac976a09",
   "metadata": {
    "execution": {
     "iopub.execute_input": "2023-06-19T11:29:37.377711Z",
     "iopub.status.busy": "2023-06-19T11:29:37.377054Z",
     "iopub.status.idle": "2023-06-19T11:29:53.240895Z",
     "shell.execute_reply": "2023-06-19T11:29:53.239847Z"
    },
    "papermill": {
     "duration": 15.884804,
     "end_time": "2023-06-19T11:29:53.243331",
     "exception": false,
     "start_time": "2023-06-19T11:29:37.358527",
     "status": "completed"
    },
    "tags": []
   },
   "outputs": [],
   "source": [
    "#sort datasets by a subset \"started_at\"\n",
    "df.sort_values( by = \"started_at\" , ascending = True,inplace=True)"
   ]
  },
  {
   "cell_type": "code",
   "execution_count": 10,
   "id": "270bdb22",
   "metadata": {
    "execution": {
     "iopub.execute_input": "2023-06-19T11:29:53.278470Z",
     "iopub.status.busy": "2023-06-19T11:29:53.278075Z",
     "iopub.status.idle": "2023-06-19T11:30:02.448599Z",
     "shell.execute_reply": "2023-06-19T11:30:02.447524Z"
    },
    "papermill": {
     "duration": 9.190854,
     "end_time": "2023-06-19T11:30:02.450952",
     "exception": false,
     "start_time": "2023-06-19T11:29:53.260098",
     "status": "completed"
    },
    "tags": []
   },
   "outputs": [
    {
     "data": {
      "text/plain": [
       "ride_id                    0\n",
       "rideable_type              0\n",
       "started_at                 0\n",
       "ended_at                   0\n",
       "start_station_name    834545\n",
       "start_station_id      834677\n",
       "end_station_name      891757\n",
       "end_station_id        891898\n",
       "start_lat                  0\n",
       "start_lng                  0\n",
       "end_lat                 5961\n",
       "end_lng                 5961\n",
       "member_casual              0\n",
       "dtype: int64"
      ]
     },
     "execution_count": 10,
     "metadata": {},
     "output_type": "execute_result"
    }
   ],
   "source": [
    "#finding missing values\n",
    "df.isnull().sum()"
   ]
  },
  {
   "cell_type": "code",
   "execution_count": 11,
   "id": "5243ba2d",
   "metadata": {
    "execution": {
     "iopub.execute_input": "2023-06-19T11:30:02.487093Z",
     "iopub.status.busy": "2023-06-19T11:30:02.486066Z",
     "iopub.status.idle": "2023-06-19T11:30:11.604020Z",
     "shell.execute_reply": "2023-06-19T11:30:11.603152Z"
    },
    "papermill": {
     "duration": 9.13822,
     "end_time": "2023-06-19T11:30:11.606145",
     "exception": false,
     "start_time": "2023-06-19T11:30:02.467925",
     "status": "completed"
    },
    "tags": []
   },
   "outputs": [
    {
     "name": "stdout",
     "output_type": "stream",
     "text": [
      "There are 3464799 null value cells\n",
      "Null values account for 0.05 % in a dataframe\n"
     ]
    }
   ],
   "source": [
    "cell_is_null = df.isnull().sum().sum()\n",
    "total_cells_in_df = np.product(df.shape)\n",
    "percentage_of_null_values = round(cell_is_null/total_cells_in_df,2)\n",
    "print(\"There are {} null value cells\".format(cell_is_null))\n",
    "print(\"Null values account for {} % in a dataframe\".format(percentage_of_null_values))"
   ]
  },
  {
   "cell_type": "code",
   "execution_count": 12,
   "id": "2dbdadc5",
   "metadata": {
    "execution": {
     "iopub.execute_input": "2023-06-19T11:30:11.642528Z",
     "iopub.status.busy": "2023-06-19T11:30:11.641895Z",
     "iopub.status.idle": "2023-06-19T11:30:12.729827Z",
     "shell.execute_reply": "2023-06-19T11:30:12.728783Z"
    },
    "papermill": {
     "duration": 1.10918,
     "end_time": "2023-06-19T11:30:12.732479",
     "exception": false,
     "start_time": "2023-06-19T11:30:11.623299",
     "status": "completed"
    },
    "tags": []
   },
   "outputs": [],
   "source": [
    "# drop columns which are not relevant and especially to minimize the ram flow\n",
    "cols_to_del = [\"start_station_name\",\"start_station_id\",\n",
    "               \"end_station_name\",\"end_station_id\",\"start_lat\",\n",
    "               \"start_lng\",\"end_lat\",\"end_lng\"]\n",
    "df.drop(columns = cols_to_del , inplace=True)"
   ]
  },
  {
   "cell_type": "code",
   "execution_count": 13,
   "id": "2d931ac8",
   "metadata": {
    "execution": {
     "iopub.execute_input": "2023-06-19T11:30:12.769171Z",
     "iopub.status.busy": "2023-06-19T11:30:12.768780Z",
     "iopub.status.idle": "2023-06-19T11:30:12.781125Z",
     "shell.execute_reply": "2023-06-19T11:30:12.779987Z"
    },
    "papermill": {
     "duration": 0.033943,
     "end_time": "2023-06-19T11:30:12.783766",
     "exception": false,
     "start_time": "2023-06-19T11:30:12.749823",
     "status": "completed"
    },
    "tags": []
   },
   "outputs": [
    {
     "data": {
      "text/html": [
       "<div>\n",
       "<style scoped>\n",
       "    .dataframe tbody tr th:only-of-type {\n",
       "        vertical-align: middle;\n",
       "    }\n",
       "\n",
       "    .dataframe tbody tr th {\n",
       "        vertical-align: top;\n",
       "    }\n",
       "\n",
       "    .dataframe thead th {\n",
       "        text-align: right;\n",
       "    }\n",
       "</style>\n",
       "<table border=\"1\" class=\"dataframe\">\n",
       "  <thead>\n",
       "    <tr style=\"text-align: right;\">\n",
       "      <th></th>\n",
       "      <th>ride_id</th>\n",
       "      <th>rideable_type</th>\n",
       "      <th>started_at</th>\n",
       "      <th>ended_at</th>\n",
       "      <th>member_casual</th>\n",
       "    </tr>\n",
       "  </thead>\n",
       "  <tbody>\n",
       "    <tr>\n",
       "      <th>36909</th>\n",
       "      <td>C10099D850C7FC17</td>\n",
       "      <td>classic_bike</td>\n",
       "      <td>2022-06-01 00:00:04</td>\n",
       "      <td>2022-06-01 00:02:38</td>\n",
       "      <td>member</td>\n",
       "    </tr>\n",
       "    <tr>\n",
       "      <th>575584</th>\n",
       "      <td>09D24A3C16552534</td>\n",
       "      <td>electric_bike</td>\n",
       "      <td>2022-06-01 00:00:12</td>\n",
       "      <td>2022-06-01 00:13:00</td>\n",
       "      <td>casual</td>\n",
       "    </tr>\n",
       "    <tr>\n",
       "      <th>219244</th>\n",
       "      <td>75FA47BE49CA9CE1</td>\n",
       "      <td>electric_bike</td>\n",
       "      <td>2022-06-01 00:00:43</td>\n",
       "      <td>2022-06-01 00:19:15</td>\n",
       "      <td>member</td>\n",
       "    </tr>\n",
       "    <tr>\n",
       "      <th>401151</th>\n",
       "      <td>D6750D9CD9900AF6</td>\n",
       "      <td>electric_bike</td>\n",
       "      <td>2022-06-01 00:00:56</td>\n",
       "      <td>2022-06-01 00:10:45</td>\n",
       "      <td>casual</td>\n",
       "    </tr>\n",
       "    <tr>\n",
       "      <th>413755</th>\n",
       "      <td>1317CEA2652B7043</td>\n",
       "      <td>docked_bike</td>\n",
       "      <td>2022-06-01 00:01:12</td>\n",
       "      <td>2022-06-01 00:20:00</td>\n",
       "      <td>casual</td>\n",
       "    </tr>\n",
       "  </tbody>\n",
       "</table>\n",
       "</div>"
      ],
      "text/plain": [
       "                 ride_id  rideable_type           started_at  \\\n",
       "36909   C10099D850C7FC17   classic_bike  2022-06-01 00:00:04   \n",
       "575584  09D24A3C16552534  electric_bike  2022-06-01 00:00:12   \n",
       "219244  75FA47BE49CA9CE1  electric_bike  2022-06-01 00:00:43   \n",
       "401151  D6750D9CD9900AF6  electric_bike  2022-06-01 00:00:56   \n",
       "413755  1317CEA2652B7043    docked_bike  2022-06-01 00:01:12   \n",
       "\n",
       "                   ended_at member_casual  \n",
       "36909   2022-06-01 00:02:38        member  \n",
       "575584  2022-06-01 00:13:00        casual  \n",
       "219244  2022-06-01 00:19:15        member  \n",
       "401151  2022-06-01 00:10:45        casual  \n",
       "413755  2022-06-01 00:20:00        casual  "
      ]
     },
     "execution_count": 13,
     "metadata": {},
     "output_type": "execute_result"
    }
   ],
   "source": [
    "df.head(5)"
   ]
  },
  {
   "cell_type": "code",
   "execution_count": 14,
   "id": "ab410df3",
   "metadata": {
    "execution": {
     "iopub.execute_input": "2023-06-19T11:30:12.826468Z",
     "iopub.status.busy": "2023-06-19T11:30:12.825139Z",
     "iopub.status.idle": "2023-06-19T11:30:12.839463Z",
     "shell.execute_reply": "2023-06-19T11:30:12.837333Z"
    },
    "papermill": {
     "duration": 0.037746,
     "end_time": "2023-06-19T11:30:12.842924",
     "exception": false,
     "start_time": "2023-06-19T11:30:12.805178",
     "status": "completed"
    },
    "tags": []
   },
   "outputs": [
    {
     "name": "stdout",
     "output_type": "stream",
     "text": [
      "<class 'pandas.core.frame.DataFrame'>\n",
      "Int64Index: 5829030 entries, 36909 to 90732\n",
      "Data columns (total 5 columns):\n",
      " #   Column         Dtype \n",
      "---  ------         ----- \n",
      " 0   ride_id        object\n",
      " 1   rideable_type  object\n",
      " 2   started_at     object\n",
      " 3   ended_at       object\n",
      " 4   member_casual  object\n",
      "dtypes: object(5)\n",
      "memory usage: 266.8+ MB\n"
     ]
    }
   ],
   "source": [
    "df.info()\n",
    "# we see that started_at , ended_at are not being date time type\n",
    "# ride_id is likely to have spaces in each ID\n",
    "# rideable_type and member_casual must be converted to category type"
   ]
  },
  {
   "cell_type": "code",
   "execution_count": 15,
   "id": "d2221b96",
   "metadata": {
    "execution": {
     "iopub.execute_input": "2023-06-19T11:30:12.886759Z",
     "iopub.status.busy": "2023-06-19T11:30:12.885749Z",
     "iopub.status.idle": "2023-06-19T11:30:18.779794Z",
     "shell.execute_reply": "2023-06-19T11:30:18.778672Z"
    },
    "papermill": {
     "duration": 5.91847,
     "end_time": "2023-06-19T11:30:18.782491",
     "exception": false,
     "start_time": "2023-06-19T11:30:12.864021",
     "status": "completed"
    },
    "tags": []
   },
   "outputs": [],
   "source": [
    "# convert to datetime type\n",
    "convert_type_datetime = [\"started_at\",\"ended_at\"]\n",
    "for col in convert_type_datetime :\n",
    "    df[col] = pd.to_datetime(df[col])\n",
    "# convert to category type\n",
    "convert_type_category = {\"ride_id\": \"string\" ,\"rideable_type\" : \"category\" , \"member_casual\" : \"category\"}\n",
    "df = df.astype(convert_type_category)"
   ]
  },
  {
   "cell_type": "code",
   "execution_count": 16,
   "id": "32f090e1",
   "metadata": {
    "execution": {
     "iopub.execute_input": "2023-06-19T11:30:18.820035Z",
     "iopub.status.busy": "2023-06-19T11:30:18.818952Z",
     "iopub.status.idle": "2023-06-19T11:30:29.508188Z",
     "shell.execute_reply": "2023-06-19T11:30:29.507019Z"
    },
    "papermill": {
     "duration": 10.710447,
     "end_time": "2023-06-19T11:30:29.510886",
     "exception": false,
     "start_time": "2023-06-19T11:30:18.800439",
     "status": "completed"
    },
    "tags": []
   },
   "outputs": [],
   "source": [
    "#create year; month; day; hour columns to analyze\n",
    "df[\"year\"] = df[\"started_at\"].dt.year\n",
    "df[\"month\"] = df[\"started_at\"].dt.month_name()\n",
    "df[\"day\"] = df[\"started_at\"].dt.day_name()\n",
    "df[\"hour\"] = df[\"started_at\"].dt.hour\n",
    "\n",
    "#convert month; day to category type\n",
    "#Converting columns as much as possible the possible convert columns to category...\n",
    "# ..data type to memory optimization in analyze large data set case.\n",
    "months_in_year = ['January', 'February', 'March', 'April', 'May', 'June',\n",
    "                  'July', 'August', 'September', 'October', 'November', 'December']\n",
    "category_month = CategoricalDtype(categories = months_in_year, ordered =False)\n",
    "df[\"month\"] =df[\"month\"].astype(category_month)\n",
    "days_in_week = ['Sunday', 'Monday', 'Tuesday', 'Wednesday',\n",
    "                'Thursday', 'Friday', 'Saturday']\n",
    "category_day = CategoricalDtype(categories = days_in_week,ordered = False)\n",
    "df[\"day\"] = df[\"day\"].astype(category_day)\n",
    "\n",
    "# year ; hour columns should be became int32;int8 type\n",
    "df[\"year\"] = df[\"year\"].astype(\"int32\")\n",
    "df[\"hour\"] = df[\"hour\"].astype(\"int8\")\n",
    "\n",
    "# finally delete spaces between ride_id \n",
    "df[\"ride_id\"] = df[\"ride_id\"].str.strip()"
   ]
  },
  {
   "cell_type": "code",
   "execution_count": 17,
   "id": "ec4e3920",
   "metadata": {
    "execution": {
     "iopub.execute_input": "2023-06-19T11:30:29.547607Z",
     "iopub.status.busy": "2023-06-19T11:30:29.546942Z",
     "iopub.status.idle": "2023-06-19T11:30:29.558756Z",
     "shell.execute_reply": "2023-06-19T11:30:29.557929Z"
    },
    "papermill": {
     "duration": 0.03312,
     "end_time": "2023-06-19T11:30:29.561394",
     "exception": false,
     "start_time": "2023-06-19T11:30:29.528274",
     "status": "completed"
    },
    "tags": []
   },
   "outputs": [
    {
     "name": "stdout",
     "output_type": "stream",
     "text": [
      "<class 'pandas.core.frame.DataFrame'>\n",
      "Int64Index: 5829030 entries, 36909 to 90732\n",
      "Data columns (total 9 columns):\n",
      " #   Column         Dtype         \n",
      "---  ------         -----         \n",
      " 0   ride_id        string        \n",
      " 1   rideable_type  category      \n",
      " 2   started_at     datetime64[ns]\n",
      " 3   ended_at       datetime64[ns]\n",
      " 4   member_casual  category      \n",
      " 5   year           int32         \n",
      " 6   month          category      \n",
      " 7   day            category      \n",
      " 8   hour           int8          \n",
      "dtypes: category(4), datetime64[ns](2), int32(1), int8(1), string(1)\n",
      "memory usage: 227.9 MB\n"
     ]
    }
   ],
   "source": [
    "df.info()\n",
    "# check again infomations"
   ]
  },
  {
   "cell_type": "code",
   "execution_count": 18,
   "id": "f43d6d17",
   "metadata": {
    "execution": {
     "iopub.execute_input": "2023-06-19T11:30:29.598075Z",
     "iopub.status.busy": "2023-06-19T11:30:29.597662Z",
     "iopub.status.idle": "2023-06-19T11:30:37.800438Z",
     "shell.execute_reply": "2023-06-19T11:30:37.798551Z"
    },
    "papermill": {
     "duration": 8.224311,
     "end_time": "2023-06-19T11:30:37.803268",
     "exception": false,
     "start_time": "2023-06-19T11:30:29.578957",
     "status": "completed"
    },
    "tags": []
   },
   "outputs": [
    {
     "name": "stdout",
     "output_type": "stream",
     "text": [
      "<class 'pandas.core.frame.DataFrame'>\n",
      "Int64Index: 5829030 entries, 36909 to 90732\n",
      "Data columns (total 10 columns):\n",
      " #   Column         Dtype         \n",
      "---  ------         -----         \n",
      " 0   ride_id        string        \n",
      " 1   rideable_type  category      \n",
      " 2   started_at     datetime64[ns]\n",
      " 3   ended_at       datetime64[ns]\n",
      " 4   member_casual  category      \n",
      " 5   year           int32         \n",
      " 6   month          category      \n",
      " 7   day            category      \n",
      " 8   hour           int8          \n",
      " 9   ride_length    int64         \n",
      "dtypes: category(4), datetime64[ns](2), int32(1), int64(1), int8(1), string(1)\n",
      "memory usage: 272.4 MB\n",
      "None\n",
      "\n",
      "\n",
      "--------------------\n",
      "ride_id          [C10099D850C7FC17, 09D24A3C16552534, 75FA47BE4...\n",
      "rideable_type    ['classic_bike', 'electric_bike', 'docked_bike...\n",
      "started_at       [2022-06-01T00:00:04.000000000, 2022-06-01T00:...\n",
      "ended_at         [2022-06-01T00:02:38.000000000, 2022-06-01T00:...\n",
      "member_casual    ['member', 'casual']\n",
      "Categories (2, object): [...\n",
      "year                                                  [2022, 2023]\n",
      "month            ['June', 'July', 'August', 'September', 'Octob...\n",
      "day              ['Wednesday', 'Thursday', 'Friday', 'Saturday'...\n",
      "hour             [0, 1, 2, 3, 4, 5, 6, 7, 8, 9, 10, 11, 12, 13,...\n",
      "ride_length      [2, 12, 18, 9, 37, 33, 10, 482, 4, 23, 82, 19,...\n",
      "dtype: object\n",
      "\n",
      "\n",
      "--------------------\n",
      "Unique values of rideable_type are ['classic_bike', 'electric_bike', 'docked_bike']\n",
      "Categories (3, object): ['classic_bike', 'docked_bike', 'electric_bike']\n",
      "--------------------\n",
      "Unique values of month are ['June', 'July', 'August', 'September', 'October', ..., 'January', 'February', 'March', 'April', 'May']\n",
      "Length: 12\n",
      "Categories (12, object): ['January', 'February', 'March', 'April', ..., 'September', 'October', 'November', 'December']\n",
      "--------------------\n",
      "Unique values of day are ['Wednesday', 'Thursday', 'Friday', 'Saturday', 'Sunday', 'Monday', 'Tuesday']\n",
      "Categories (7, object): ['Sunday', 'Monday', 'Tuesday', 'Wednesday', 'Thursday', 'Friday', 'Saturday']\n",
      "--------------------\n",
      "Unique values of month are ['June', 'July', 'August', 'September', 'October', ..., 'January', 'February', 'March', 'April', 'May']\n",
      "Length: 12\n",
      "Categories (12, object): ['January', 'February', 'March', 'April', ..., 'September', 'October', 'November', 'December']\n",
      "--------------------\n",
      "Unique values of day are ['Wednesday', 'Thursday', 'Friday', 'Saturday', 'Sunday', 'Monday', 'Tuesday']\n",
      "Categories (7, object): ['Sunday', 'Monday', 'Tuesday', 'Wednesday', 'Thursday', 'Friday', 'Saturday']\n",
      "--------------------\n",
      "Unique values of hour are [ 0  1  2  3  4  5  6  7  8  9 10 11 12 13 14 15 16 17 18 19 20 21 22 23]\n",
      "--------------------\n"
     ]
    }
   ],
   "source": [
    "# create ride_length columns and convert delta time type to minutes\n",
    "df[\"ride_duration\"] = df[\"ended_at\"] - df[\"started_at\"]\n",
    "df[\"ride_length\"] = df[\"ride_duration\"]// pd.Timedelta(minutes=1)\n",
    "df.drop(columns = \"ride_duration\" , inplace=True)\n",
    "print(df.info())\n",
    "print(\"\\n\")\n",
    "print(\"-\"*20)\n",
    "\n",
    "# check unique values of each columns\n",
    "print(df.apply(lambda x : x.unique()))\n",
    "print(\"\\n\")\n",
    "print(\"-\"*20)\n",
    "\n",
    "# show unique values of some columns to check\n",
    "show_unique = [\"rideable_type\",\"month\",\"day\",\"month\",\"day\",\"hour\"]\n",
    "for col in show_unique:\n",
    "    print(\"Unique values of {} are {}\".format(col, df[col].unique()))\n",
    "    print(\"-\"*20)"
   ]
  },
  {
   "cell_type": "code",
   "execution_count": 19,
   "id": "7e1219ce",
   "metadata": {
    "execution": {
     "iopub.execute_input": "2023-06-19T11:30:37.840973Z",
     "iopub.status.busy": "2023-06-19T11:30:37.840553Z",
     "iopub.status.idle": "2023-06-19T11:30:37.855344Z",
     "shell.execute_reply": "2023-06-19T11:30:37.854300Z"
    },
    "papermill": {
     "duration": 0.036619,
     "end_time": "2023-06-19T11:30:37.857659",
     "exception": false,
     "start_time": "2023-06-19T11:30:37.821040",
     "status": "completed"
    },
    "tags": []
   },
   "outputs": [
    {
     "data": {
      "text/html": [
       "<div>\n",
       "<style scoped>\n",
       "    .dataframe tbody tr th:only-of-type {\n",
       "        vertical-align: middle;\n",
       "    }\n",
       "\n",
       "    .dataframe tbody tr th {\n",
       "        vertical-align: top;\n",
       "    }\n",
       "\n",
       "    .dataframe thead th {\n",
       "        text-align: right;\n",
       "    }\n",
       "</style>\n",
       "<table border=\"1\" class=\"dataframe\">\n",
       "  <thead>\n",
       "    <tr style=\"text-align: right;\">\n",
       "      <th></th>\n",
       "      <th>ride_id</th>\n",
       "      <th>rideable_type</th>\n",
       "      <th>started_at</th>\n",
       "      <th>ended_at</th>\n",
       "      <th>member_casual</th>\n",
       "      <th>year</th>\n",
       "      <th>month</th>\n",
       "      <th>day</th>\n",
       "      <th>hour</th>\n",
       "      <th>ride_length</th>\n",
       "    </tr>\n",
       "  </thead>\n",
       "  <tbody>\n",
       "    <tr>\n",
       "      <th>36909</th>\n",
       "      <td>C10099D850C7FC17</td>\n",
       "      <td>classic_bike</td>\n",
       "      <td>2022-06-01 00:00:04</td>\n",
       "      <td>2022-06-01 00:02:38</td>\n",
       "      <td>member</td>\n",
       "      <td>2022</td>\n",
       "      <td>June</td>\n",
       "      <td>Wednesday</td>\n",
       "      <td>0</td>\n",
       "      <td>2</td>\n",
       "    </tr>\n",
       "    <tr>\n",
       "      <th>575584</th>\n",
       "      <td>09D24A3C16552534</td>\n",
       "      <td>electric_bike</td>\n",
       "      <td>2022-06-01 00:00:12</td>\n",
       "      <td>2022-06-01 00:13:00</td>\n",
       "      <td>casual</td>\n",
       "      <td>2022</td>\n",
       "      <td>June</td>\n",
       "      <td>Wednesday</td>\n",
       "      <td>0</td>\n",
       "      <td>12</td>\n",
       "    </tr>\n",
       "    <tr>\n",
       "      <th>219244</th>\n",
       "      <td>75FA47BE49CA9CE1</td>\n",
       "      <td>electric_bike</td>\n",
       "      <td>2022-06-01 00:00:43</td>\n",
       "      <td>2022-06-01 00:19:15</td>\n",
       "      <td>member</td>\n",
       "      <td>2022</td>\n",
       "      <td>June</td>\n",
       "      <td>Wednesday</td>\n",
       "      <td>0</td>\n",
       "      <td>18</td>\n",
       "    </tr>\n",
       "    <tr>\n",
       "      <th>401151</th>\n",
       "      <td>D6750D9CD9900AF6</td>\n",
       "      <td>electric_bike</td>\n",
       "      <td>2022-06-01 00:00:56</td>\n",
       "      <td>2022-06-01 00:10:45</td>\n",
       "      <td>casual</td>\n",
       "      <td>2022</td>\n",
       "      <td>June</td>\n",
       "      <td>Wednesday</td>\n",
       "      <td>0</td>\n",
       "      <td>9</td>\n",
       "    </tr>\n",
       "    <tr>\n",
       "      <th>413755</th>\n",
       "      <td>1317CEA2652B7043</td>\n",
       "      <td>docked_bike</td>\n",
       "      <td>2022-06-01 00:01:12</td>\n",
       "      <td>2022-06-01 00:20:00</td>\n",
       "      <td>casual</td>\n",
       "      <td>2022</td>\n",
       "      <td>June</td>\n",
       "      <td>Wednesday</td>\n",
       "      <td>0</td>\n",
       "      <td>18</td>\n",
       "    </tr>\n",
       "  </tbody>\n",
       "</table>\n",
       "</div>"
      ],
      "text/plain": [
       "                 ride_id  rideable_type          started_at  \\\n",
       "36909   C10099D850C7FC17   classic_bike 2022-06-01 00:00:04   \n",
       "575584  09D24A3C16552534  electric_bike 2022-06-01 00:00:12   \n",
       "219244  75FA47BE49CA9CE1  electric_bike 2022-06-01 00:00:43   \n",
       "401151  D6750D9CD9900AF6  electric_bike 2022-06-01 00:00:56   \n",
       "413755  1317CEA2652B7043    docked_bike 2022-06-01 00:01:12   \n",
       "\n",
       "                  ended_at member_casual  year month        day  hour  \\\n",
       "36909  2022-06-01 00:02:38        member  2022  June  Wednesday     0   \n",
       "575584 2022-06-01 00:13:00        casual  2022  June  Wednesday     0   \n",
       "219244 2022-06-01 00:19:15        member  2022  June  Wednesday     0   \n",
       "401151 2022-06-01 00:10:45        casual  2022  June  Wednesday     0   \n",
       "413755 2022-06-01 00:20:00        casual  2022  June  Wednesday     0   \n",
       "\n",
       "        ride_length  \n",
       "36909             2  \n",
       "575584           12  \n",
       "219244           18  \n",
       "401151            9  \n",
       "413755           18  "
      ]
     },
     "execution_count": 19,
     "metadata": {},
     "output_type": "execute_result"
    }
   ],
   "source": [
    "df.head(5)"
   ]
  },
  {
   "cell_type": "code",
   "execution_count": 20,
   "id": "7da98b4f",
   "metadata": {
    "execution": {
     "iopub.execute_input": "2023-06-19T11:30:37.895301Z",
     "iopub.status.busy": "2023-06-19T11:30:37.894947Z",
     "iopub.status.idle": "2023-06-19T11:30:38.054479Z",
     "shell.execute_reply": "2023-06-19T11:30:38.053446Z"
    },
    "papermill": {
     "duration": 0.18116,
     "end_time": "2023-06-19T11:30:38.056739",
     "exception": false,
     "start_time": "2023-06-19T11:30:37.875579",
     "status": "completed"
    },
    "tags": []
   },
   "outputs": [
    {
     "data": {
      "text/plain": [
       "ride_id          145973\n",
       "rideable_type    145973\n",
       "started_at       145973\n",
       "ended_at         145973\n",
       "member_casual    145973\n",
       "year             145973\n",
       "month            145973\n",
       "day              145973\n",
       "hour             145973\n",
       "ride_length      145973\n",
       "dtype: int64"
      ]
     },
     "execution_count": 20,
     "metadata": {},
     "output_type": "execute_result"
    }
   ],
   "source": [
    "# drop records have ride_length have value less than 1 munute\n",
    "df[df[\"ride_length\"] <1].count()"
   ]
  },
  {
   "cell_type": "code",
   "execution_count": 21,
   "id": "2bc0c4e3",
   "metadata": {
    "execution": {
     "iopub.execute_input": "2023-06-19T11:30:38.094922Z",
     "iopub.status.busy": "2023-06-19T11:30:38.093956Z",
     "iopub.status.idle": "2023-06-19T11:30:38.994293Z",
     "shell.execute_reply": "2023-06-19T11:30:38.993072Z"
    },
    "papermill": {
     "duration": 0.922341,
     "end_time": "2023-06-19T11:30:38.996988",
     "exception": false,
     "start_time": "2023-06-19T11:30:38.074647",
     "status": "completed"
    },
    "tags": []
   },
   "outputs": [],
   "source": [
    "#take df which have ride_length has ride_length larger than or equal 1 minute\n",
    "df = df[df[\"ride_length\"] >= 1]"
   ]
  },
  {
   "cell_type": "code",
   "execution_count": 22,
   "id": "67664a3b",
   "metadata": {
    "execution": {
     "iopub.execute_input": "2023-06-19T11:30:39.034848Z",
     "iopub.status.busy": "2023-06-19T11:30:39.034426Z",
     "iopub.status.idle": "2023-06-19T11:30:40.050452Z",
     "shell.execute_reply": "2023-06-19T11:30:40.049215Z"
    },
    "papermill": {
     "duration": 1.037919,
     "end_time": "2023-06-19T11:30:40.053077",
     "exception": false,
     "start_time": "2023-06-19T11:30:39.015158",
     "status": "completed"
    },
    "tags": []
   },
   "outputs": [],
   "source": [
    "# take df have records that the time not over the 2023/06/01\n",
    "now = pd.Timestamp(\"2023-06-01\")\n",
    "df = df[df[\"ended_at\"] < now]"
   ]
  },
  {
   "cell_type": "code",
   "execution_count": 23,
   "id": "d8f23941",
   "metadata": {
    "execution": {
     "iopub.execute_input": "2023-06-19T11:30:40.091861Z",
     "iopub.status.busy": "2023-06-19T11:30:40.091420Z",
     "iopub.status.idle": "2023-06-19T11:30:40.970707Z",
     "shell.execute_reply": "2023-06-19T11:30:40.969961Z"
    },
    "papermill": {
     "duration": 0.901372,
     "end_time": "2023-06-19T11:30:40.973199",
     "exception": false,
     "start_time": "2023-06-19T11:30:40.071827",
     "status": "completed"
    },
    "tags": []
   },
   "outputs": [
    {
     "data": {
      "text/plain": [
       "ride_id          0\n",
       "rideable_type    0\n",
       "started_at       0\n",
       "ended_at         0\n",
       "member_casual    0\n",
       "year             0\n",
       "month            0\n",
       "day              0\n",
       "hour             0\n",
       "ride_length      0\n",
       "dtype: int64"
      ]
     },
     "execution_count": 23,
     "metadata": {},
     "output_type": "execute_result"
    }
   ],
   "source": [
    "df.isnull().sum()\n",
    "# check null"
   ]
  },
  {
   "cell_type": "code",
   "execution_count": 24,
   "id": "3fcf78a5",
   "metadata": {
    "execution": {
     "iopub.execute_input": "2023-06-19T11:30:41.012193Z",
     "iopub.status.busy": "2023-06-19T11:30:41.011271Z",
     "iopub.status.idle": "2023-06-19T11:30:45.623713Z",
     "shell.execute_reply": "2023-06-19T11:30:45.622622Z"
    },
    "papermill": {
     "duration": 4.634188,
     "end_time": "2023-06-19T11:30:45.626093",
     "exception": false,
     "start_time": "2023-06-19T11:30:40.991905",
     "status": "completed"
    },
    "tags": []
   },
   "outputs": [
    {
     "data": {
      "text/plain": [
       "0"
      ]
     },
     "execution_count": 24,
     "metadata": {},
     "output_type": "execute_result"
    }
   ],
   "source": [
    "df[\"ride_id\"].duplicated().sum()\n",
    "# check duplicate ride_id"
   ]
  },
  {
   "cell_type": "markdown",
   "id": "a048700e",
   "metadata": {
    "papermill": {
     "duration": 0.018229,
     "end_time": "2023-06-19T11:30:45.663462",
     "exception": false,
     "start_time": "2023-06-19T11:30:45.645233",
     "status": "completed"
    },
    "tags": []
   },
   "source": [
    "### 4.3. Let Analyze and Visualize "
   ]
  },
  {
   "cell_type": "markdown",
   "id": "cd12bc37",
   "metadata": {
    "papermill": {
     "duration": 0.018676,
     "end_time": "2023-06-19T11:30:45.701185",
     "exception": false,
     "start_time": "2023-06-19T11:30:45.682509",
     "status": "completed"
    },
    "tags": []
   },
   "source": [
    "#### **4.3.1. BOX PLOT TO DETERMINE THE DISTRIBUTION OF MEMBER AND CASUAL IN TERM OF RIDE LENGTH**"
   ]
  },
  {
   "cell_type": "code",
   "execution_count": 25,
   "id": "98f6815d",
   "metadata": {
    "execution": {
     "iopub.execute_input": "2023-06-19T11:30:45.740767Z",
     "iopub.status.busy": "2023-06-19T11:30:45.740303Z",
     "iopub.status.idle": "2023-06-19T11:30:48.085343Z",
     "shell.execute_reply": "2023-06-19T11:30:48.083983Z"
    },
    "papermill": {
     "duration": 2.367695,
     "end_time": "2023-06-19T11:30:48.087672",
     "exception": false,
     "start_time": "2023-06-19T11:30:45.719977",
     "status": "completed"
    },
    "tags": []
   },
   "outputs": [
    {
     "name": "stdout",
     "output_type": "stream",
     "text": [
      "Mode of member riders length : \n",
      "0    4\n",
      "Name: ride_length, dtype: int64\n",
      "--------------------------------------------------\n",
      "Mode of casual riders length : \n",
      "0    6\n",
      "Name: ride_length, dtype: int64\n",
      "--------------------------------------------------\n",
      "Summary of statistical results of ride length of casual riders :\n",
      "count    3.424733e+06\n",
      "mean     1.230084e+01\n",
      "std      2.945996e+01\n",
      "min      1.000000e+00\n",
      "25%      5.000000e+00\n",
      "50%      8.000000e+00\n",
      "75%      1.500000e+01\n",
      "max      1.559000e+03\n",
      "Name: ride_length, dtype: float64\n",
      "--------------------------------------------------\n",
      "Summary of statistical results of ride length of member riders :\n",
      "count    2.258200e+06\n",
      "mean     2.823601e+01\n",
      "std      2.762797e+02\n",
      "min      1.000000e+00\n",
      "25%      7.000000e+00\n",
      "50%      1.200000e+01\n",
      "75%      2.300000e+01\n",
      "max      4.138700e+04\n",
      "Name: ride_length, dtype: float64\n"
     ]
    }
   ],
   "source": [
    "print(\"Mode of member riders length : \")\n",
    "print(df[df[\"member_casual\"] == \"member\"][\"ride_length\"].mode())\n",
    "print(\"-\"*50)\n",
    "print(\"Mode of casual riders length : \")\n",
    "print(df[df[\"member_casual\"] == \"casual\"][\"ride_length\"].mode())\n",
    "print(\"-\"*50)\n",
    "print(\"Summary of statistical results of ride length of casual riders :\")\n",
    "print(df[df[\"member_casual\"] == \"member\"][\"ride_length\"].describe())\n",
    "print(\"-\"*50)\n",
    "print(\"Summary of statistical results of ride length of member riders :\")\n",
    "print(df[df[\"member_casual\"] == \"casual\"][\"ride_length\"].describe())\n"
   ]
  },
  {
   "cell_type": "code",
   "execution_count": 26,
   "id": "1d49a4ed",
   "metadata": {
    "execution": {
     "iopub.execute_input": "2023-06-19T11:30:48.126585Z",
     "iopub.status.busy": "2023-06-19T11:30:48.126218Z",
     "iopub.status.idle": "2023-06-19T11:30:49.520211Z",
     "shell.execute_reply": "2023-06-19T11:30:49.518930Z"
    },
    "papermill": {
     "duration": 1.416358,
     "end_time": "2023-06-19T11:30:49.522683",
     "exception": false,
     "start_time": "2023-06-19T11:30:48.106325",
     "status": "completed"
    },
    "tags": []
   },
   "outputs": [
    {
     "data": {
      "image/png": "[encoded data removed]",
      "text/plain": [
       "<Figure size 1200x500 with 1 Axes>"
      ]
     },
     "metadata": {},
     "output_type": "display_data"
    }
   ],
   "source": [
    "plt.figure(figsize = (12,5))\n",
    "plt.title(\"Distribution of ride length in term of member and casual rider types\")\n",
    "sns.boxplot(df, x=\"member_casual\", y= \"ride_length\" , palette=[\"#F8766D\", \"#00BA38\"])\n",
    "plt.xlabel(\"Casual/Member\")\n",
    "plt.ylabel(\"No. of ride length\")\n",
    "plt.show()"
   ]
  },
  {
   "cell_type": "markdown",
   "id": "1972dd0c",
   "metadata": {
    "papermill": {
     "duration": 0.019477,
     "end_time": "2023-06-19T11:30:49.561959",
     "exception": false,
     "start_time": "2023-06-19T11:30:49.542482",
     "status": "completed"
    },
    "tags": []
   },
   "source": [
    "*=> Its can be seen that the most casual riders use this services in the the long time , more ride duration larger than 2 hours compared to the most member riders , some casuals use serives in almostly (10000 -39000) minutes ~ (10-27) days*"
   ]
  },
  {
   "cell_type": "markdown",
   "id": "288a3694",
   "metadata": {
    "papermill": {
     "duration": 0.020084,
     "end_time": "2023-06-19T11:30:49.601747",
     "exception": false,
     "start_time": "2023-06-19T11:30:49.581663",
     "status": "completed"
    },
    "tags": []
   },
   "source": [
    "#### **4.3.2. FIND DIFFERENCES BETWEEN NUMBER OF MEMBERS AND CASUALS OVER THE PERIOD / THE MONTHS / MONTHS AND YEARS**"
   ]
  },
  {
   "cell_type": "markdown",
   "id": "185124f0",
   "metadata": {
    "papermill": {
     "duration": 0.018877,
     "end_time": "2023-06-19T11:30:49.639847",
     "exception": false,
     "start_time": "2023-06-19T11:30:49.620970",
     "status": "completed"
    },
    "tags": []
   },
   "source": [
    "a. Over the period"
   ]
  },
  {
   "cell_type": "code",
   "execution_count": 27,
   "id": "ae1457d9",
   "metadata": {
    "execution": {
     "iopub.execute_input": "2023-06-19T11:30:49.680327Z",
     "iopub.status.busy": "2023-06-19T11:30:49.679552Z",
     "iopub.status.idle": "2023-06-19T11:30:55.809667Z",
     "shell.execute_reply": "2023-06-19T11:30:55.808603Z"
    },
    "papermill": {
     "duration": 6.153212,
     "end_time": "2023-06-19T11:30:55.812104",
     "exception": false,
     "start_time": "2023-06-19T11:30:49.658892",
     "status": "completed"
    },
    "tags": []
   },
   "outputs": [
    {
     "name": "stdout",
     "output_type": "stream",
     "text": [
      "                 count\n",
      "               ride_id\n",
      "member_casual         \n",
      "casual         2258200\n",
      "member         3424733\n",
      "Total Count    5682933\n",
      "----------------------------------------\n"
     ]
    },
    {
     "data": {
      "text/html": [
       "        <script type=\"text/javascript\">\n",
       "        window.PlotlyConfig = {MathJaxConfig: 'local'};\n",
       "        if (window.MathJax && window.MathJax.Hub && window.MathJax.Hub.Config) {window.MathJax.Hub.Config({SVG: {font: \"STIX-Web\"}});}\n",
       "        if (typeof require !== 'undefined') {\n",
       "        require.undef(\"plotly\");\n",
       "        requirejs.config({\n",
       "            paths: {\n",
       "                'plotly': ['https://cdn.plot.ly/plotly-2.20.0.min']\n",
       "            }\n",
       "        });\n",
       "        require(['plotly'], function(Plotly) {\n",
       "            window._Plotly = Plotly;\n",
       "        });\n",
       "        }\n",
       "        </script>\n",
       "        "
      ]
     },
     "metadata": {},
     "output_type": "display_data"
    },
    {
     "data": {
      "text/html": [
       "<div>                            <div id=\"43f4a39c-496b-499d-826b-798b72848021\" class=\"plotly-graph-div\" style=\"height:525px; width:100%;\"></div>            <script type=\"text/javascript\">                require([\"plotly\"], function(Plotly) {                    window.PLOTLYENV=window.PLOTLYENV || {};                                    if (document.getElementById(\"43f4a39c-496b-499d-826b-798b72848021\")) {                    Plotly.newPlot(                        \"43f4a39c-496b-499d-826b-798b72848021\",                        [{\"domain\":{\"x\":[0.0,1.0],\"y\":[0.0,1.0]},\"hovertemplate\":\"Member/Casual=%{label}<br>No. of Riders=%{value}<extra></extra>\",\"labels\":[\"casual\",\"member\"],\"legendgroup\":\"\",\"name\":\"\",\"showlegend\":true,\"values\":[2258200,3424733],\"type\":\"pie\"}],                        {\"template\":{\"data\":{\"histogram2dcontour\":[{\"type\":\"histogram2dcontour\",\"colorbar\":{\"outlinewidth\":0,\"ticks\":\"\"},\"colorscale\":[[0.0,\"#0d0887\"],[0.1111111111111111,\"#46039f\"],[0.2222222222222222,\"#7201a8\"],[0.3333333333333333,\"#9c179e\"],[0.4444444444444444,\"#bd3786\"],[0.5555555555555556,\"#d8576b\"],[0.6666666666666666,\"#ed7953\"],[0.7777777777777778,\"#fb9f3a\"],[0.8888888888888888,\"#fdca26\"],[1.0,\"#f0f921\"]]}],\"choropleth\":[{\"type\":\"choropleth\",\"colorbar\":{\"outlinewidth\":0,\"ticks\":\"\"}}],\"histogram2d\":[{\"type\":\"histogram2d\",\"colorbar\":{\"outlinewidth\":0,\"ticks\":\"\"},\"colorscale\":[[0.0,\"#0d0887\"],[0.1111111111111111,\"#46039f\"],[0.2222222222222222,\"#7201a8\"],[0.3333333333333333,\"#9c179e\"],[0.4444444444444444,\"#bd3786\"],[0.5555555555555556,\"#d8576b\"],[0.6666666666666666,\"#ed7953\"],[0.7777777777777778,\"#fb9f3a\"],[0.8888888888888888,\"#fdca26\"],[1.0,\"#f0f921\"]]}],\"heatmap\":[{\"type\":\"heatmap\",\"colorbar\":{\"outlinewidth\":0,\"ticks\":\"\"},\"colorscale\":[[0.0,\"#0d0887\"],[0.1111111111111111,\"#46039f\"],[0.2222222222222222,\"#7201a8\"],[0.3333333333333333,\"#9c179e\"],[0.4444444444444444,\"#bd3786\"],[0.5555555555555556,\"#d8576b\"],[0.6666666666666666,\"#ed7953\"],[0.7777777777777778,\"#fb9f3a\"],[0.8888888888888888,\"#fdca26\"],[1.0,\"#f0f921\"]]}],\"heatmapgl\":[{\"type\":\"heatmapgl\",\"colorbar\":{\"outlinewidth\":0,\"ticks\":\"\"},\"colorscale\":[[0.0,\"#0d0887\"],[0.1111111111111111,\"#46039f\"],[0.2222222222222222,\"#7201a8\"],[0.3333333333333333,\"#9c179e\"],[0.4444444444444444,\"#bd3786\"],[0.5555555555555556,\"#d8576b\"],[0.6666666666666666,\"#ed7953\"],[0.7777777777777778,\"#fb9f3a\"],[0.8888888888888888,\"#fdca26\"],[1.0,\"#f0f921\"]]}],\"contourcarpet\":[{\"type\":\"contourcarpet\",\"colorbar\":{\"outlinewidth\":0,\"ticks\":\"\"}}],\"contour\":[{\"type\":\"contour\",\"colorbar\":{\"outlinewidth\":0,\"ticks\":\"\"},\"colorscale\":[[0.0,\"#0d0887\"],[0.1111111111111111,\"#46039f\"],[0.2222222222222222,\"#7201a8\"],[0.3333333333333333,\"#9c179e\"],[0.4444444444444444,\"#bd3786\"],[0.5555555555555556,\"#d8576b\"],[0.6666666666666666,\"#ed7953\"],[0.7777777777777778,\"#fb9f3a\"],[0.8888888888888888,\"#fdca26\"],[1.0,\"#f0f921\"]]}],\"surface\":[{\"type\":\"surface\",\"colorbar\":{\"outlinewidth\":0,\"ticks\":\"\"},\"colorscale\":[[0.0,\"#0d0887\"],[0.1111111111111111,\"#46039f\"],[0.2222222222222222,\"#7201a8\"],[0.3333333333333333,\"#9c179e\"],[0.4444444444444444,\"#bd3786\"],[0.5555555555555556,\"#d8576b\"],[0.6666666666666666,\"#ed7953\"],[0.7777777777777778,\"#fb9f3a\"],[0.8888888888888888,\"#fdca26\"],[1.0,\"#f0f921\"]]}],\"mesh3d\":[{\"type\":\"mesh3d\",\"colorbar\":{\"outlinewidth\":0,\"ticks\":\"\"}}],\"scatter\":[{\"fillpattern\":{\"fillmode\":\"overlay\",\"size\":10,\"solidity\":0.2},\"type\":\"scatter\"}],\"parcoords\":[{\"type\":\"parcoords\",\"line\":{\"colorbar\":{\"outlinewidth\":0,\"ticks\":\"\"}}}],\"scatterpolargl\":[{\"type\":\"scatterpolargl\",\"marker\":{\"colorbar\":{\"outlinewidth\":0,\"ticks\":\"\"}}}],\"bar\":[{\"error_x\":{\"color\":\"#2a3f5f\"},\"error_y\":{\"color\":\"#2a3f5f\"},\"marker\":{\"line\":{\"color\":\"#E5ECF6\",\"width\":0.5},\"pattern\":{\"fillmode\":\"overlay\",\"size\":10,\"solidity\":0.2}},\"type\":\"bar\"}],\"scattergeo\":[{\"type\":\"scattergeo\",\"marker\":{\"colorbar\":{\"outlinewidth\":0,\"ticks\":\"\"}}}],\"scatterpolar\":[{\"type\":\"scatterpolar\",\"marker\":{\"colorbar\":{\"outlinewidth\":0,\"ticks\":\"\"}}}],\"histogram\":[{\"marker\":{\"pattern\":{\"fillmode\":\"overlay\",\"size\":10,\"solidity\":0.2}},\"type\":\"histogram\"}],\"scattergl\":[{\"type\":\"scattergl\",\"marker\":{\"colorbar\":{\"outlinewidth\":0,\"ticks\":\"\"}}}],\"scatter3d\":[{\"type\":\"scatter3d\",\"line\":{\"colorbar\":{\"outlinewidth\":0,\"ticks\":\"\"}},\"marker\":{\"colorbar\":{\"outlinewidth\":0,\"ticks\":\"\"}}}],\"scattermapbox\":[{\"type\":\"scattermapbox\",\"marker\":{\"colorbar\":{\"outlinewidth\":0,\"ticks\":\"\"}}}],\"scatterternary\":[{\"type\":\"scatterternary\",\"marker\":{\"colorbar\":{\"outlinewidth\":0,\"ticks\":\"\"}}}],\"scattercarpet\":[{\"type\":\"scattercarpet\",\"marker\":{\"colorbar\":{\"outlinewidth\":0,\"ticks\":\"\"}}}],\"carpet\":[{\"aaxis\":{\"endlinecolor\":\"#2a3f5f\",\"gridcolor\":\"white\",\"linecolor\":\"white\",\"minorgridcolor\":\"white\",\"startlinecolor\":\"#2a3f5f\"},\"baxis\":{\"endlinecolor\":\"#2a3f5f\",\"gridcolor\":\"white\",\"linecolor\":\"white\",\"minorgridcolor\":\"white\",\"startlinecolor\":\"#2a3f5f\"},\"type\":\"carpet\"}],\"table\":[{\"cells\":{\"fill\":{\"color\":\"#EBF0F8\"},\"line\":{\"color\":\"white\"}},\"header\":{\"fill\":{\"color\":\"#C8D4E3\"},\"line\":{\"color\":\"white\"}},\"type\":\"table\"}],\"barpolar\":[{\"marker\":{\"line\":{\"color\":\"#E5ECF6\",\"width\":0.5},\"pattern\":{\"fillmode\":\"overlay\",\"size\":10,\"solidity\":0.2}},\"type\":\"barpolar\"}],\"pie\":[{\"automargin\":true,\"type\":\"pie\"}]},\"layout\":{\"autotypenumbers\":\"strict\",\"colorway\":[\"#636efa\",\"#EF553B\",\"#00cc96\",\"#ab63fa\",\"#FFA15A\",\"#19d3f3\",\"#FF6692\",\"#B6E880\",\"#FF97FF\",\"#FECB52\"],\"font\":{\"color\":\"#2a3f5f\"},\"hovermode\":\"closest\",\"hoverlabel\":{\"align\":\"left\"},\"paper_bgcolor\":\"white\",\"plot_bgcolor\":\"#E5ECF6\",\"polar\":{\"bgcolor\":\"#E5ECF6\",\"angularaxis\":{\"gridcolor\":\"white\",\"linecolor\":\"white\",\"ticks\":\"\"},\"radialaxis\":{\"gridcolor\":\"white\",\"linecolor\":\"white\",\"ticks\":\"\"}},\"ternary\":{\"bgcolor\":\"#E5ECF6\",\"aaxis\":{\"gridcolor\":\"white\",\"linecolor\":\"white\",\"ticks\":\"\"},\"baxis\":{\"gridcolor\":\"white\",\"linecolor\":\"white\",\"ticks\":\"\"},\"caxis\":{\"gridcolor\":\"white\",\"linecolor\":\"white\",\"ticks\":\"\"}},\"coloraxis\":{\"colorbar\":{\"outlinewidth\":0,\"ticks\":\"\"}},\"colorscale\":{\"sequential\":[[0.0,\"#0d0887\"],[0.1111111111111111,\"#46039f\"],[0.2222222222222222,\"#7201a8\"],[0.3333333333333333,\"#9c179e\"],[0.4444444444444444,\"#bd3786\"],[0.5555555555555556,\"#d8576b\"],[0.6666666666666666,\"#ed7953\"],[0.7777777777777778,\"#fb9f3a\"],[0.8888888888888888,\"#fdca26\"],[1.0,\"#f0f921\"]],\"sequentialminus\":[[0.0,\"#0d0887\"],[0.1111111111111111,\"#46039f\"],[0.2222222222222222,\"#7201a8\"],[0.3333333333333333,\"#9c179e\"],[0.4444444444444444,\"#bd3786\"],[0.5555555555555556,\"#d8576b\"],[0.6666666666666666,\"#ed7953\"],[0.7777777777777778,\"#fb9f3a\"],[0.8888888888888888,\"#fdca26\"],[1.0,\"#f0f921\"]],\"diverging\":[[0,\"#8e0152\"],[0.1,\"#c51b7d\"],[0.2,\"#de77ae\"],[0.3,\"#f1b6da\"],[0.4,\"#fde0ef\"],[0.5,\"#f7f7f7\"],[0.6,\"#e6f5d0\"],[0.7,\"#b8e186\"],[0.8,\"#7fbc41\"],[0.9,\"#4d9221\"],[1,\"#276419\"]]},\"xaxis\":{\"gridcolor\":\"white\",\"linecolor\":\"white\",\"ticks\":\"\",\"title\":{\"standoff\":15},\"zerolinecolor\":\"white\",\"automargin\":true,\"zerolinewidth\":2},\"yaxis\":{\"gridcolor\":\"white\",\"linecolor\":\"white\",\"ticks\":\"\",\"title\":{\"standoff\":15},\"zerolinecolor\":\"white\",\"automargin\":true,\"zerolinewidth\":2},\"scene\":{\"xaxis\":{\"backgroundcolor\":\"#E5ECF6\",\"gridcolor\":\"white\",\"linecolor\":\"white\",\"showbackground\":true,\"ticks\":\"\",\"zerolinecolor\":\"white\",\"gridwidth\":2},\"yaxis\":{\"backgroundcolor\":\"#E5ECF6\",\"gridcolor\":\"white\",\"linecolor\":\"white\",\"showbackground\":true,\"ticks\":\"\",\"zerolinecolor\":\"white\",\"gridwidth\":2},\"zaxis\":{\"backgroundcolor\":\"#E5ECF6\",\"gridcolor\":\"white\",\"linecolor\":\"white\",\"showbackground\":true,\"ticks\":\"\",\"zerolinecolor\":\"white\",\"gridwidth\":2}},\"shapedefaults\":{\"line\":{\"color\":\"#2a3f5f\"}},\"annotationdefaults\":{\"arrowcolor\":\"#2a3f5f\",\"arrowhead\":0,\"arrowwidth\":1},\"geo\":{\"bgcolor\":\"white\",\"landcolor\":\"#E5ECF6\",\"subunitcolor\":\"white\",\"showland\":true,\"showlakes\":true,\"lakecolor\":\"white\"},\"title\":{\"x\":0.05},\"mapbox\":{\"style\":\"light\"}}},\"legend\":{\"tracegroupgap\":0},\"title\":{\"text\":\"Riders Counted From 6/2022 - 5/2023\"}},                        {\"responsive\": true}                    ).then(function(){\n",
       "                            \n",
       "var gd = document.getElementById('43f4a39c-496b-499d-826b-798b72848021');\n",
       "var x = new MutationObserver(function (mutations, observer) {{\n",
       "        var display = window.getComputedStyle(gd).display;\n",
       "        if (!display || display === 'none') {{\n",
       "            console.log([gd, 'removed!']);\n",
       "            Plotly.purge(gd);\n",
       "            observer.disconnect();\n",
       "        }}\n",
       "}});\n",
       "\n",
       "// Listen for the removal of the full notebook cells\n",
       "var notebookContainer = gd.closest('#notebook-container');\n",
       "if (notebookContainer) {{\n",
       "    x.observe(notebookContainer, {childList: true});\n",
       "}}\n",
       "\n",
       "// Listen for the clearing of the current output cell\n",
       "var outputEl = gd.closest('.output');\n",
       "if (outputEl) {{\n",
       "    x.observe(outputEl, {childList: true});\n",
       "}}\n",
       "\n",
       "                        })                };                });            </script>        </div>"
      ]
     },
     "metadata": {},
     "output_type": "display_data"
    }
   ],
   "source": [
    "pivot1 = df.pivot_table(\n",
    "                        index = \"member_casual\",\n",
    "                        values = \"ride_id\",\n",
    "                        aggfunc = [\"count\"],\n",
    "                        margins = True,\n",
    "                        margins_name = \"Total Count\"\n",
    "        )\n",
    "print(pivot1)\n",
    "print(\"-\"*40)\n",
    "group1 = df.groupby(\"member_casual\", as_index = False).count()\n",
    "group1 = group1.query(\"ride_id !=0\")\n",
    "fig = px.pie(group1,\n",
    "            values = \"ride_id\",\n",
    "            names = \"member_casual\",\n",
    "            \n",
    "            title = \"Riders Counted From 6/2022 - 5/2023\",\n",
    "            labels = {\"member_casual\" : \"Member/Casual\", \"ride_id\":\"No. of Riders\"}\n",
    "            )\n",
    "fig.show()"
   ]
  },
  {
   "cell_type": "markdown",
   "id": "3945142a",
   "metadata": {
    "papermill": {
     "duration": 0.019508,
     "end_time": "2023-06-19T11:30:55.851651",
     "exception": false,
     "start_time": "2023-06-19T11:30:55.832143",
     "status": "completed"
    },
    "tags": []
   },
   "source": [
    "*=> In the period June 2022 to May 2023 , it can be seen that casuals account for 39,77% (2.26 M riders) , meanwhile , member account for 60,23% (3.42 M riders).*"
   ]
  },
  {
   "cell_type": "markdown",
   "id": "d89eeed2",
   "metadata": {
    "papermill": {
     "duration": 0.019051,
     "end_time": "2023-06-19T11:30:55.890096",
     "exception": false,
     "start_time": "2023-06-19T11:30:55.871045",
     "status": "completed"
    },
    "tags": []
   },
   "source": [
    "b. Over the month "
   ]
  },
  {
   "cell_type": "code",
   "execution_count": 28,
   "id": "cbb2d220",
   "metadata": {
    "execution": {
     "iopub.execute_input": "2023-06-19T11:30:55.930765Z",
     "iopub.status.busy": "2023-06-19T11:30:55.930009Z",
     "iopub.status.idle": "2023-06-19T11:31:00.886831Z",
     "shell.execute_reply": "2023-06-19T11:31:00.885707Z"
    },
    "papermill": {
     "duration": 4.979737,
     "end_time": "2023-06-19T11:31:00.889147",
     "exception": false,
     "start_time": "2023-06-19T11:30:55.909410",
     "status": "completed"
    },
    "tags": []
   },
   "outputs": [
    {
     "name": "stdout",
     "output_type": "stream",
     "text": [
      "                             count\n",
      "                           ride_id\n",
      "month       member_casual         \n",
      "January     casual           38837\n",
      "            member          145276\n",
      "February    casual           41818\n",
      "            member          142626\n",
      "March       casual           60279\n",
      "            member          189322\n",
      "April       casual          142521\n",
      "            member          269086\n",
      "May         casual          227286\n",
      "            member          359545\n",
      "June        casual          361929\n",
      "            member          391891\n",
      "July        casual          397648\n",
      "            member          408026\n",
      "August      casual          351164\n",
      "            member          417206\n",
      "September   casual          290384\n",
      "            member          395425\n",
      "October     casual          204205\n",
      "            member          341370\n",
      "November    casual           98383\n",
      "            member          231675\n",
      "December    casual           43746\n",
      "            member          133285\n",
      "Total Count                5682933\n",
      "----------------------------------------\n"
     ]
    },
    {
     "data": {
      "text/html": [
       "<div>                            <div id=\"6b70baf8-f16b-48fa-b905-8078d56b94eb\" class=\"plotly-graph-div\" style=\"height:525px; width:100%;\"></div>            <script type=\"text/javascript\">                require([\"plotly\"], function(Plotly) {                    window.PLOTLYENV=window.PLOTLYENV || {};                                    if (document.getElementById(\"6b70baf8-f16b-48fa-b905-8078d56b94eb\")) {                    Plotly.newPlot(                        \"6b70baf8-f16b-48fa-b905-8078d56b94eb\",                        [{\"hovertemplate\":\"member_casual=casual<br>month=%{x}<br>ride_id=%{y}<extra></extra>\",\"legendgroup\":\"casual\",\"line\":{\"color\":\"#636efa\",\"dash\":\"solid\"},\"marker\":{\"symbol\":\"circle\"},\"mode\":\"markers+lines\",\"name\":\"casual\",\"orientation\":\"v\",\"showlegend\":true,\"x\":[\"January\",\"February\",\"March\",\"April\",\"May\",\"June\",\"July\",\"August\",\"September\",\"October\",\"November\",\"December\"],\"xaxis\":\"x\",\"y\":[38837,41818,60279,142521,227286,361929,397648,351164,290384,204205,98383,43746],\"yaxis\":\"y\",\"type\":\"scatter\"},{\"hovertemplate\":\"member_casual=member<br>month=%{x}<br>ride_id=%{y}<extra></extra>\",\"legendgroup\":\"member\",\"line\":{\"color\":\"#EF553B\",\"dash\":\"solid\"},\"marker\":{\"symbol\":\"circle\"},\"mode\":\"markers+lines\",\"name\":\"member\",\"orientation\":\"v\",\"showlegend\":true,\"x\":[\"January\",\"February\",\"March\",\"April\",\"May\",\"June\",\"July\",\"August\",\"September\",\"October\",\"November\",\"December\"],\"xaxis\":\"x\",\"y\":[145276,142626,189322,269086,359545,391891,408026,417206,395425,341370,231675,133285],\"yaxis\":\"y\",\"type\":\"scatter\"}],                        {\"template\":{\"data\":{\"histogram2dcontour\":[{\"type\":\"histogram2dcontour\",\"colorbar\":{\"outlinewidth\":0,\"ticks\":\"\"},\"colorscale\":[[0.0,\"#0d0887\"],[0.1111111111111111,\"#46039f\"],[0.2222222222222222,\"#7201a8\"],[0.3333333333333333,\"#9c179e\"],[0.4444444444444444,\"#bd3786\"],[0.5555555555555556,\"#d8576b\"],[0.6666666666666666,\"#ed7953\"],[0.7777777777777778,\"#fb9f3a\"],[0.8888888888888888,\"#fdca26\"],[1.0,\"#f0f921\"]]}],\"choropleth\":[{\"type\":\"choropleth\",\"colorbar\":{\"outlinewidth\":0,\"ticks\":\"\"}}],\"histogram2d\":[{\"type\":\"histogram2d\",\"colorbar\":{\"outlinewidth\":0,\"ticks\":\"\"},\"colorscale\":[[0.0,\"#0d0887\"],[0.1111111111111111,\"#46039f\"],[0.2222222222222222,\"#7201a8\"],[0.3333333333333333,\"#9c179e\"],[0.4444444444444444,\"#bd3786\"],[0.5555555555555556,\"#d8576b\"],[0.6666666666666666,\"#ed7953\"],[0.7777777777777778,\"#fb9f3a\"],[0.8888888888888888,\"#fdca26\"],[1.0,\"#f0f921\"]]}],\"heatmap\":[{\"type\":\"heatmap\",\"colorbar\":{\"outlinewidth\":0,\"ticks\":\"\"},\"colorscale\":[[0.0,\"#0d0887\"],[0.1111111111111111,\"#46039f\"],[0.2222222222222222,\"#7201a8\"],[0.3333333333333333,\"#9c179e\"],[0.4444444444444444,\"#bd3786\"],[0.5555555555555556,\"#d8576b\"],[0.6666666666666666,\"#ed7953\"],[0.7777777777777778,\"#fb9f3a\"],[0.8888888888888888,\"#fdca26\"],[1.0,\"#f0f921\"]]}],\"heatmapgl\":[{\"type\":\"heatmapgl\",\"colorbar\":{\"outlinewidth\":0,\"ticks\":\"\"},\"colorscale\":[[0.0,\"#0d0887\"],[0.1111111111111111,\"#46039f\"],[0.2222222222222222,\"#7201a8\"],[0.3333333333333333,\"#9c179e\"],[0.4444444444444444,\"#bd3786\"],[0.5555555555555556,\"#d8576b\"],[0.6666666666666666,\"#ed7953\"],[0.7777777777777778,\"#fb9f3a\"],[0.8888888888888888,\"#fdca26\"],[1.0,\"#f0f921\"]]}],\"contourcarpet\":[{\"type\":\"contourcarpet\",\"colorbar\":{\"outlinewidth\":0,\"ticks\":\"\"}}],\"contour\":[{\"type\":\"contour\",\"colorbar\":{\"outlinewidth\":0,\"ticks\":\"\"},\"colorscale\":[[0.0,\"#0d0887\"],[0.1111111111111111,\"#46039f\"],[0.2222222222222222,\"#7201a8\"],[0.3333333333333333,\"#9c179e\"],[0.4444444444444444,\"#bd3786\"],[0.5555555555555556,\"#d8576b\"],[0.6666666666666666,\"#ed7953\"],[0.7777777777777778,\"#fb9f3a\"],[0.8888888888888888,\"#fdca26\"],[1.0,\"#f0f921\"]]}],\"surface\":[{\"type\":\"surface\",\"colorbar\":{\"outlinewidth\":0,\"ticks\":\"\"},\"colorscale\":[[0.0,\"#0d0887\"],[0.1111111111111111,\"#46039f\"],[0.2222222222222222,\"#7201a8\"],[0.3333333333333333,\"#9c179e\"],[0.4444444444444444,\"#bd3786\"],[0.5555555555555556,\"#d8576b\"],[0.6666666666666666,\"#ed7953\"],[0.7777777777777778,\"#fb9f3a\"],[0.8888888888888888,\"#fdca26\"],[1.0,\"#f0f921\"]]}],\"mesh3d\":[{\"type\":\"mesh3d\",\"colorbar\":{\"outlinewidth\":0,\"ticks\":\"\"}}],\"scatter\":[{\"fillpattern\":{\"fillmode\":\"overlay\",\"size\":10,\"solidity\":0.2},\"type\":\"scatter\"}],\"parcoords\":[{\"type\":\"parcoords\",\"line\":{\"colorbar\":{\"outlinewidth\":0,\"ticks\":\"\"}}}],\"scatterpolargl\":[{\"type\":\"scatterpolargl\",\"marker\":{\"colorbar\":{\"outlinewidth\":0,\"ticks\":\"\"}}}],\"bar\":[{\"error_x\":{\"color\":\"#2a3f5f\"},\"error_y\":{\"color\":\"#2a3f5f\"},\"marker\":{\"line\":{\"color\":\"#E5ECF6\",\"width\":0.5},\"pattern\":{\"fillmode\":\"overlay\",\"size\":10,\"solidity\":0.2}},\"type\":\"bar\"}],\"scattergeo\":[{\"type\":\"scattergeo\",\"marker\":{\"colorbar\":{\"outlinewidth\":0,\"ticks\":\"\"}}}],\"scatterpolar\":[{\"type\":\"scatterpolar\",\"marker\":{\"colorbar\":{\"outlinewidth\":0,\"ticks\":\"\"}}}],\"histogram\":[{\"marker\":{\"pattern\":{\"fillmode\":\"overlay\",\"size\":10,\"solidity\":0.2}},\"type\":\"histogram\"}],\"scattergl\":[{\"type\":\"scattergl\",\"marker\":{\"colorbar\":{\"outlinewidth\":0,\"ticks\":\"\"}}}],\"scatter3d\":[{\"type\":\"scatter3d\",\"line\":{\"colorbar\":{\"outlinewidth\":0,\"ticks\":\"\"}},\"marker\":{\"colorbar\":{\"outlinewidth\":0,\"ticks\":\"\"}}}],\"scattermapbox\":[{\"type\":\"scattermapbox\",\"marker\":{\"colorbar\":{\"outlinewidth\":0,\"ticks\":\"\"}}}],\"scatterternary\":[{\"type\":\"scatterternary\",\"marker\":{\"colorbar\":{\"outlinewidth\":0,\"ticks\":\"\"}}}],\"scattercarpet\":[{\"type\":\"scattercarpet\",\"marker\":{\"colorbar\":{\"outlinewidth\":0,\"ticks\":\"\"}}}],\"carpet\":[{\"aaxis\":{\"endlinecolor\":\"#2a3f5f\",\"gridcolor\":\"white\",\"linecolor\":\"white\",\"minorgridcolor\":\"white\",\"startlinecolor\":\"#2a3f5f\"},\"baxis\":{\"endlinecolor\":\"#2a3f5f\",\"gridcolor\":\"white\",\"linecolor\":\"white\",\"minorgridcolor\":\"white\",\"startlinecolor\":\"#2a3f5f\"},\"type\":\"carpet\"}],\"table\":[{\"cells\":{\"fill\":{\"color\":\"#EBF0F8\"},\"line\":{\"color\":\"white\"}},\"header\":{\"fill\":{\"color\":\"#C8D4E3\"},\"line\":{\"color\":\"white\"}},\"type\":\"table\"}],\"barpolar\":[{\"marker\":{\"line\":{\"color\":\"#E5ECF6\",\"width\":0.5},\"pattern\":{\"fillmode\":\"overlay\",\"size\":10,\"solidity\":0.2}},\"type\":\"barpolar\"}],\"pie\":[{\"automargin\":true,\"type\":\"pie\"}]},\"layout\":{\"autotypenumbers\":\"strict\",\"colorway\":[\"#636efa\",\"#EF553B\",\"#00cc96\",\"#ab63fa\",\"#FFA15A\",\"#19d3f3\",\"#FF6692\",\"#B6E880\",\"#FF97FF\",\"#FECB52\"],\"font\":{\"color\":\"#2a3f5f\"},\"hovermode\":\"closest\",\"hoverlabel\":{\"align\":\"left\"},\"paper_bgcolor\":\"white\",\"plot_bgcolor\":\"#E5ECF6\",\"polar\":{\"bgcolor\":\"#E5ECF6\",\"angularaxis\":{\"gridcolor\":\"white\",\"linecolor\":\"white\",\"ticks\":\"\"},\"radialaxis\":{\"gridcolor\":\"white\",\"linecolor\":\"white\",\"ticks\":\"\"}},\"ternary\":{\"bgcolor\":\"#E5ECF6\",\"aaxis\":{\"gridcolor\":\"white\",\"linecolor\":\"white\",\"ticks\":\"\"},\"baxis\":{\"gridcolor\":\"white\",\"linecolor\":\"white\",\"ticks\":\"\"},\"caxis\":{\"gridcolor\":\"white\",\"linecolor\":\"white\",\"ticks\":\"\"}},\"coloraxis\":{\"colorbar\":{\"outlinewidth\":0,\"ticks\":\"\"}},\"colorscale\":{\"sequential\":[[0.0,\"#0d0887\"],[0.1111111111111111,\"#46039f\"],[0.2222222222222222,\"#7201a8\"],[0.3333333333333333,\"#9c179e\"],[0.4444444444444444,\"#bd3786\"],[0.5555555555555556,\"#d8576b\"],[0.6666666666666666,\"#ed7953\"],[0.7777777777777778,\"#fb9f3a\"],[0.8888888888888888,\"#fdca26\"],[1.0,\"#f0f921\"]],\"sequentialminus\":[[0.0,\"#0d0887\"],[0.1111111111111111,\"#46039f\"],[0.2222222222222222,\"#7201a8\"],[0.3333333333333333,\"#9c179e\"],[0.4444444444444444,\"#bd3786\"],[0.5555555555555556,\"#d8576b\"],[0.6666666666666666,\"#ed7953\"],[0.7777777777777778,\"#fb9f3a\"],[0.8888888888888888,\"#fdca26\"],[1.0,\"#f0f921\"]],\"diverging\":[[0,\"#8e0152\"],[0.1,\"#c51b7d\"],[0.2,\"#de77ae\"],[0.3,\"#f1b6da\"],[0.4,\"#fde0ef\"],[0.5,\"#f7f7f7\"],[0.6,\"#e6f5d0\"],[0.7,\"#b8e186\"],[0.8,\"#7fbc41\"],[0.9,\"#4d9221\"],[1,\"#276419\"]]},\"xaxis\":{\"gridcolor\":\"white\",\"linecolor\":\"white\",\"ticks\":\"\",\"title\":{\"standoff\":15},\"zerolinecolor\":\"white\",\"automargin\":true,\"zerolinewidth\":2},\"yaxis\":{\"gridcolor\":\"white\",\"linecolor\":\"white\",\"ticks\":\"\",\"title\":{\"standoff\":15},\"zerolinecolor\":\"white\",\"automargin\":true,\"zerolinewidth\":2},\"scene\":{\"xaxis\":{\"backgroundcolor\":\"#E5ECF6\",\"gridcolor\":\"white\",\"linecolor\":\"white\",\"showbackground\":true,\"ticks\":\"\",\"zerolinecolor\":\"white\",\"gridwidth\":2},\"yaxis\":{\"backgroundcolor\":\"#E5ECF6\",\"gridcolor\":\"white\",\"linecolor\":\"white\",\"showbackground\":true,\"ticks\":\"\",\"zerolinecolor\":\"white\",\"gridwidth\":2},\"zaxis\":{\"backgroundcolor\":\"#E5ECF6\",\"gridcolor\":\"white\",\"linecolor\":\"white\",\"showbackground\":true,\"ticks\":\"\",\"zerolinecolor\":\"white\",\"gridwidth\":2}},\"shapedefaults\":{\"line\":{\"color\":\"#2a3f5f\"}},\"annotationdefaults\":{\"arrowcolor\":\"#2a3f5f\",\"arrowhead\":0,\"arrowwidth\":1},\"geo\":{\"bgcolor\":\"white\",\"landcolor\":\"#E5ECF6\",\"subunitcolor\":\"white\",\"showland\":true,\"showlakes\":true,\"lakecolor\":\"white\"},\"title\":{\"x\":0.05},\"mapbox\":{\"style\":\"light\"}}},\"xaxis\":{\"anchor\":\"y\",\"domain\":[0.0,1.0],\"title\":{\"text\":\"month\"}},\"yaxis\":{\"anchor\":\"x\",\"domain\":[0.0,1.0],\"title\":{\"text\":\"ride_id\"}},\"legend\":{\"title\":{\"text\":\"member_casual\"},\"tracegroupgap\":0},\"title\":{\"text\":\"Member/Casual in term of Months \"}},                        {\"responsive\": true}                    ).then(function(){\n",
       "                            \n",
       "var gd = document.getElementById('6b70baf8-f16b-48fa-b905-8078d56b94eb');\n",
       "var x = new MutationObserver(function (mutations, observer) {{\n",
       "        var display = window.getComputedStyle(gd).display;\n",
       "        if (!display || display === 'none') {{\n",
       "            console.log([gd, 'removed!']);\n",
       "            Plotly.purge(gd);\n",
       "            observer.disconnect();\n",
       "        }}\n",
       "}});\n",
       "\n",
       "// Listen for the removal of the full notebook cells\n",
       "var notebookContainer = gd.closest('#notebook-container');\n",
       "if (notebookContainer) {{\n",
       "    x.observe(notebookContainer, {childList: true});\n",
       "}}\n",
       "\n",
       "// Listen for the clearing of the current output cell\n",
       "var outputEl = gd.closest('.output');\n",
       "if (outputEl) {{\n",
       "    x.observe(outputEl, {childList: true});\n",
       "}}\n",
       "\n",
       "                        })                };                });            </script>        </div>"
      ]
     },
     "metadata": {},
     "output_type": "display_data"
    }
   ],
   "source": [
    "pivot2 = df.pivot_table(\n",
    "                        index = [\"month\",\"member_casual\"],\n",
    "                        values =\"ride_id\",\n",
    "                        aggfunc = [\"count\"],\n",
    "                        margins =True,\n",
    "                        margins_name = \"Total Count\"\n",
    "                        )\n",
    "print(pivot2)\n",
    "print(\"-\"*40)\n",
    "group2 = df.groupby([\"month\",\"member_casual\"], as_index = False).count()\n",
    "group2 = group2.query(\"ride_id !=0\")\n",
    "fig = px.line(group2 ,\n",
    "              x=\"month\" , \n",
    "              y= \"ride_id\", \n",
    "              color = \"member_casual\",\n",
    "              markers = True,\n",
    "              title = \"Member/Casual in term of Months \")\n",
    "fig.show()"
   ]
  },
  {
   "cell_type": "markdown",
   "id": "1b3a5504",
   "metadata": {
    "papermill": {
     "duration": 0.019738,
     "end_time": "2023-06-19T11:31:00.929318",
     "exception": false,
     "start_time": "2023-06-19T11:31:00.909580",
     "status": "completed"
    },
    "tags": []
   },
   "source": [
    "* Over the months from 6/2022 to 5/2023 , total number of riders tend to fall dramatically in the winter season and rise during summer season (between May and Agust) .\n",
    "* The behaviour of both member and casual tend to be the same as the season changes .\n",
    "* Maxium riders are likely using bikes in summer season . With casual riders , it peaks at July with (397,6 K riders) , meanwhile , member riders peak at August with 417,2 K riders .\n",
    "* Member riders always overtake the casual members."
   ]
  },
  {
   "cell_type": "markdown",
   "id": "91d64f27",
   "metadata": {
    "papermill": {
     "duration": 0.019432,
     "end_time": "2023-06-19T11:31:00.968570",
     "exception": false,
     "start_time": "2023-06-19T11:31:00.949138",
     "status": "completed"
    },
    "tags": []
   },
   "source": [
    "c. Over the years/months"
   ]
  },
  {
   "cell_type": "code",
   "execution_count": 29,
   "id": "67bb4f51",
   "metadata": {
    "execution": {
     "iopub.execute_input": "2023-06-19T11:31:01.010904Z",
     "iopub.status.busy": "2023-06-19T11:31:01.010208Z",
     "iopub.status.idle": "2023-06-19T11:31:05.961763Z",
     "shell.execute_reply": "2023-06-19T11:31:05.960774Z"
    },
    "papermill": {
     "duration": 4.975366,
     "end_time": "2023-06-19T11:31:05.963827",
     "exception": false,
     "start_time": "2023-06-19T11:31:00.988461",
     "status": "completed"
    },
    "tags": []
   },
   "outputs": [
    {
     "name": "stdout",
     "output_type": "stream",
     "text": [
      "                                       count\n",
      "                                     ride_id\n",
      "year        month     member_casual         \n",
      "2022        June      casual          361929\n",
      "                      member          391891\n",
      "            July      casual          397648\n",
      "                      member          408026\n",
      "            August    casual          351164\n",
      "                      member          417206\n",
      "            September casual          290384\n",
      "                      member          395425\n",
      "            October   casual          204205\n",
      "                      member          341370\n",
      "            November  casual           98383\n",
      "                      member          231675\n",
      "            December  casual           43746\n",
      "                      member          133285\n",
      "2023        January   casual           38837\n",
      "                      member          145276\n",
      "            February  casual           41818\n",
      "                      member          142626\n",
      "            March     casual           60279\n",
      "                      member          189322\n",
      "            April     casual          142521\n",
      "                      member          269086\n",
      "            May       casual          227286\n",
      "                      member          359545\n",
      "Total Count                          5682933\n",
      "----------------------------------------\n"
     ]
    },
    {
     "data": {
      "text/html": [
       "<div>                            <div id=\"068c6e63-760d-44b0-a211-e954aa20d1fd\" class=\"plotly-graph-div\" style=\"height:525px; width:100%;\"></div>            <script type=\"text/javascript\">                require([\"plotly\"], function(Plotly) {                    window.PLOTLYENV=window.PLOTLYENV || {};                                    if (document.getElementById(\"068c6e63-760d-44b0-a211-e954aa20d1fd\")) {                    Plotly.newPlot(                        \"068c6e63-760d-44b0-a211-e954aa20d1fd\",                        [{\"marker\":{\"color\":\"blue\"},\"mode\":\"lines+markers\",\"name\":\"2022\",\"x\":[\"June\",\"June\",\"July\",\"July\",\"August\",\"August\",\"September\",\"September\",\"October\",\"October\",\"November\",\"November\",\"December\",\"December\"],\"y\":[361929,391891,397648,408026,351164,417206,290384,395425,204205,341370,98383,231675,43746,133285],\"type\":\"scatter\",\"xaxis\":\"x\",\"yaxis\":\"y\"},{\"marker\":{\"color\":\"green\"},\"mode\":\"lines+markers\",\"name\":\"2023\",\"x\":[\"January\",\"January\",\"February\",\"February\",\"March\",\"March\",\"April\",\"April\",\"May\",\"May\"],\"y\":[38837,145276,41818,142626,60279,189322,142521,269086,227286,359545],\"type\":\"scatter\",\"xaxis\":\"x2\",\"yaxis\":\"y2\"}],                        {\"template\":{\"data\":{\"histogram2dcontour\":[{\"type\":\"histogram2dcontour\",\"colorbar\":{\"outlinewidth\":0,\"ticks\":\"\"},\"colorscale\":[[0.0,\"#0d0887\"],[0.1111111111111111,\"#46039f\"],[0.2222222222222222,\"#7201a8\"],[0.3333333333333333,\"#9c179e\"],[0.4444444444444444,\"#bd3786\"],[0.5555555555555556,\"#d8576b\"],[0.6666666666666666,\"#ed7953\"],[0.7777777777777778,\"#fb9f3a\"],[0.8888888888888888,\"#fdca26\"],[1.0,\"#f0f921\"]]}],\"choropleth\":[{\"type\":\"choropleth\",\"colorbar\":{\"outlinewidth\":0,\"ticks\":\"\"}}],\"histogram2d\":[{\"type\":\"histogram2d\",\"colorbar\":{\"outlinewidth\":0,\"ticks\":\"\"},\"colorscale\":[[0.0,\"#0d0887\"],[0.1111111111111111,\"#46039f\"],[0.2222222222222222,\"#7201a8\"],[0.3333333333333333,\"#9c179e\"],[0.4444444444444444,\"#bd3786\"],[0.5555555555555556,\"#d8576b\"],[0.6666666666666666,\"#ed7953\"],[0.7777777777777778,\"#fb9f3a\"],[0.8888888888888888,\"#fdca26\"],[1.0,\"#f0f921\"]]}],\"heatmap\":[{\"type\":\"heatmap\",\"colorbar\":{\"outlinewidth\":0,\"ticks\":\"\"},\"colorscale\":[[0.0,\"#0d0887\"],[0.1111111111111111,\"#46039f\"],[0.2222222222222222,\"#7201a8\"],[0.3333333333333333,\"#9c179e\"],[0.4444444444444444,\"#bd3786\"],[0.5555555555555556,\"#d8576b\"],[0.6666666666666666,\"#ed7953\"],[0.7777777777777778,\"#fb9f3a\"],[0.8888888888888888,\"#fdca26\"],[1.0,\"#f0f921\"]]}],\"heatmapgl\":[{\"type\":\"heatmapgl\",\"colorbar\":{\"outlinewidth\":0,\"ticks\":\"\"},\"colorscale\":[[0.0,\"#0d0887\"],[0.1111111111111111,\"#46039f\"],[0.2222222222222222,\"#7201a8\"],[0.3333333333333333,\"#9c179e\"],[0.4444444444444444,\"#bd3786\"],[0.5555555555555556,\"#d8576b\"],[0.6666666666666666,\"#ed7953\"],[0.7777777777777778,\"#fb9f3a\"],[0.8888888888888888,\"#fdca26\"],[1.0,\"#f0f921\"]]}],\"contourcarpet\":[{\"type\":\"contourcarpet\",\"colorbar\":{\"outlinewidth\":0,\"ticks\":\"\"}}],\"contour\":[{\"type\":\"contour\",\"colorbar\":{\"outlinewidth\":0,\"ticks\":\"\"},\"colorscale\":[[0.0,\"#0d0887\"],[0.1111111111111111,\"#46039f\"],[0.2222222222222222,\"#7201a8\"],[0.3333333333333333,\"#9c179e\"],[0.4444444444444444,\"#bd3786\"],[0.5555555555555556,\"#d8576b\"],[0.6666666666666666,\"#ed7953\"],[0.7777777777777778,\"#fb9f3a\"],[0.8888888888888888,\"#fdca26\"],[1.0,\"#f0f921\"]]}],\"surface\":[{\"type\":\"surface\",\"colorbar\":{\"outlinewidth\":0,\"ticks\":\"\"},\"colorscale\":[[0.0,\"#0d0887\"],[0.1111111111111111,\"#46039f\"],[0.2222222222222222,\"#7201a8\"],[0.3333333333333333,\"#9c179e\"],[0.4444444444444444,\"#bd3786\"],[0.5555555555555556,\"#d8576b\"],[0.6666666666666666,\"#ed7953\"],[0.7777777777777778,\"#fb9f3a\"],[0.8888888888888888,\"#fdca26\"],[1.0,\"#f0f921\"]]}],\"mesh3d\":[{\"type\":\"mesh3d\",\"colorbar\":{\"outlinewidth\":0,\"ticks\":\"\"}}],\"scatter\":[{\"fillpattern\":{\"fillmode\":\"overlay\",\"size\":10,\"solidity\":0.2},\"type\":\"scatter\"}],\"parcoords\":[{\"type\":\"parcoords\",\"line\":{\"colorbar\":{\"outlinewidth\":0,\"ticks\":\"\"}}}],\"scatterpolargl\":[{\"type\":\"scatterpolargl\",\"marker\":{\"colorbar\":{\"outlinewidth\":0,\"ticks\":\"\"}}}],\"bar\":[{\"error_x\":{\"color\":\"#2a3f5f\"},\"error_y\":{\"color\":\"#2a3f5f\"},\"marker\":{\"line\":{\"color\":\"#E5ECF6\",\"width\":0.5},\"pattern\":{\"fillmode\":\"overlay\",\"size\":10,\"solidity\":0.2}},\"type\":\"bar\"}],\"scattergeo\":[{\"type\":\"scattergeo\",\"marker\":{\"colorbar\":{\"outlinewidth\":0,\"ticks\":\"\"}}}],\"scatterpolar\":[{\"type\":\"scatterpolar\",\"marker\":{\"colorbar\":{\"outlinewidth\":0,\"ticks\":\"\"}}}],\"histogram\":[{\"marker\":{\"pattern\":{\"fillmode\":\"overlay\",\"size\":10,\"solidity\":0.2}},\"type\":\"histogram\"}],\"scattergl\":[{\"type\":\"scattergl\",\"marker\":{\"colorbar\":{\"outlinewidth\":0,\"ticks\":\"\"}}}],\"scatter3d\":[{\"type\":\"scatter3d\",\"line\":{\"colorbar\":{\"outlinewidth\":0,\"ticks\":\"\"}},\"marker\":{\"colorbar\":{\"outlinewidth\":0,\"ticks\":\"\"}}}],\"scattermapbox\":[{\"type\":\"scattermapbox\",\"marker\":{\"colorbar\":{\"outlinewidth\":0,\"ticks\":\"\"}}}],\"scatterternary\":[{\"type\":\"scatterternary\",\"marker\":{\"colorbar\":{\"outlinewidth\":0,\"ticks\":\"\"}}}],\"scattercarpet\":[{\"type\":\"scattercarpet\",\"marker\":{\"colorbar\":{\"outlinewidth\":0,\"ticks\":\"\"}}}],\"carpet\":[{\"aaxis\":{\"endlinecolor\":\"#2a3f5f\",\"gridcolor\":\"white\",\"linecolor\":\"white\",\"minorgridcolor\":\"white\",\"startlinecolor\":\"#2a3f5f\"},\"baxis\":{\"endlinecolor\":\"#2a3f5f\",\"gridcolor\":\"white\",\"linecolor\":\"white\",\"minorgridcolor\":\"white\",\"startlinecolor\":\"#2a3f5f\"},\"type\":\"carpet\"}],\"table\":[{\"cells\":{\"fill\":{\"color\":\"#EBF0F8\"},\"line\":{\"color\":\"white\"}},\"header\":{\"fill\":{\"color\":\"#C8D4E3\"},\"line\":{\"color\":\"white\"}},\"type\":\"table\"}],\"barpolar\":[{\"marker\":{\"line\":{\"color\":\"#E5ECF6\",\"width\":0.5},\"pattern\":{\"fillmode\":\"overlay\",\"size\":10,\"solidity\":0.2}},\"type\":\"barpolar\"}],\"pie\":[{\"automargin\":true,\"type\":\"pie\"}]},\"layout\":{\"autotypenumbers\":\"strict\",\"colorway\":[\"#636efa\",\"#EF553B\",\"#00cc96\",\"#ab63fa\",\"#FFA15A\",\"#19d3f3\",\"#FF6692\",\"#B6E880\",\"#FF97FF\",\"#FECB52\"],\"font\":{\"color\":\"#2a3f5f\"},\"hovermode\":\"closest\",\"hoverlabel\":{\"align\":\"left\"},\"paper_bgcolor\":\"white\",\"plot_bgcolor\":\"#E5ECF6\",\"polar\":{\"bgcolor\":\"#E5ECF6\",\"angularaxis\":{\"gridcolor\":\"white\",\"linecolor\":\"white\",\"ticks\":\"\"},\"radialaxis\":{\"gridcolor\":\"white\",\"linecolor\":\"white\",\"ticks\":\"\"}},\"ternary\":{\"bgcolor\":\"#E5ECF6\",\"aaxis\":{\"gridcolor\":\"white\",\"linecolor\":\"white\",\"ticks\":\"\"},\"baxis\":{\"gridcolor\":\"white\",\"linecolor\":\"white\",\"ticks\":\"\"},\"caxis\":{\"gridcolor\":\"white\",\"linecolor\":\"white\",\"ticks\":\"\"}},\"coloraxis\":{\"colorbar\":{\"outlinewidth\":0,\"ticks\":\"\"}},\"colorscale\":{\"sequential\":[[0.0,\"#0d0887\"],[0.1111111111111111,\"#46039f\"],[0.2222222222222222,\"#7201a8\"],[0.3333333333333333,\"#9c179e\"],[0.4444444444444444,\"#bd3786\"],[0.5555555555555556,\"#d8576b\"],[0.6666666666666666,\"#ed7953\"],[0.7777777777777778,\"#fb9f3a\"],[0.8888888888888888,\"#fdca26\"],[1.0,\"#f0f921\"]],\"sequentialminus\":[[0.0,\"#0d0887\"],[0.1111111111111111,\"#46039f\"],[0.2222222222222222,\"#7201a8\"],[0.3333333333333333,\"#9c179e\"],[0.4444444444444444,\"#bd3786\"],[0.5555555555555556,\"#d8576b\"],[0.6666666666666666,\"#ed7953\"],[0.7777777777777778,\"#fb9f3a\"],[0.8888888888888888,\"#fdca26\"],[1.0,\"#f0f921\"]],\"diverging\":[[0,\"#8e0152\"],[0.1,\"#c51b7d\"],[0.2,\"#de77ae\"],[0.3,\"#f1b6da\"],[0.4,\"#fde0ef\"],[0.5,\"#f7f7f7\"],[0.6,\"#e6f5d0\"],[0.7,\"#b8e186\"],[0.8,\"#7fbc41\"],[0.9,\"#4d9221\"],[1,\"#276419\"]]},\"xaxis\":{\"gridcolor\":\"white\",\"linecolor\":\"white\",\"ticks\":\"\",\"title\":{\"standoff\":15},\"zerolinecolor\":\"white\",\"automargin\":true,\"zerolinewidth\":2},\"yaxis\":{\"gridcolor\":\"white\",\"linecolor\":\"white\",\"ticks\":\"\",\"title\":{\"standoff\":15},\"zerolinecolor\":\"white\",\"automargin\":true,\"zerolinewidth\":2},\"scene\":{\"xaxis\":{\"backgroundcolor\":\"#E5ECF6\",\"gridcolor\":\"white\",\"linecolor\":\"white\",\"showbackground\":true,\"ticks\":\"\",\"zerolinecolor\":\"white\",\"gridwidth\":2},\"yaxis\":{\"backgroundcolor\":\"#E5ECF6\",\"gridcolor\":\"white\",\"linecolor\":\"white\",\"showbackground\":true,\"ticks\":\"\",\"zerolinecolor\":\"white\",\"gridwidth\":2},\"zaxis\":{\"backgroundcolor\":\"#E5ECF6\",\"gridcolor\":\"white\",\"linecolor\":\"white\",\"showbackground\":true,\"ticks\":\"\",\"zerolinecolor\":\"white\",\"gridwidth\":2}},\"shapedefaults\":{\"line\":{\"color\":\"#2a3f5f\"}},\"annotationdefaults\":{\"arrowcolor\":\"#2a3f5f\",\"arrowhead\":0,\"arrowwidth\":1},\"geo\":{\"bgcolor\":\"white\",\"landcolor\":\"#E5ECF6\",\"subunitcolor\":\"white\",\"showland\":true,\"showlakes\":true,\"lakecolor\":\"white\"},\"title\":{\"x\":0.05},\"mapbox\":{\"style\":\"light\"}}},\"xaxis\":{\"anchor\":\"y\",\"domain\":[0.0,0.45],\"title\":{\"text\":\"Month\"}},\"yaxis\":{\"anchor\":\"x\",\"domain\":[0.0,1.0],\"title\":{\"text\":\"Ride Counts\"}},\"xaxis2\":{\"anchor\":\"y2\",\"domain\":[0.55,1.0]},\"yaxis2\":{\"anchor\":\"x2\",\"domain\":[0.0,1.0]},\"title\":{\"text\":\"Riders Counts by Year/Month\"}},                        {\"responsive\": true}                    ).then(function(){\n",
       "                            \n",
       "var gd = document.getElementById('068c6e63-760d-44b0-a211-e954aa20d1fd');\n",
       "var x = new MutationObserver(function (mutations, observer) {{\n",
       "        var display = window.getComputedStyle(gd).display;\n",
       "        if (!display || display === 'none') {{\n",
       "            console.log([gd, 'removed!']);\n",
       "            Plotly.purge(gd);\n",
       "            observer.disconnect();\n",
       "        }}\n",
       "}});\n",
       "\n",
       "// Listen for the removal of the full notebook cells\n",
       "var notebookContainer = gd.closest('#notebook-container');\n",
       "if (notebookContainer) {{\n",
       "    x.observe(notebookContainer, {childList: true});\n",
       "}}\n",
       "\n",
       "// Listen for the clearing of the current output cell\n",
       "var outputEl = gd.closest('.output');\n",
       "if (outputEl) {{\n",
       "    x.observe(outputEl, {childList: true});\n",
       "}}\n",
       "\n",
       "                        })                };                });            </script>        </div>"
      ]
     },
     "metadata": {},
     "output_type": "display_data"
    }
   ],
   "source": [
    "pivot3 = df.pivot_table(\n",
    "                        index = [\"year\",\"month\",\"member_casual\"],\n",
    "                        values =\"ride_id\",\n",
    "                        aggfunc = [\"count\"],\n",
    "                        margins =True,\n",
    "                        margins_name = \"Total Count\"\n",
    "                        )\n",
    "pivot3 = pivot3.loc[(pivot3 !=0).any(axis =1)]\n",
    "print(pivot3)\n",
    "print(\"-\"*40)\n",
    "\n",
    "#Visualyze by Plotly by first way \n",
    "group3 = df.groupby([\"year\",\"month\",\"member_casual\"], as_index =False).count()\n",
    "group3 = group3.query(\"ride_id != 0\")\n",
    "group3_2022 = group3[group3[\"year\"] == 2022]\n",
    "group3_2023 = group3[group3[\"year\"] == 2023]\n",
    "\n",
    "fig = make_subplots(rows =1 , cols =2 , shared_xaxes =True)\n",
    "\n",
    "trace1 = go.Scatter(\n",
    "        x= group3_2022[\"month\"],\n",
    "        y= group3_2022[\"ride_id\"],\n",
    "        mode = \"lines+markers\",\n",
    "        name = \"2022\",\n",
    "        marker = dict(color =\"blue\")\n",
    ")\n",
    "fig.add_trace(trace1,row =1, col=1)\n",
    "\n",
    "trace2 = go.Scatter(\n",
    "        x = group3_2023[\"month\"],\n",
    "        y = group3_2023[\"ride_id\"],\n",
    "        mode = \"lines+markers\",\n",
    "        name = \"2023\",\n",
    "        marker = dict(color =\"green\")\n",
    ")\n",
    "fig.add_trace(trace2,row =1, col=2)\n",
    "\n",
    "fig.update_layout(title = \"Riders Counts by Year/Month\",\n",
    "                 xaxis_title = \"Month\",\n",
    "                 yaxis_title = \"Ride Counts\")\n",
    "fig.show()"
   ]
  },
  {
   "cell_type": "code",
   "execution_count": 30,
   "id": "1784ef5f",
   "metadata": {
    "execution": {
     "iopub.execute_input": "2023-06-19T11:31:06.006474Z",
     "iopub.status.busy": "2023-06-19T11:31:06.006073Z",
     "iopub.status.idle": "2023-06-19T11:31:06.118757Z",
     "shell.execute_reply": "2023-06-19T11:31:06.117767Z"
    },
    "papermill": {
     "duration": 0.136597,
     "end_time": "2023-06-19T11:31:06.121065",
     "exception": false,
     "start_time": "2023-06-19T11:31:05.984468",
     "status": "completed"
    },
    "tags": []
   },
   "outputs": [
    {
     "data": {
      "text/html": [
       "<div>                            <div id=\"d66a0abf-0b5a-44c6-9bff-763ce90e658f\" class=\"plotly-graph-div\" style=\"height:525px; width:100%;\"></div>            <script type=\"text/javascript\">                require([\"plotly\"], function(Plotly) {                    window.PLOTLYENV=window.PLOTLYENV || {};                                    if (document.getElementById(\"d66a0abf-0b5a-44c6-9bff-763ce90e658f\")) {                    Plotly.newPlot(                        \"d66a0abf-0b5a-44c6-9bff-763ce90e658f\",                        [{\"hovertemplate\":\"member_casual=casual<br>year=2022<br>Month=%{x}<br>No. of Riders=%{y}<extra></extra>\",\"legendgroup\":\"casual\",\"line\":{\"color\":\"#636efa\",\"dash\":\"solid\"},\"marker\":{\"symbol\":\"circle\"},\"mode\":\"markers+lines\",\"name\":\"casual\",\"orientation\":\"v\",\"showlegend\":true,\"x\":[\"June\",\"July\",\"August\",\"September\",\"October\",\"November\",\"December\"],\"xaxis\":\"x\",\"y\":[361929,397648,351164,290384,204205,98383,43746],\"yaxis\":\"y\",\"type\":\"scatter\"},{\"hovertemplate\":\"member_casual=casual<br>year=2023<br>Month=%{x}<br>No. of Riders=%{y}<extra></extra>\",\"legendgroup\":\"casual\",\"line\":{\"color\":\"#636efa\",\"dash\":\"solid\"},\"marker\":{\"symbol\":\"circle\"},\"mode\":\"markers+lines\",\"name\":\"casual\",\"orientation\":\"v\",\"showlegend\":false,\"x\":[\"January\",\"February\",\"March\",\"April\",\"May\"],\"xaxis\":\"x2\",\"y\":[38837,41818,60279,142521,227286],\"yaxis\":\"y2\",\"type\":\"scatter\"},{\"hovertemplate\":\"member_casual=member<br>year=2022<br>Month=%{x}<br>No. of Riders=%{y}<extra></extra>\",\"legendgroup\":\"member\",\"line\":{\"color\":\"#EF553B\",\"dash\":\"solid\"},\"marker\":{\"symbol\":\"circle\"},\"mode\":\"markers+lines\",\"name\":\"member\",\"orientation\":\"v\",\"showlegend\":true,\"x\":[\"June\",\"July\",\"August\",\"September\",\"October\",\"November\",\"December\"],\"xaxis\":\"x\",\"y\":[391891,408026,417206,395425,341370,231675,133285],\"yaxis\":\"y\",\"type\":\"scatter\"},{\"hovertemplate\":\"member_casual=member<br>year=2023<br>Month=%{x}<br>No. of Riders=%{y}<extra></extra>\",\"legendgroup\":\"member\",\"line\":{\"color\":\"#EF553B\",\"dash\":\"solid\"},\"marker\":{\"symbol\":\"circle\"},\"mode\":\"markers+lines\",\"name\":\"member\",\"orientation\":\"v\",\"showlegend\":false,\"x\":[\"January\",\"February\",\"March\",\"April\",\"May\"],\"xaxis\":\"x2\",\"y\":[145276,142626,189322,269086,359545],\"yaxis\":\"y2\",\"type\":\"scatter\"}],                        {\"template\":{\"data\":{\"histogram2dcontour\":[{\"type\":\"histogram2dcontour\",\"colorbar\":{\"outlinewidth\":0,\"ticks\":\"\"},\"colorscale\":[[0.0,\"#0d0887\"],[0.1111111111111111,\"#46039f\"],[0.2222222222222222,\"#7201a8\"],[0.3333333333333333,\"#9c179e\"],[0.4444444444444444,\"#bd3786\"],[0.5555555555555556,\"#d8576b\"],[0.6666666666666666,\"#ed7953\"],[0.7777777777777778,\"#fb9f3a\"],[0.8888888888888888,\"#fdca26\"],[1.0,\"#f0f921\"]]}],\"choropleth\":[{\"type\":\"choropleth\",\"colorbar\":{\"outlinewidth\":0,\"ticks\":\"\"}}],\"histogram2d\":[{\"type\":\"histogram2d\",\"colorbar\":{\"outlinewidth\":0,\"ticks\":\"\"},\"colorscale\":[[0.0,\"#0d0887\"],[0.1111111111111111,\"#46039f\"],[0.2222222222222222,\"#7201a8\"],[0.3333333333333333,\"#9c179e\"],[0.4444444444444444,\"#bd3786\"],[0.5555555555555556,\"#d8576b\"],[0.6666666666666666,\"#ed7953\"],[0.7777777777777778,\"#fb9f3a\"],[0.8888888888888888,\"#fdca26\"],[1.0,\"#f0f921\"]]}],\"heatmap\":[{\"type\":\"heatmap\",\"colorbar\":{\"outlinewidth\":0,\"ticks\":\"\"},\"colorscale\":[[0.0,\"#0d0887\"],[0.1111111111111111,\"#46039f\"],[0.2222222222222222,\"#7201a8\"],[0.3333333333333333,\"#9c179e\"],[0.4444444444444444,\"#bd3786\"],[0.5555555555555556,\"#d8576b\"],[0.6666666666666666,\"#ed7953\"],[0.7777777777777778,\"#fb9f3a\"],[0.8888888888888888,\"#fdca26\"],[1.0,\"#f0f921\"]]}],\"heatmapgl\":[{\"type\":\"heatmapgl\",\"colorbar\":{\"outlinewidth\":0,\"ticks\":\"\"},\"colorscale\":[[0.0,\"#0d0887\"],[0.1111111111111111,\"#46039f\"],[0.2222222222222222,\"#7201a8\"],[0.3333333333333333,\"#9c179e\"],[0.4444444444444444,\"#bd3786\"],[0.5555555555555556,\"#d8576b\"],[0.6666666666666666,\"#ed7953\"],[0.7777777777777778,\"#fb9f3a\"],[0.8888888888888888,\"#fdca26\"],[1.0,\"#f0f921\"]]}],\"contourcarpet\":[{\"type\":\"contourcarpet\",\"colorbar\":{\"outlinewidth\":0,\"ticks\":\"\"}}],\"contour\":[{\"type\":\"contour\",\"colorbar\":{\"outlinewidth\":0,\"ticks\":\"\"},\"colorscale\":[[0.0,\"#0d0887\"],[0.1111111111111111,\"#46039f\"],[0.2222222222222222,\"#7201a8\"],[0.3333333333333333,\"#9c179e\"],[0.4444444444444444,\"#bd3786\"],[0.5555555555555556,\"#d8576b\"],[0.6666666666666666,\"#ed7953\"],[0.7777777777777778,\"#fb9f3a\"],[0.8888888888888888,\"#fdca26\"],[1.0,\"#f0f921\"]]}],\"surface\":[{\"type\":\"surface\",\"colorbar\":{\"outlinewidth\":0,\"ticks\":\"\"},\"colorscale\":[[0.0,\"#0d0887\"],[0.1111111111111111,\"#46039f\"],[0.2222222222222222,\"#7201a8\"],[0.3333333333333333,\"#9c179e\"],[0.4444444444444444,\"#bd3786\"],[0.5555555555555556,\"#d8576b\"],[0.6666666666666666,\"#ed7953\"],[0.7777777777777778,\"#fb9f3a\"],[0.8888888888888888,\"#fdca26\"],[1.0,\"#f0f921\"]]}],\"mesh3d\":[{\"type\":\"mesh3d\",\"colorbar\":{\"outlinewidth\":0,\"ticks\":\"\"}}],\"scatter\":[{\"fillpattern\":{\"fillmode\":\"overlay\",\"size\":10,\"solidity\":0.2},\"type\":\"scatter\"}],\"parcoords\":[{\"type\":\"parcoords\",\"line\":{\"colorbar\":{\"outlinewidth\":0,\"ticks\":\"\"}}}],\"scatterpolargl\":[{\"type\":\"scatterpolargl\",\"marker\":{\"colorbar\":{\"outlinewidth\":0,\"ticks\":\"\"}}}],\"bar\":[{\"error_x\":{\"color\":\"#2a3f5f\"},\"error_y\":{\"color\":\"#2a3f5f\"},\"marker\":{\"line\":{\"color\":\"#E5ECF6\",\"width\":0.5},\"pattern\":{\"fillmode\":\"overlay\",\"size\":10,\"solidity\":0.2}},\"type\":\"bar\"}],\"scattergeo\":[{\"type\":\"scattergeo\",\"marker\":{\"colorbar\":{\"outlinewidth\":0,\"ticks\":\"\"}}}],\"scatterpolar\":[{\"type\":\"scatterpolar\",\"marker\":{\"colorbar\":{\"outlinewidth\":0,\"ticks\":\"\"}}}],\"histogram\":[{\"marker\":{\"pattern\":{\"fillmode\":\"overlay\",\"size\":10,\"solidity\":0.2}},\"type\":\"histogram\"}],\"scattergl\":[{\"type\":\"scattergl\",\"marker\":{\"colorbar\":{\"outlinewidth\":0,\"ticks\":\"\"}}}],\"scatter3d\":[{\"type\":\"scatter3d\",\"line\":{\"colorbar\":{\"outlinewidth\":0,\"ticks\":\"\"}},\"marker\":{\"colorbar\":{\"outlinewidth\":0,\"ticks\":\"\"}}}],\"scattermapbox\":[{\"type\":\"scattermapbox\",\"marker\":{\"colorbar\":{\"outlinewidth\":0,\"ticks\":\"\"}}}],\"scatterternary\":[{\"type\":\"scatterternary\",\"marker\":{\"colorbar\":{\"outlinewidth\":0,\"ticks\":\"\"}}}],\"scattercarpet\":[{\"type\":\"scattercarpet\",\"marker\":{\"colorbar\":{\"outlinewidth\":0,\"ticks\":\"\"}}}],\"carpet\":[{\"aaxis\":{\"endlinecolor\":\"#2a3f5f\",\"gridcolor\":\"white\",\"linecolor\":\"white\",\"minorgridcolor\":\"white\",\"startlinecolor\":\"#2a3f5f\"},\"baxis\":{\"endlinecolor\":\"#2a3f5f\",\"gridcolor\":\"white\",\"linecolor\":\"white\",\"minorgridcolor\":\"white\",\"startlinecolor\":\"#2a3f5f\"},\"type\":\"carpet\"}],\"table\":[{\"cells\":{\"fill\":{\"color\":\"#EBF0F8\"},\"line\":{\"color\":\"white\"}},\"header\":{\"fill\":{\"color\":\"#C8D4E3\"},\"line\":{\"color\":\"white\"}},\"type\":\"table\"}],\"barpolar\":[{\"marker\":{\"line\":{\"color\":\"#E5ECF6\",\"width\":0.5},\"pattern\":{\"fillmode\":\"overlay\",\"size\":10,\"solidity\":0.2}},\"type\":\"barpolar\"}],\"pie\":[{\"automargin\":true,\"type\":\"pie\"}]},\"layout\":{\"autotypenumbers\":\"strict\",\"colorway\":[\"#636efa\",\"#EF553B\",\"#00cc96\",\"#ab63fa\",\"#FFA15A\",\"#19d3f3\",\"#FF6692\",\"#B6E880\",\"#FF97FF\",\"#FECB52\"],\"font\":{\"color\":\"#2a3f5f\"},\"hovermode\":\"closest\",\"hoverlabel\":{\"align\":\"left\"},\"paper_bgcolor\":\"white\",\"plot_bgcolor\":\"#E5ECF6\",\"polar\":{\"bgcolor\":\"#E5ECF6\",\"angularaxis\":{\"gridcolor\":\"white\",\"linecolor\":\"white\",\"ticks\":\"\"},\"radialaxis\":{\"gridcolor\":\"white\",\"linecolor\":\"white\",\"ticks\":\"\"}},\"ternary\":{\"bgcolor\":\"#E5ECF6\",\"aaxis\":{\"gridcolor\":\"white\",\"linecolor\":\"white\",\"ticks\":\"\"},\"baxis\":{\"gridcolor\":\"white\",\"linecolor\":\"white\",\"ticks\":\"\"},\"caxis\":{\"gridcolor\":\"white\",\"linecolor\":\"white\",\"ticks\":\"\"}},\"coloraxis\":{\"colorbar\":{\"outlinewidth\":0,\"ticks\":\"\"}},\"colorscale\":{\"sequential\":[[0.0,\"#0d0887\"],[0.1111111111111111,\"#46039f\"],[0.2222222222222222,\"#7201a8\"],[0.3333333333333333,\"#9c179e\"],[0.4444444444444444,\"#bd3786\"],[0.5555555555555556,\"#d8576b\"],[0.6666666666666666,\"#ed7953\"],[0.7777777777777778,\"#fb9f3a\"],[0.8888888888888888,\"#fdca26\"],[1.0,\"#f0f921\"]],\"sequentialminus\":[[0.0,\"#0d0887\"],[0.1111111111111111,\"#46039f\"],[0.2222222222222222,\"#7201a8\"],[0.3333333333333333,\"#9c179e\"],[0.4444444444444444,\"#bd3786\"],[0.5555555555555556,\"#d8576b\"],[0.6666666666666666,\"#ed7953\"],[0.7777777777777778,\"#fb9f3a\"],[0.8888888888888888,\"#fdca26\"],[1.0,\"#f0f921\"]],\"diverging\":[[0,\"#8e0152\"],[0.1,\"#c51b7d\"],[0.2,\"#de77ae\"],[0.3,\"#f1b6da\"],[0.4,\"#fde0ef\"],[0.5,\"#f7f7f7\"],[0.6,\"#e6f5d0\"],[0.7,\"#b8e186\"],[0.8,\"#7fbc41\"],[0.9,\"#4d9221\"],[1,\"#276419\"]]},\"xaxis\":{\"gridcolor\":\"white\",\"linecolor\":\"white\",\"ticks\":\"\",\"title\":{\"standoff\":15},\"zerolinecolor\":\"white\",\"automargin\":true,\"zerolinewidth\":2},\"yaxis\":{\"gridcolor\":\"white\",\"linecolor\":\"white\",\"ticks\":\"\",\"title\":{\"standoff\":15},\"zerolinecolor\":\"white\",\"automargin\":true,\"zerolinewidth\":2},\"scene\":{\"xaxis\":{\"backgroundcolor\":\"#E5ECF6\",\"gridcolor\":\"white\",\"linecolor\":\"white\",\"showbackground\":true,\"ticks\":\"\",\"zerolinecolor\":\"white\",\"gridwidth\":2},\"yaxis\":{\"backgroundcolor\":\"#E5ECF6\",\"gridcolor\":\"white\",\"linecolor\":\"white\",\"showbackground\":true,\"ticks\":\"\",\"zerolinecolor\":\"white\",\"gridwidth\":2},\"zaxis\":{\"backgroundcolor\":\"#E5ECF6\",\"gridcolor\":\"white\",\"linecolor\":\"white\",\"showbackground\":true,\"ticks\":\"\",\"zerolinecolor\":\"white\",\"gridwidth\":2}},\"shapedefaults\":{\"line\":{\"color\":\"#2a3f5f\"}},\"annotationdefaults\":{\"arrowcolor\":\"#2a3f5f\",\"arrowhead\":0,\"arrowwidth\":1},\"geo\":{\"bgcolor\":\"white\",\"landcolor\":\"#E5ECF6\",\"subunitcolor\":\"white\",\"showland\":true,\"showlakes\":true,\"lakecolor\":\"white\"},\"title\":{\"x\":0.05},\"mapbox\":{\"style\":\"light\"}}},\"xaxis\":{\"anchor\":\"y\",\"domain\":[0.0,0.4975],\"title\":{\"text\":\"Month\"},\"categoryorder\":\"array\",\"categoryarray\":[\"January\",\"February\",\"March\",\"April\",\"May\",\"June\",\"July\",\"August\",\"September\",\"October\",\"November\",\"December\"]},\"yaxis\":{\"anchor\":\"x\",\"domain\":[0.0,1.0],\"title\":{\"text\":\"No. of Riders\"}},\"xaxis2\":{\"anchor\":\"y2\",\"domain\":[0.5025,1.0],\"matches\":\"x\",\"title\":{\"text\":\"Month\"},\"categoryorder\":\"array\",\"categoryarray\":[\"January\",\"February\",\"March\",\"April\",\"May\",\"June\",\"July\",\"August\",\"September\",\"October\",\"November\",\"December\"]},\"yaxis2\":{\"anchor\":\"x2\",\"domain\":[0.0,1.0],\"matches\":\"y\",\"showticklabels\":false},\"annotations\":[{\"font\":{},\"showarrow\":false,\"text\":\"year=2022\",\"x\":0.24875,\"xanchor\":\"center\",\"xref\":\"paper\",\"y\":1.0,\"yanchor\":\"bottom\",\"yref\":\"paper\"},{\"font\":{},\"showarrow\":false,\"text\":\"year=2023\",\"x\":0.75125,\"xanchor\":\"center\",\"xref\":\"paper\",\"y\":1.0,\"yanchor\":\"bottom\",\"yref\":\"paper\"}],\"legend\":{\"title\":{\"text\":\"member_casual\"},\"tracegroupgap\":0},\"margin\":{\"t\":60},\"title\":{\"text\":\"Member Casual Counts by Years/Months\"}},                        {\"responsive\": true}                    ).then(function(){\n",
       "                            \n",
       "var gd = document.getElementById('d66a0abf-0b5a-44c6-9bff-763ce90e658f');\n",
       "var x = new MutationObserver(function (mutations, observer) {{\n",
       "        var display = window.getComputedStyle(gd).display;\n",
       "        if (!display || display === 'none') {{\n",
       "            console.log([gd, 'removed!']);\n",
       "            Plotly.purge(gd);\n",
       "            observer.disconnect();\n",
       "        }}\n",
       "}});\n",
       "\n",
       "// Listen for the removal of the full notebook cells\n",
       "var notebookContainer = gd.closest('#notebook-container');\n",
       "if (notebookContainer) {{\n",
       "    x.observe(notebookContainer, {childList: true});\n",
       "}}\n",
       "\n",
       "// Listen for the clearing of the current output cell\n",
       "var outputEl = gd.closest('.output');\n",
       "if (outputEl) {{\n",
       "    x.observe(outputEl, {childList: true});\n",
       "}}\n",
       "\n",
       "                        })                };                });            </script>        </div>"
      ]
     },
     "metadata": {},
     "output_type": "display_data"
    }
   ],
   "source": [
    "# Visualze with Plotly by second way\n",
    "month_order = ['January', 'February', 'March', 'April', \n",
    "               'May', 'June', 'July', 'August', \n",
    "               'September', 'October', 'November', 'December']\n",
    "fig = px.line(group3 , x = \"month\", \n",
    "              y=\"ride_id\" , \n",
    "              color=\"member_casual\",\n",
    "              facet_col = \"year\" ,\n",
    "              facet_col_spacing = 0.005,\n",
    "              line_group = \"year\",\n",
    "              markers =True,\n",
    "              category_orders = {\"month\" : month_order},\n",
    "              labels = {\"month\": \"Month\" , \"ride_id\" : \"No. of Riders\"})\n",
    "fig.update_layout(title='Member Casual Counts by Years/Months')\n",
    "fig.show()"
   ]
  },
  {
   "cell_type": "markdown",
   "id": "7a3e8807",
   "metadata": {
    "papermill": {
     "duration": 0.0207,
     "end_time": "2023-06-19T11:31:06.162788",
     "exception": false,
     "start_time": "2023-06-19T11:31:06.142088",
     "status": "completed"
    },
    "tags": []
   },
   "source": [
    "*=> In 2022 , member riders use service get highest at August with 417.2 K riders , casual riders get highest at July with 397.6 K riders .*\n",
    "\n",
    "*=> Until May 2023 , member riders tend to increase and peak at May 2023 with 359.54 K riders , casual has 227.28 K riders .*\n",
    "\n"
   ]
  },
  {
   "cell_type": "code",
   "execution_count": 31,
   "id": "932c7ea1",
   "metadata": {
    "execution": {
     "iopub.execute_input": "2023-06-19T11:31:06.207658Z",
     "iopub.status.busy": "2023-06-19T11:31:06.206667Z",
     "iopub.status.idle": "2023-06-19T11:31:06.976190Z",
     "shell.execute_reply": "2023-06-19T11:31:06.975009Z"
    },
    "papermill": {
     "duration": 0.794661,
     "end_time": "2023-06-19T11:31:06.978586",
     "exception": false,
     "start_time": "2023-06-19T11:31:06.183925",
     "status": "completed"
    },
    "tags": []
   },
   "outputs": [
    {
     "data": {
      "image/png": "[encoded data removed]",
      "text/plain": [
       "<Figure size 1500x600 with 2 Axes>"
      ]
     },
     "metadata": {},
     "output_type": "display_data"
    }
   ],
   "source": [
    "# Visualyze by Matplotlib and Seaborn\n",
    "xlabel = list(group3[\"year\"].unique())\n",
    "n_cols = 2\n",
    "n_rows = math.ceil(len(xlabel)/n_cols)\n",
    "fig, axs = plt.subplots(n_rows, n_cols, figsize=(15, 6))\n",
    "\n",
    "fig.subplots_adjust(top=0.8)\n",
    "fig.suptitle('Rider Rental in Each Month From 6/2022 to 5/2023', fontsize=15, fontweight='bold')\n",
    "\n",
    "for i, year in enumerate(xlabel):\n",
    "    sns.set_style(\"whitegrid\")\n",
    "    ax = axs.flat[i]\n",
    "    sns.lineplot(group3,x= group3[group3[\"year\"] == year][\"month\"],\n",
    "                 y= group3[group3[\"year\"] == year][\"ride_id\"] ,\n",
    "                 hue = \"member_casual\",\n",
    "                 marker = \"s\", ax=ax)\n",
    "    ax.set_title(str(year), fontsize=10, fontweight='bold')\n",
    "    ax.set_xlabel(\"Months of year {}\".format(year), size=12)\n",
    "    ax.set_ylabel(\"No. of Riders\", size=12)\n",
    "\n",
    "plt.tight_layout()\n",
    "plt.show()\n"
   ]
  },
  {
   "cell_type": "markdown",
   "id": "42de263b",
   "metadata": {
    "papermill": {
     "duration": 0.022197,
     "end_time": "2023-06-19T11:31:07.023904",
     "exception": false,
     "start_time": "2023-06-19T11:31:07.001707",
     "status": "completed"
    },
    "tags": []
   },
   "source": [
    "#### **4.3.2. FIND DIFFERENCES BETWEEN THE NUMBER OF MEMBERS AND CASUALS BY DAYS WEEK**"
   ]
  },
  {
   "cell_type": "code",
   "execution_count": 32,
   "id": "dbd94fc6",
   "metadata": {
    "execution": {
     "iopub.execute_input": "2023-06-19T11:31:07.072169Z",
     "iopub.status.busy": "2023-06-19T11:31:07.070181Z",
     "iopub.status.idle": "2023-06-19T11:31:11.824716Z",
     "shell.execute_reply": "2023-06-19T11:31:11.823688Z"
    },
    "papermill": {
     "duration": 4.780712,
     "end_time": "2023-06-19T11:31:11.827126",
     "exception": false,
     "start_time": "2023-06-19T11:31:07.046414",
     "status": "completed"
    },
    "tags": []
   },
   "outputs": [
    {
     "name": "stdout",
     "output_type": "stream",
     "text": [
      "                             count\n",
      "                           ride_id\n",
      "day         member_casual         \n",
      "Sunday      casual          366791\n",
      "            member          383911\n",
      "Monday      casual          251879\n",
      "            member          459132\n",
      "Tuesday     casual          264558\n",
      "            member          538268\n",
      "Wednesday   casual          285075\n",
      "            member          564742\n",
      "Thursday    casual          306054\n",
      "            member          549812\n",
      "Friday      casual          338563\n",
      "            member          488174\n",
      "Saturday    casual          445280\n",
      "            member          440694\n",
      "Total Count                5682933\n",
      "----------------------------------------\n"
     ]
    },
    {
     "data": {
      "text/html": [
       "<div>                            <div id=\"4da0803d-2ed6-450c-8cd9-3084a5aa48af\" class=\"plotly-graph-div\" style=\"height:525px; width:100%;\"></div>            <script type=\"text/javascript\">                require([\"plotly\"], function(Plotly) {                    window.PLOTLYENV=window.PLOTLYENV || {};                                    if (document.getElementById(\"4da0803d-2ed6-450c-8cd9-3084a5aa48af\")) {                    Plotly.newPlot(                        \"4da0803d-2ed6-450c-8cd9-3084a5aa48af\",                        [{\"alignmentgroup\":\"True\",\"hovertemplate\":\"<b>%{hovertext}</b><br><br>member_casual=casual<br>Rider Counts=%{x}<br>Days of Week=%{y}<extra></extra>\",\"hovertext\":[\"casual\",\"casual\",\"casual\",\"casual\",\"casual\",\"casual\",\"casual\"],\"legendgroup\":\"casual\",\"marker\":{\"color\":\"#636efa\",\"pattern\":{\"shape\":\"\"}},\"name\":\"casual\",\"offsetgroup\":\"casual\",\"orientation\":\"h\",\"showlegend\":true,\"textposition\":\"auto\",\"x\":[366791,251879,264558,285075,306054,338563,445280],\"xaxis\":\"x\",\"y\":[\"Sunday\",\"Monday\",\"Tuesday\",\"Wednesday\",\"Thursday\",\"Friday\",\"Saturday\"],\"yaxis\":\"y\",\"type\":\"bar\"},{\"alignmentgroup\":\"True\",\"hovertemplate\":\"<b>%{hovertext}</b><br><br>member_casual=member<br>Rider Counts=%{x}<br>Days of Week=%{y}<extra></extra>\",\"hovertext\":[\"member\",\"member\",\"member\",\"member\",\"member\",\"member\",\"member\"],\"legendgroup\":\"member\",\"marker\":{\"color\":\"#EF553B\",\"pattern\":{\"shape\":\"\"}},\"name\":\"member\",\"offsetgroup\":\"member\",\"orientation\":\"h\",\"showlegend\":true,\"textposition\":\"auto\",\"x\":[383911,459132,538268,564742,549812,488174,440694],\"xaxis\":\"x\",\"y\":[\"Sunday\",\"Monday\",\"Tuesday\",\"Wednesday\",\"Thursday\",\"Friday\",\"Saturday\"],\"yaxis\":\"y\",\"type\":\"bar\"}],                        {\"template\":{\"data\":{\"histogram2dcontour\":[{\"type\":\"histogram2dcontour\",\"colorbar\":{\"outlinewidth\":0,\"ticks\":\"\"},\"colorscale\":[[0.0,\"#0d0887\"],[0.1111111111111111,\"#46039f\"],[0.2222222222222222,\"#7201a8\"],[0.3333333333333333,\"#9c179e\"],[0.4444444444444444,\"#bd3786\"],[0.5555555555555556,\"#d8576b\"],[0.6666666666666666,\"#ed7953\"],[0.7777777777777778,\"#fb9f3a\"],[0.8888888888888888,\"#fdca26\"],[1.0,\"#f0f921\"]]}],\"choropleth\":[{\"type\":\"choropleth\",\"colorbar\":{\"outlinewidth\":0,\"ticks\":\"\"}}],\"histogram2d\":[{\"type\":\"histogram2d\",\"colorbar\":{\"outlinewidth\":0,\"ticks\":\"\"},\"colorscale\":[[0.0,\"#0d0887\"],[0.1111111111111111,\"#46039f\"],[0.2222222222222222,\"#7201a8\"],[0.3333333333333333,\"#9c179e\"],[0.4444444444444444,\"#bd3786\"],[0.5555555555555556,\"#d8576b\"],[0.6666666666666666,\"#ed7953\"],[0.7777777777777778,\"#fb9f3a\"],[0.8888888888888888,\"#fdca26\"],[1.0,\"#f0f921\"]]}],\"heatmap\":[{\"type\":\"heatmap\",\"colorbar\":{\"outlinewidth\":0,\"ticks\":\"\"},\"colorscale\":[[0.0,\"#0d0887\"],[0.1111111111111111,\"#46039f\"],[0.2222222222222222,\"#7201a8\"],[0.3333333333333333,\"#9c179e\"],[0.4444444444444444,\"#bd3786\"],[0.5555555555555556,\"#d8576b\"],[0.6666666666666666,\"#ed7953\"],[0.7777777777777778,\"#fb9f3a\"],[0.8888888888888888,\"#fdca26\"],[1.0,\"#f0f921\"]]}],\"heatmapgl\":[{\"type\":\"heatmapgl\",\"colorbar\":{\"outlinewidth\":0,\"ticks\":\"\"},\"colorscale\":[[0.0,\"#0d0887\"],[0.1111111111111111,\"#46039f\"],[0.2222222222222222,\"#7201a8\"],[0.3333333333333333,\"#9c179e\"],[0.4444444444444444,\"#bd3786\"],[0.5555555555555556,\"#d8576b\"],[0.6666666666666666,\"#ed7953\"],[0.7777777777777778,\"#fb9f3a\"],[0.8888888888888888,\"#fdca26\"],[1.0,\"#f0f921\"]]}],\"contourcarpet\":[{\"type\":\"contourcarpet\",\"colorbar\":{\"outlinewidth\":0,\"ticks\":\"\"}}],\"contour\":[{\"type\":\"contour\",\"colorbar\":{\"outlinewidth\":0,\"ticks\":\"\"},\"colorscale\":[[0.0,\"#0d0887\"],[0.1111111111111111,\"#46039f\"],[0.2222222222222222,\"#7201a8\"],[0.3333333333333333,\"#9c179e\"],[0.4444444444444444,\"#bd3786\"],[0.5555555555555556,\"#d8576b\"],[0.6666666666666666,\"#ed7953\"],[0.7777777777777778,\"#fb9f3a\"],[0.8888888888888888,\"#fdca26\"],[1.0,\"#f0f921\"]]}],\"surface\":[{\"type\":\"surface\",\"colorbar\":{\"outlinewidth\":0,\"ticks\":\"\"},\"colorscale\":[[0.0,\"#0d0887\"],[0.1111111111111111,\"#46039f\"],[0.2222222222222222,\"#7201a8\"],[0.3333333333333333,\"#9c179e\"],[0.4444444444444444,\"#bd3786\"],[0.5555555555555556,\"#d8576b\"],[0.6666666666666666,\"#ed7953\"],[0.7777777777777778,\"#fb9f3a\"],[0.8888888888888888,\"#fdca26\"],[1.0,\"#f0f921\"]]}],\"mesh3d\":[{\"type\":\"mesh3d\",\"colorbar\":{\"outlinewidth\":0,\"ticks\":\"\"}}],\"scatter\":[{\"fillpattern\":{\"fillmode\":\"overlay\",\"size\":10,\"solidity\":0.2},\"type\":\"scatter\"}],\"parcoords\":[{\"type\":\"parcoords\",\"line\":{\"colorbar\":{\"outlinewidth\":0,\"ticks\":\"\"}}}],\"scatterpolargl\":[{\"type\":\"scatterpolargl\",\"marker\":{\"colorbar\":{\"outlinewidth\":0,\"ticks\":\"\"}}}],\"bar\":[{\"error_x\":{\"color\":\"#2a3f5f\"},\"error_y\":{\"color\":\"#2a3f5f\"},\"marker\":{\"line\":{\"color\":\"#E5ECF6\",\"width\":0.5},\"pattern\":{\"fillmode\":\"overlay\",\"size\":10,\"solidity\":0.2}},\"type\":\"bar\"}],\"scattergeo\":[{\"type\":\"scattergeo\",\"marker\":{\"colorbar\":{\"outlinewidth\":0,\"ticks\":\"\"}}}],\"scatterpolar\":[{\"type\":\"scatterpolar\",\"marker\":{\"colorbar\":{\"outlinewidth\":0,\"ticks\":\"\"}}}],\"histogram\":[{\"marker\":{\"pattern\":{\"fillmode\":\"overlay\",\"size\":10,\"solidity\":0.2}},\"type\":\"histogram\"}],\"scattergl\":[{\"type\":\"scattergl\",\"marker\":{\"colorbar\":{\"outlinewidth\":0,\"ticks\":\"\"}}}],\"scatter3d\":[{\"type\":\"scatter3d\",\"line\":{\"colorbar\":{\"outlinewidth\":0,\"ticks\":\"\"}},\"marker\":{\"colorbar\":{\"outlinewidth\":0,\"ticks\":\"\"}}}],\"scattermapbox\":[{\"type\":\"scattermapbox\",\"marker\":{\"colorbar\":{\"outlinewidth\":0,\"ticks\":\"\"}}}],\"scatterternary\":[{\"type\":\"scatterternary\",\"marker\":{\"colorbar\":{\"outlinewidth\":0,\"ticks\":\"\"}}}],\"scattercarpet\":[{\"type\":\"scattercarpet\",\"marker\":{\"colorbar\":{\"outlinewidth\":0,\"ticks\":\"\"}}}],\"carpet\":[{\"aaxis\":{\"endlinecolor\":\"#2a3f5f\",\"gridcolor\":\"white\",\"linecolor\":\"white\",\"minorgridcolor\":\"white\",\"startlinecolor\":\"#2a3f5f\"},\"baxis\":{\"endlinecolor\":\"#2a3f5f\",\"gridcolor\":\"white\",\"linecolor\":\"white\",\"minorgridcolor\":\"white\",\"startlinecolor\":\"#2a3f5f\"},\"type\":\"carpet\"}],\"table\":[{\"cells\":{\"fill\":{\"color\":\"#EBF0F8\"},\"line\":{\"color\":\"white\"}},\"header\":{\"fill\":{\"color\":\"#C8D4E3\"},\"line\":{\"color\":\"white\"}},\"type\":\"table\"}],\"barpolar\":[{\"marker\":{\"line\":{\"color\":\"#E5ECF6\",\"width\":0.5},\"pattern\":{\"fillmode\":\"overlay\",\"size\":10,\"solidity\":0.2}},\"type\":\"barpolar\"}],\"pie\":[{\"automargin\":true,\"type\":\"pie\"}]},\"layout\":{\"autotypenumbers\":\"strict\",\"colorway\":[\"#636efa\",\"#EF553B\",\"#00cc96\",\"#ab63fa\",\"#FFA15A\",\"#19d3f3\",\"#FF6692\",\"#B6E880\",\"#FF97FF\",\"#FECB52\"],\"font\":{\"color\":\"#2a3f5f\"},\"hovermode\":\"closest\",\"hoverlabel\":{\"align\":\"left\"},\"paper_bgcolor\":\"white\",\"plot_bgcolor\":\"#E5ECF6\",\"polar\":{\"bgcolor\":\"#E5ECF6\",\"angularaxis\":{\"gridcolor\":\"white\",\"linecolor\":\"white\",\"ticks\":\"\"},\"radialaxis\":{\"gridcolor\":\"white\",\"linecolor\":\"white\",\"ticks\":\"\"}},\"ternary\":{\"bgcolor\":\"#E5ECF6\",\"aaxis\":{\"gridcolor\":\"white\",\"linecolor\":\"white\",\"ticks\":\"\"},\"baxis\":{\"gridcolor\":\"white\",\"linecolor\":\"white\",\"ticks\":\"\"},\"caxis\":{\"gridcolor\":\"white\",\"linecolor\":\"white\",\"ticks\":\"\"}},\"coloraxis\":{\"colorbar\":{\"outlinewidth\":0,\"ticks\":\"\"}},\"colorscale\":{\"sequential\":[[0.0,\"#0d0887\"],[0.1111111111111111,\"#46039f\"],[0.2222222222222222,\"#7201a8\"],[0.3333333333333333,\"#9c179e\"],[0.4444444444444444,\"#bd3786\"],[0.5555555555555556,\"#d8576b\"],[0.6666666666666666,\"#ed7953\"],[0.7777777777777778,\"#fb9f3a\"],[0.8888888888888888,\"#fdca26\"],[1.0,\"#f0f921\"]],\"sequentialminus\":[[0.0,\"#0d0887\"],[0.1111111111111111,\"#46039f\"],[0.2222222222222222,\"#7201a8\"],[0.3333333333333333,\"#9c179e\"],[0.4444444444444444,\"#bd3786\"],[0.5555555555555556,\"#d8576b\"],[0.6666666666666666,\"#ed7953\"],[0.7777777777777778,\"#fb9f3a\"],[0.8888888888888888,\"#fdca26\"],[1.0,\"#f0f921\"]],\"diverging\":[[0,\"#8e0152\"],[0.1,\"#c51b7d\"],[0.2,\"#de77ae\"],[0.3,\"#f1b6da\"],[0.4,\"#fde0ef\"],[0.5,\"#f7f7f7\"],[0.6,\"#e6f5d0\"],[0.7,\"#b8e186\"],[0.8,\"#7fbc41\"],[0.9,\"#4d9221\"],[1,\"#276419\"]]},\"xaxis\":{\"gridcolor\":\"white\",\"linecolor\":\"white\",\"ticks\":\"\",\"title\":{\"standoff\":15},\"zerolinecolor\":\"white\",\"automargin\":true,\"zerolinewidth\":2},\"yaxis\":{\"gridcolor\":\"white\",\"linecolor\":\"white\",\"ticks\":\"\",\"title\":{\"standoff\":15},\"zerolinecolor\":\"white\",\"automargin\":true,\"zerolinewidth\":2},\"scene\":{\"xaxis\":{\"backgroundcolor\":\"#E5ECF6\",\"gridcolor\":\"white\",\"linecolor\":\"white\",\"showbackground\":true,\"ticks\":\"\",\"zerolinecolor\":\"white\",\"gridwidth\":2},\"yaxis\":{\"backgroundcolor\":\"#E5ECF6\",\"gridcolor\":\"white\",\"linecolor\":\"white\",\"showbackground\":true,\"ticks\":\"\",\"zerolinecolor\":\"white\",\"gridwidth\":2},\"zaxis\":{\"backgroundcolor\":\"#E5ECF6\",\"gridcolor\":\"white\",\"linecolor\":\"white\",\"showbackground\":true,\"ticks\":\"\",\"zerolinecolor\":\"white\",\"gridwidth\":2}},\"shapedefaults\":{\"line\":{\"color\":\"#2a3f5f\"}},\"annotationdefaults\":{\"arrowcolor\":\"#2a3f5f\",\"arrowhead\":0,\"arrowwidth\":1},\"geo\":{\"bgcolor\":\"white\",\"landcolor\":\"#E5ECF6\",\"subunitcolor\":\"white\",\"showland\":true,\"showlakes\":true,\"lakecolor\":\"white\"},\"title\":{\"x\":0.05},\"mapbox\":{\"style\":\"light\"}}},\"xaxis\":{\"anchor\":\"y\",\"domain\":[0.0,1.0],\"title\":{\"text\":\"Rider Counts\"}},\"yaxis\":{\"anchor\":\"x\",\"domain\":[0.0,1.0],\"title\":{\"text\":\"Days of Week\"}},\"legend\":{\"title\":{\"text\":\"member_casual\"},\"tracegroupgap\":0},\"margin\":{\"t\":60},\"barmode\":\"group\"},                        {\"responsive\": true}                    ).then(function(){\n",
       "                            \n",
       "var gd = document.getElementById('4da0803d-2ed6-450c-8cd9-3084a5aa48af');\n",
       "var x = new MutationObserver(function (mutations, observer) {{\n",
       "        var display = window.getComputedStyle(gd).display;\n",
       "        if (!display || display === 'none') {{\n",
       "            console.log([gd, 'removed!']);\n",
       "            Plotly.purge(gd);\n",
       "            observer.disconnect();\n",
       "        }}\n",
       "}});\n",
       "\n",
       "// Listen for the removal of the full notebook cells\n",
       "var notebookContainer = gd.closest('#notebook-container');\n",
       "if (notebookContainer) {{\n",
       "    x.observe(notebookContainer, {childList: true});\n",
       "}}\n",
       "\n",
       "// Listen for the clearing of the current output cell\n",
       "var outputEl = gd.closest('.output');\n",
       "if (outputEl) {{\n",
       "    x.observe(outputEl, {childList: true});\n",
       "}}\n",
       "\n",
       "                        })                };                });            </script>        </div>"
      ]
     },
     "metadata": {},
     "output_type": "display_data"
    }
   ],
   "source": [
    "pivot5 = df.pivot_table(\n",
    "                        index = [\"day\",\"member_casual\"],\n",
    "                        values =\"ride_id\",\n",
    "                        aggfunc = [\"count\"],\n",
    "                        margins =True,\n",
    "                        margins_name = \"Total Count\"\n",
    "                        )\n",
    "print(pivot5)\n",
    "print(\"-\"*40)\n",
    "group5 = df.groupby([\"day\",\"member_casual\"], as_index =False).count()\n",
    "group5 = group5.query(\"ride_id !=0\")\n",
    "px.bar(group5,\n",
    "      y= \"day\",\n",
    "      x= \"ride_id\",\n",
    "      hover_name = \"member_casual\",\n",
    "      orientation = \"h\",\n",
    "      color = \"member_casual\",\n",
    "      barmode = \"group\",\n",
    "      hover_data = [\"day\",\"ride_id\"],\n",
    "      labels = {\"ride_id\" : \"Rider Counts\", \"day\" : \"Days of Week\"})"
   ]
  },
  {
   "cell_type": "markdown",
   "id": "7b2726c7",
   "metadata": {
    "papermill": {
     "duration": 0.022013,
     "end_time": "2023-06-19T11:31:11.871885",
     "exception": false,
     "start_time": "2023-06-19T11:31:11.849872",
     "status": "completed"
    },
    "tags": []
   },
   "source": [
    "*=> It shows that more casual riders are using service on Weekends ( Saturdays and Sundays) .*\n",
    "\n",
    "*=> While the number of member riders tend to use service the same almost daily.*"
   ]
  },
  {
   "cell_type": "markdown",
   "id": "e6a0b2fa",
   "metadata": {
    "papermill": {
     "duration": 0.022166,
     "end_time": "2023-06-19T11:31:11.916540",
     "exception": false,
     "start_time": "2023-06-19T11:31:11.894374",
     "status": "completed"
    },
    "tags": []
   },
   "source": [
    "#### **4.3.3. FIND DIFFERNCE BETWEEN THE NUMBER OF MEMBERS AND CASUALS BY HOURS**"
   ]
  },
  {
   "cell_type": "code",
   "execution_count": 33,
   "id": "8e0f7c1b",
   "metadata": {
    "execution": {
     "iopub.execute_input": "2023-06-19T11:31:11.963510Z",
     "iopub.status.busy": "2023-06-19T11:31:11.962472Z",
     "iopub.status.idle": "2023-06-19T11:31:16.851894Z",
     "shell.execute_reply": "2023-06-19T11:31:16.850922Z"
    },
    "papermill": {
     "duration": 4.915379,
     "end_time": "2023-06-19T11:31:16.854232",
     "exception": false,
     "start_time": "2023-06-19T11:31:11.938853",
     "status": "completed"
    },
    "tags": []
   },
   "outputs": [
    {
     "name": "stdout",
     "output_type": "stream",
     "text": [
      "                             count\n",
      "                           ride_id\n",
      "hour        member_casual         \n",
      "0           casual           43810\n",
      "            member           35829\n",
      "1           casual           28764\n",
      "            member           21943\n",
      "2           casual           17616\n",
      "            member           12869\n",
      "3           casual           10242\n",
      "            member            7896\n",
      "4           casual            7179\n",
      "            member            8722\n",
      "5           casual           12397\n",
      "            member           31801\n",
      "6           casual           30771\n",
      "            member           95895\n",
      "7           casual           53091\n",
      "            member          178074\n",
      "8           casual           71249\n",
      "            member          216428\n",
      "9           casual           72226\n",
      "            member          149606\n",
      "10          casual           90873\n",
      "            member          138260\n",
      "11          casual          117234\n",
      "            member          163711\n",
      "12          casual          139220\n",
      "            member          188372\n",
      "13          casual          145364\n",
      "            member          187442\n",
      "14          casual          154696\n",
      "            member          188133\n",
      "15          casual          173482\n",
      "            member          228812\n",
      "16          casual          195562\n",
      "            member          304589\n",
      "17          casual          216875\n",
      "            member          362736\n",
      "18          casual          191558\n",
      "            member          290076\n",
      "19          casual          145715\n",
      "            member          209114\n",
      "20          casual          107276\n",
      "            member          146624\n",
      "21          casual           91560\n",
      "            member          114694\n",
      "22          casual           81264\n",
      "            member           86769\n",
      "23          casual           60176\n",
      "            member           56338\n",
      "Total Count                5682933\n",
      "----------------------------------------\n"
     ]
    },
    {
     "data": {
      "text/html": [
       "<div>                            <div id=\"01d55df6-e424-481c-9e92-8ab51055d930\" class=\"plotly-graph-div\" style=\"height:525px; width:100%;\"></div>            <script type=\"text/javascript\">                require([\"plotly\"], function(Plotly) {                    window.PLOTLYENV=window.PLOTLYENV || {};                                    if (document.getElementById(\"01d55df6-e424-481c-9e92-8ab51055d930\")) {                    Plotly.newPlot(                        \"01d55df6-e424-481c-9e92-8ab51055d930\",                        [{\"alignmentgroup\":\"True\",\"customdata\":[[43810],[28764],[17616],[10242],[7179],[12397],[30771],[53091],[71249],[72226],[90873],[117234],[139220],[145364],[154696],[173482],[195562],[216875],[191558],[145715],[107276],[91560],[81264],[60176]],\"hovertemplate\":\"<b>%{hovertext}</b><br><br>member_casual=casual<br>Rider Counts=%{x}<br>Hour=%{y}<br>day=%{customdata[0]}<extra></extra>\",\"hovertext\":[\"casual\",\"casual\",\"casual\",\"casual\",\"casual\",\"casual\",\"casual\",\"casual\",\"casual\",\"casual\",\"casual\",\"casual\",\"casual\",\"casual\",\"casual\",\"casual\",\"casual\",\"casual\",\"casual\",\"casual\",\"casual\",\"casual\",\"casual\",\"casual\"],\"legendgroup\":\"casual\",\"marker\":{\"color\":\"#636efa\",\"pattern\":{\"shape\":\"\"}},\"name\":\"casual\",\"offsetgroup\":\"casual\",\"orientation\":\"h\",\"showlegend\":true,\"textposition\":\"auto\",\"x\":[43810,28764,17616,10242,7179,12397,30771,53091,71249,72226,90873,117234,139220,145364,154696,173482,195562,216875,191558,145715,107276,91560,81264,60176],\"xaxis\":\"x\",\"y\":[0,1,2,3,4,5,6,7,8,9,10,11,12,13,14,15,16,17,18,19,20,21,22,23],\"yaxis\":\"y\",\"type\":\"bar\"},{\"alignmentgroup\":\"True\",\"customdata\":[[35829],[21943],[12869],[7896],[8722],[31801],[95895],[178074],[216428],[149606],[138260],[163711],[188372],[187442],[188133],[228812],[304589],[362736],[290076],[209114],[146624],[114694],[86769],[56338]],\"hovertemplate\":\"<b>%{hovertext}</b><br><br>member_casual=member<br>Rider Counts=%{x}<br>Hour=%{y}<br>day=%{customdata[0]}<extra></extra>\",\"hovertext\":[\"member\",\"member\",\"member\",\"member\",\"member\",\"member\",\"member\",\"member\",\"member\",\"member\",\"member\",\"member\",\"member\",\"member\",\"member\",\"member\",\"member\",\"member\",\"member\",\"member\",\"member\",\"member\",\"member\",\"member\"],\"legendgroup\":\"member\",\"marker\":{\"color\":\"#EF553B\",\"pattern\":{\"shape\":\"\"}},\"name\":\"member\",\"offsetgroup\":\"member\",\"orientation\":\"h\",\"showlegend\":true,\"textposition\":\"auto\",\"x\":[35829,21943,12869,7896,8722,31801,95895,178074,216428,149606,138260,163711,188372,187442,188133,228812,304589,362736,290076,209114,146624,114694,86769,56338],\"xaxis\":\"x\",\"y\":[0,1,2,3,4,5,6,7,8,9,10,11,12,13,14,15,16,17,18,19,20,21,22,23],\"yaxis\":\"y\",\"type\":\"bar\"}],                        {\"template\":{\"data\":{\"histogram2dcontour\":[{\"type\":\"histogram2dcontour\",\"colorbar\":{\"outlinewidth\":0,\"ticks\":\"\"},\"colorscale\":[[0.0,\"#0d0887\"],[0.1111111111111111,\"#46039f\"],[0.2222222222222222,\"#7201a8\"],[0.3333333333333333,\"#9c179e\"],[0.4444444444444444,\"#bd3786\"],[0.5555555555555556,\"#d8576b\"],[0.6666666666666666,\"#ed7953\"],[0.7777777777777778,\"#fb9f3a\"],[0.8888888888888888,\"#fdca26\"],[1.0,\"#f0f921\"]]}],\"choropleth\":[{\"type\":\"choropleth\",\"colorbar\":{\"outlinewidth\":0,\"ticks\":\"\"}}],\"histogram2d\":[{\"type\":\"histogram2d\",\"colorbar\":{\"outlinewidth\":0,\"ticks\":\"\"},\"colorscale\":[[0.0,\"#0d0887\"],[0.1111111111111111,\"#46039f\"],[0.2222222222222222,\"#7201a8\"],[0.3333333333333333,\"#9c179e\"],[0.4444444444444444,\"#bd3786\"],[0.5555555555555556,\"#d8576b\"],[0.6666666666666666,\"#ed7953\"],[0.7777777777777778,\"#fb9f3a\"],[0.8888888888888888,\"#fdca26\"],[1.0,\"#f0f921\"]]}],\"heatmap\":[{\"type\":\"heatmap\",\"colorbar\":{\"outlinewidth\":0,\"ticks\":\"\"},\"colorscale\":[[0.0,\"#0d0887\"],[0.1111111111111111,\"#46039f\"],[0.2222222222222222,\"#7201a8\"],[0.3333333333333333,\"#9c179e\"],[0.4444444444444444,\"#bd3786\"],[0.5555555555555556,\"#d8576b\"],[0.6666666666666666,\"#ed7953\"],[0.7777777777777778,\"#fb9f3a\"],[0.8888888888888888,\"#fdca26\"],[1.0,\"#f0f921\"]]}],\"heatmapgl\":[{\"type\":\"heatmapgl\",\"colorbar\":{\"outlinewidth\":0,\"ticks\":\"\"},\"colorscale\":[[0.0,\"#0d0887\"],[0.1111111111111111,\"#46039f\"],[0.2222222222222222,\"#7201a8\"],[0.3333333333333333,\"#9c179e\"],[0.4444444444444444,\"#bd3786\"],[0.5555555555555556,\"#d8576b\"],[0.6666666666666666,\"#ed7953\"],[0.7777777777777778,\"#fb9f3a\"],[0.8888888888888888,\"#fdca26\"],[1.0,\"#f0f921\"]]}],\"contourcarpet\":[{\"type\":\"contourcarpet\",\"colorbar\":{\"outlinewidth\":0,\"ticks\":\"\"}}],\"contour\":[{\"type\":\"contour\",\"colorbar\":{\"outlinewidth\":0,\"ticks\":\"\"},\"colorscale\":[[0.0,\"#0d0887\"],[0.1111111111111111,\"#46039f\"],[0.2222222222222222,\"#7201a8\"],[0.3333333333333333,\"#9c179e\"],[0.4444444444444444,\"#bd3786\"],[0.5555555555555556,\"#d8576b\"],[0.6666666666666666,\"#ed7953\"],[0.7777777777777778,\"#fb9f3a\"],[0.8888888888888888,\"#fdca26\"],[1.0,\"#f0f921\"]]}],\"surface\":[{\"type\":\"surface\",\"colorbar\":{\"outlinewidth\":0,\"ticks\":\"\"},\"colorscale\":[[0.0,\"#0d0887\"],[0.1111111111111111,\"#46039f\"],[0.2222222222222222,\"#7201a8\"],[0.3333333333333333,\"#9c179e\"],[0.4444444444444444,\"#bd3786\"],[0.5555555555555556,\"#d8576b\"],[0.6666666666666666,\"#ed7953\"],[0.7777777777777778,\"#fb9f3a\"],[0.8888888888888888,\"#fdca26\"],[1.0,\"#f0f921\"]]}],\"mesh3d\":[{\"type\":\"mesh3d\",\"colorbar\":{\"outlinewidth\":0,\"ticks\":\"\"}}],\"scatter\":[{\"fillpattern\":{\"fillmode\":\"overlay\",\"size\":10,\"solidity\":0.2},\"type\":\"scatter\"}],\"parcoords\":[{\"type\":\"parcoords\",\"line\":{\"colorbar\":{\"outlinewidth\":0,\"ticks\":\"\"}}}],\"scatterpolargl\":[{\"type\":\"scatterpolargl\",\"marker\":{\"colorbar\":{\"outlinewidth\":0,\"ticks\":\"\"}}}],\"bar\":[{\"error_x\":{\"color\":\"#2a3f5f\"},\"error_y\":{\"color\":\"#2a3f5f\"},\"marker\":{\"line\":{\"color\":\"#E5ECF6\",\"width\":0.5},\"pattern\":{\"fillmode\":\"overlay\",\"size\":10,\"solidity\":0.2}},\"type\":\"bar\"}],\"scattergeo\":[{\"type\":\"scattergeo\",\"marker\":{\"colorbar\":{\"outlinewidth\":0,\"ticks\":\"\"}}}],\"scatterpolar\":[{\"type\":\"scatterpolar\",\"marker\":{\"colorbar\":{\"outlinewidth\":0,\"ticks\":\"\"}}}],\"histogram\":[{\"marker\":{\"pattern\":{\"fillmode\":\"overlay\",\"size\":10,\"solidity\":0.2}},\"type\":\"histogram\"}],\"scattergl\":[{\"type\":\"scattergl\",\"marker\":{\"colorbar\":{\"outlinewidth\":0,\"ticks\":\"\"}}}],\"scatter3d\":[{\"type\":\"scatter3d\",\"line\":{\"colorbar\":{\"outlinewidth\":0,\"ticks\":\"\"}},\"marker\":{\"colorbar\":{\"outlinewidth\":0,\"ticks\":\"\"}}}],\"scattermapbox\":[{\"type\":\"scattermapbox\",\"marker\":{\"colorbar\":{\"outlinewidth\":0,\"ticks\":\"\"}}}],\"scatterternary\":[{\"type\":\"scatterternary\",\"marker\":{\"colorbar\":{\"outlinewidth\":0,\"ticks\":\"\"}}}],\"scattercarpet\":[{\"type\":\"scattercarpet\",\"marker\":{\"colorbar\":{\"outlinewidth\":0,\"ticks\":\"\"}}}],\"carpet\":[{\"aaxis\":{\"endlinecolor\":\"#2a3f5f\",\"gridcolor\":\"white\",\"linecolor\":\"white\",\"minorgridcolor\":\"white\",\"startlinecolor\":\"#2a3f5f\"},\"baxis\":{\"endlinecolor\":\"#2a3f5f\",\"gridcolor\":\"white\",\"linecolor\":\"white\",\"minorgridcolor\":\"white\",\"startlinecolor\":\"#2a3f5f\"},\"type\":\"carpet\"}],\"table\":[{\"cells\":{\"fill\":{\"color\":\"#EBF0F8\"},\"line\":{\"color\":\"white\"}},\"header\":{\"fill\":{\"color\":\"#C8D4E3\"},\"line\":{\"color\":\"white\"}},\"type\":\"table\"}],\"barpolar\":[{\"marker\":{\"line\":{\"color\":\"#E5ECF6\",\"width\":0.5},\"pattern\":{\"fillmode\":\"overlay\",\"size\":10,\"solidity\":0.2}},\"type\":\"barpolar\"}],\"pie\":[{\"automargin\":true,\"type\":\"pie\"}]},\"layout\":{\"autotypenumbers\":\"strict\",\"colorway\":[\"#636efa\",\"#EF553B\",\"#00cc96\",\"#ab63fa\",\"#FFA15A\",\"#19d3f3\",\"#FF6692\",\"#B6E880\",\"#FF97FF\",\"#FECB52\"],\"font\":{\"color\":\"#2a3f5f\"},\"hovermode\":\"closest\",\"hoverlabel\":{\"align\":\"left\"},\"paper_bgcolor\":\"white\",\"plot_bgcolor\":\"#E5ECF6\",\"polar\":{\"bgcolor\":\"#E5ECF6\",\"angularaxis\":{\"gridcolor\":\"white\",\"linecolor\":\"white\",\"ticks\":\"\"},\"radialaxis\":{\"gridcolor\":\"white\",\"linecolor\":\"white\",\"ticks\":\"\"}},\"ternary\":{\"bgcolor\":\"#E5ECF6\",\"aaxis\":{\"gridcolor\":\"white\",\"linecolor\":\"white\",\"ticks\":\"\"},\"baxis\":{\"gridcolor\":\"white\",\"linecolor\":\"white\",\"ticks\":\"\"},\"caxis\":{\"gridcolor\":\"white\",\"linecolor\":\"white\",\"ticks\":\"\"}},\"coloraxis\":{\"colorbar\":{\"outlinewidth\":0,\"ticks\":\"\"}},\"colorscale\":{\"sequential\":[[0.0,\"#0d0887\"],[0.1111111111111111,\"#46039f\"],[0.2222222222222222,\"#7201a8\"],[0.3333333333333333,\"#9c179e\"],[0.4444444444444444,\"#bd3786\"],[0.5555555555555556,\"#d8576b\"],[0.6666666666666666,\"#ed7953\"],[0.7777777777777778,\"#fb9f3a\"],[0.8888888888888888,\"#fdca26\"],[1.0,\"#f0f921\"]],\"sequentialminus\":[[0.0,\"#0d0887\"],[0.1111111111111111,\"#46039f\"],[0.2222222222222222,\"#7201a8\"],[0.3333333333333333,\"#9c179e\"],[0.4444444444444444,\"#bd3786\"],[0.5555555555555556,\"#d8576b\"],[0.6666666666666666,\"#ed7953\"],[0.7777777777777778,\"#fb9f3a\"],[0.8888888888888888,\"#fdca26\"],[1.0,\"#f0f921\"]],\"diverging\":[[0,\"#8e0152\"],[0.1,\"#c51b7d\"],[0.2,\"#de77ae\"],[0.3,\"#f1b6da\"],[0.4,\"#fde0ef\"],[0.5,\"#f7f7f7\"],[0.6,\"#e6f5d0\"],[0.7,\"#b8e186\"],[0.8,\"#7fbc41\"],[0.9,\"#4d9221\"],[1,\"#276419\"]]},\"xaxis\":{\"gridcolor\":\"white\",\"linecolor\":\"white\",\"ticks\":\"\",\"title\":{\"standoff\":15},\"zerolinecolor\":\"white\",\"automargin\":true,\"zerolinewidth\":2},\"yaxis\":{\"gridcolor\":\"white\",\"linecolor\":\"white\",\"ticks\":\"\",\"title\":{\"standoff\":15},\"zerolinecolor\":\"white\",\"automargin\":true,\"zerolinewidth\":2},\"scene\":{\"xaxis\":{\"backgroundcolor\":\"#E5ECF6\",\"gridcolor\":\"white\",\"linecolor\":\"white\",\"showbackground\":true,\"ticks\":\"\",\"zerolinecolor\":\"white\",\"gridwidth\":2},\"yaxis\":{\"backgroundcolor\":\"#E5ECF6\",\"gridcolor\":\"white\",\"linecolor\":\"white\",\"showbackground\":true,\"ticks\":\"\",\"zerolinecolor\":\"white\",\"gridwidth\":2},\"zaxis\":{\"backgroundcolor\":\"#E5ECF6\",\"gridcolor\":\"white\",\"linecolor\":\"white\",\"showbackground\":true,\"ticks\":\"\",\"zerolinecolor\":\"white\",\"gridwidth\":2}},\"shapedefaults\":{\"line\":{\"color\":\"#2a3f5f\"}},\"annotationdefaults\":{\"arrowcolor\":\"#2a3f5f\",\"arrowhead\":0,\"arrowwidth\":1},\"geo\":{\"bgcolor\":\"white\",\"landcolor\":\"#E5ECF6\",\"subunitcolor\":\"white\",\"showland\":true,\"showlakes\":true,\"lakecolor\":\"white\"},\"title\":{\"x\":0.05},\"mapbox\":{\"style\":\"light\"}}},\"xaxis\":{\"anchor\":\"y\",\"domain\":[0.0,1.0],\"title\":{\"text\":\"Rider Counts\"}},\"yaxis\":{\"anchor\":\"x\",\"domain\":[0.0,1.0],\"title\":{\"text\":\"Hour\"}},\"legend\":{\"title\":{\"text\":\"member_casual\"},\"tracegroupgap\":0},\"margin\":{\"t\":60},\"barmode\":\"group\"},                        {\"responsive\": true}                    ).then(function(){\n",
       "                            \n",
       "var gd = document.getElementById('01d55df6-e424-481c-9e92-8ab51055d930');\n",
       "var x = new MutationObserver(function (mutations, observer) {{\n",
       "        var display = window.getComputedStyle(gd).display;\n",
       "        if (!display || display === 'none') {{\n",
       "            console.log([gd, 'removed!']);\n",
       "            Plotly.purge(gd);\n",
       "            observer.disconnect();\n",
       "        }}\n",
       "}});\n",
       "\n",
       "// Listen for the removal of the full notebook cells\n",
       "var notebookContainer = gd.closest('#notebook-container');\n",
       "if (notebookContainer) {{\n",
       "    x.observe(notebookContainer, {childList: true});\n",
       "}}\n",
       "\n",
       "// Listen for the clearing of the current output cell\n",
       "var outputEl = gd.closest('.output');\n",
       "if (outputEl) {{\n",
       "    x.observe(outputEl, {childList: true});\n",
       "}}\n",
       "\n",
       "                        })                };                });            </script>        </div>"
      ]
     },
     "metadata": {},
     "output_type": "display_data"
    }
   ],
   "source": [
    "pivot6 = df.pivot_table(\n",
    "                        index = [\"hour\",\"member_casual\"],\n",
    "                        values =\"ride_id\",\n",
    "                        aggfunc = [\"count\"],\n",
    "                        margins =True,\n",
    "                        margins_name = \"Total Count\"\n",
    "                        )\n",
    "print(pivot6)\n",
    "print(\"-\"*40)\n",
    "group6 = df.groupby([\"hour\",\"member_casual\"], as_index =False).count()\n",
    "group6 = group6.query(\"ride_id !=0\")\n",
    "px.bar(group6,\n",
    "      y= \"hour\",\n",
    "      x= \"ride_id\",\n",
    "      hover_name = \"member_casual\",\n",
    "      orientation = \"h\",\n",
    "      barmode = \"group\",\n",
    "      color = \"member_casual\",\n",
    "      hover_data = [\"day\",\"ride_id\"],\n",
    "      labels = {\"ride_id\" : \"Rider Counts\", \"hour\" : \"Hour\"})"
   ]
  },
  {
   "cell_type": "markdown",
   "id": "2eff7a68",
   "metadata": {
    "papermill": {
     "duration": 0.023269,
     "end_time": "2023-06-19T11:31:16.900590",
     "exception": false,
     "start_time": "2023-06-19T11:31:16.877321",
     "status": "completed"
    },
    "tags": []
   },
   "source": [
    "*=> The tendency of use service of both type riders are likely the same , use more during afternoon , peak use during evening .*\n"
   ]
  },
  {
   "cell_type": "markdown",
   "id": "6f5b8294",
   "metadata": {
    "papermill": {
     "duration": 0.022619,
     "end_time": "2023-06-19T11:31:16.946158",
     "exception": false,
     "start_time": "2023-06-19T11:31:16.923539",
     "status": "completed"
    },
    "tags": []
   },
   "source": [
    "#### **4.3.4. AVERAGE OF MEMBER/CASUAL IN TERM OF RIDE LENGTH OVER PERIODS / MONTHS / DAYS /HOURS**"
   ]
  },
  {
   "cell_type": "markdown",
   "id": "34f1f49a",
   "metadata": {
    "papermill": {
     "duration": 0.022798,
     "end_time": "2023-06-19T11:31:16.991826",
     "exception": false,
     "start_time": "2023-06-19T11:31:16.969028",
     "status": "completed"
    },
    "tags": []
   },
   "source": [
    "a. Over the period"
   ]
  },
  {
   "cell_type": "code",
   "execution_count": 34,
   "id": "1f8b4035",
   "metadata": {
    "execution": {
     "iopub.execute_input": "2023-06-19T11:31:17.039544Z",
     "iopub.status.busy": "2023-06-19T11:31:17.039173Z",
     "iopub.status.idle": "2023-06-19T11:31:17.611893Z",
     "shell.execute_reply": "2023-06-19T11:31:17.610946Z"
    },
    "papermill": {
     "duration": 0.599622,
     "end_time": "2023-06-19T11:31:17.614421",
     "exception": false,
     "start_time": "2023-06-19T11:31:17.014799",
     "status": "completed"
    },
    "tags": []
   },
   "outputs": [
    {
     "name": "stdout",
     "output_type": "stream",
     "text": [
      "                          mean\n",
      "                   ride_length\n",
      "member_casual                 \n",
      "casual               28.236015\n",
      "member               12.300843\n",
      "Total Ride Average   18.632927\n",
      "----------------------------------------\n"
     ]
    },
    {
     "data": {
      "text/html": [
       "<div>                            <div id=\"7c10ae69-9aeb-4e93-9f13-e107eec52c31\" class=\"plotly-graph-div\" style=\"height:525px; width:100%;\"></div>            <script type=\"text/javascript\">                require([\"plotly\"], function(Plotly) {                    window.PLOTLYENV=window.PLOTLYENV || {};                                    if (document.getElementById(\"7c10ae69-9aeb-4e93-9f13-e107eec52c31\")) {                    Plotly.newPlot(                        \"7c10ae69-9aeb-4e93-9f13-e107eec52c31\",                        [{\"alignmentgroup\":\"True\",\"hovertemplate\":\"Member/Casual=%{x}<br>Average Ride Length (minutes)=%{text}<extra></extra>\",\"legendgroup\":\"casual\",\"marker\":{\"color\":\"#636efa\",\"pattern\":{\"shape\":\"\"}},\"name\":\"casual\",\"offsetgroup\":\"casual\",\"orientation\":\"v\",\"showlegend\":true,\"text\":[28.236],\"textposition\":\"auto\",\"x\":[\"casual\"],\"xaxis\":\"x\",\"y\":[28.236],\"yaxis\":\"y\",\"type\":\"bar\"},{\"alignmentgroup\":\"True\",\"hovertemplate\":\"Member/Casual=%{x}<br>Average Ride Length (minutes)=%{text}<extra></extra>\",\"legendgroup\":\"member\",\"marker\":{\"color\":\"#EF553B\",\"pattern\":{\"shape\":\"\"}},\"name\":\"member\",\"offsetgroup\":\"member\",\"orientation\":\"v\",\"showlegend\":true,\"text\":[12.301],\"textposition\":\"auto\",\"x\":[\"member\"],\"xaxis\":\"x\",\"y\":[12.301],\"yaxis\":\"y\",\"type\":\"bar\"}],                        {\"template\":{\"data\":{\"histogram2dcontour\":[{\"type\":\"histogram2dcontour\",\"colorbar\":{\"outlinewidth\":0,\"ticks\":\"\"},\"colorscale\":[[0.0,\"#0d0887\"],[0.1111111111111111,\"#46039f\"],[0.2222222222222222,\"#7201a8\"],[0.3333333333333333,\"#9c179e\"],[0.4444444444444444,\"#bd3786\"],[0.5555555555555556,\"#d8576b\"],[0.6666666666666666,\"#ed7953\"],[0.7777777777777778,\"#fb9f3a\"],[0.8888888888888888,\"#fdca26\"],[1.0,\"#f0f921\"]]}],\"choropleth\":[{\"type\":\"choropleth\",\"colorbar\":{\"outlinewidth\":0,\"ticks\":\"\"}}],\"histogram2d\":[{\"type\":\"histogram2d\",\"colorbar\":{\"outlinewidth\":0,\"ticks\":\"\"},\"colorscale\":[[0.0,\"#0d0887\"],[0.1111111111111111,\"#46039f\"],[0.2222222222222222,\"#7201a8\"],[0.3333333333333333,\"#9c179e\"],[0.4444444444444444,\"#bd3786\"],[0.5555555555555556,\"#d8576b\"],[0.6666666666666666,\"#ed7953\"],[0.7777777777777778,\"#fb9f3a\"],[0.8888888888888888,\"#fdca26\"],[1.0,\"#f0f921\"]]}],\"heatmap\":[{\"type\":\"heatmap\",\"colorbar\":{\"outlinewidth\":0,\"ticks\":\"\"},\"colorscale\":[[0.0,\"#0d0887\"],[0.1111111111111111,\"#46039f\"],[0.2222222222222222,\"#7201a8\"],[0.3333333333333333,\"#9c179e\"],[0.4444444444444444,\"#bd3786\"],[0.5555555555555556,\"#d8576b\"],[0.6666666666666666,\"#ed7953\"],[0.7777777777777778,\"#fb9f3a\"],[0.8888888888888888,\"#fdca26\"],[1.0,\"#f0f921\"]]}],\"heatmapgl\":[{\"type\":\"heatmapgl\",\"colorbar\":{\"outlinewidth\":0,\"ticks\":\"\"},\"colorscale\":[[0.0,\"#0d0887\"],[0.1111111111111111,\"#46039f\"],[0.2222222222222222,\"#7201a8\"],[0.3333333333333333,\"#9c179e\"],[0.4444444444444444,\"#bd3786\"],[0.5555555555555556,\"#d8576b\"],[0.6666666666666666,\"#ed7953\"],[0.7777777777777778,\"#fb9f3a\"],[0.8888888888888888,\"#fdca26\"],[1.0,\"#f0f921\"]]}],\"contourcarpet\":[{\"type\":\"contourcarpet\",\"colorbar\":{\"outlinewidth\":0,\"ticks\":\"\"}}],\"contour\":[{\"type\":\"contour\",\"colorbar\":{\"outlinewidth\":0,\"ticks\":\"\"},\"colorscale\":[[0.0,\"#0d0887\"],[0.1111111111111111,\"#46039f\"],[0.2222222222222222,\"#7201a8\"],[0.3333333333333333,\"#9c179e\"],[0.4444444444444444,\"#bd3786\"],[0.5555555555555556,\"#d8576b\"],[0.6666666666666666,\"#ed7953\"],[0.7777777777777778,\"#fb9f3a\"],[0.8888888888888888,\"#fdca26\"],[1.0,\"#f0f921\"]]}],\"surface\":[{\"type\":\"surface\",\"colorbar\":{\"outlinewidth\":0,\"ticks\":\"\"},\"colorscale\":[[0.0,\"#0d0887\"],[0.1111111111111111,\"#46039f\"],[0.2222222222222222,\"#7201a8\"],[0.3333333333333333,\"#9c179e\"],[0.4444444444444444,\"#bd3786\"],[0.5555555555555556,\"#d8576b\"],[0.6666666666666666,\"#ed7953\"],[0.7777777777777778,\"#fb9f3a\"],[0.8888888888888888,\"#fdca26\"],[1.0,\"#f0f921\"]]}],\"mesh3d\":[{\"type\":\"mesh3d\",\"colorbar\":{\"outlinewidth\":0,\"ticks\":\"\"}}],\"scatter\":[{\"fillpattern\":{\"fillmode\":\"overlay\",\"size\":10,\"solidity\":0.2},\"type\":\"scatter\"}],\"parcoords\":[{\"type\":\"parcoords\",\"line\":{\"colorbar\":{\"outlinewidth\":0,\"ticks\":\"\"}}}],\"scatterpolargl\":[{\"type\":\"scatterpolargl\",\"marker\":{\"colorbar\":{\"outlinewidth\":0,\"ticks\":\"\"}}}],\"bar\":[{\"error_x\":{\"color\":\"#2a3f5f\"},\"error_y\":{\"color\":\"#2a3f5f\"},\"marker\":{\"line\":{\"color\":\"#E5ECF6\",\"width\":0.5},\"pattern\":{\"fillmode\":\"overlay\",\"size\":10,\"solidity\":0.2}},\"type\":\"bar\"}],\"scattergeo\":[{\"type\":\"scattergeo\",\"marker\":{\"colorbar\":{\"outlinewidth\":0,\"ticks\":\"\"}}}],\"scatterpolar\":[{\"type\":\"scatterpolar\",\"marker\":{\"colorbar\":{\"outlinewidth\":0,\"ticks\":\"\"}}}],\"histogram\":[{\"marker\":{\"pattern\":{\"fillmode\":\"overlay\",\"size\":10,\"solidity\":0.2}},\"type\":\"histogram\"}],\"scattergl\":[{\"type\":\"scattergl\",\"marker\":{\"colorbar\":{\"outlinewidth\":0,\"ticks\":\"\"}}}],\"scatter3d\":[{\"type\":\"scatter3d\",\"line\":{\"colorbar\":{\"outlinewidth\":0,\"ticks\":\"\"}},\"marker\":{\"colorbar\":{\"outlinewidth\":0,\"ticks\":\"\"}}}],\"scattermapbox\":[{\"type\":\"scattermapbox\",\"marker\":{\"colorbar\":{\"outlinewidth\":0,\"ticks\":\"\"}}}],\"scatterternary\":[{\"type\":\"scatterternary\",\"marker\":{\"colorbar\":{\"outlinewidth\":0,\"ticks\":\"\"}}}],\"scattercarpet\":[{\"type\":\"scattercarpet\",\"marker\":{\"colorbar\":{\"outlinewidth\":0,\"ticks\":\"\"}}}],\"carpet\":[{\"aaxis\":{\"endlinecolor\":\"#2a3f5f\",\"gridcolor\":\"white\",\"linecolor\":\"white\",\"minorgridcolor\":\"white\",\"startlinecolor\":\"#2a3f5f\"},\"baxis\":{\"endlinecolor\":\"#2a3f5f\",\"gridcolor\":\"white\",\"linecolor\":\"white\",\"minorgridcolor\":\"white\",\"startlinecolor\":\"#2a3f5f\"},\"type\":\"carpet\"}],\"table\":[{\"cells\":{\"fill\":{\"color\":\"#EBF0F8\"},\"line\":{\"color\":\"white\"}},\"header\":{\"fill\":{\"color\":\"#C8D4E3\"},\"line\":{\"color\":\"white\"}},\"type\":\"table\"}],\"barpolar\":[{\"marker\":{\"line\":{\"color\":\"#E5ECF6\",\"width\":0.5},\"pattern\":{\"fillmode\":\"overlay\",\"size\":10,\"solidity\":0.2}},\"type\":\"barpolar\"}],\"pie\":[{\"automargin\":true,\"type\":\"pie\"}]},\"layout\":{\"autotypenumbers\":\"strict\",\"colorway\":[\"#636efa\",\"#EF553B\",\"#00cc96\",\"#ab63fa\",\"#FFA15A\",\"#19d3f3\",\"#FF6692\",\"#B6E880\",\"#FF97FF\",\"#FECB52\"],\"font\":{\"color\":\"#2a3f5f\"},\"hovermode\":\"closest\",\"hoverlabel\":{\"align\":\"left\"},\"paper_bgcolor\":\"white\",\"plot_bgcolor\":\"#E5ECF6\",\"polar\":{\"bgcolor\":\"#E5ECF6\",\"angularaxis\":{\"gridcolor\":\"white\",\"linecolor\":\"white\",\"ticks\":\"\"},\"radialaxis\":{\"gridcolor\":\"white\",\"linecolor\":\"white\",\"ticks\":\"\"}},\"ternary\":{\"bgcolor\":\"#E5ECF6\",\"aaxis\":{\"gridcolor\":\"white\",\"linecolor\":\"white\",\"ticks\":\"\"},\"baxis\":{\"gridcolor\":\"white\",\"linecolor\":\"white\",\"ticks\":\"\"},\"caxis\":{\"gridcolor\":\"white\",\"linecolor\":\"white\",\"ticks\":\"\"}},\"coloraxis\":{\"colorbar\":{\"outlinewidth\":0,\"ticks\":\"\"}},\"colorscale\":{\"sequential\":[[0.0,\"#0d0887\"],[0.1111111111111111,\"#46039f\"],[0.2222222222222222,\"#7201a8\"],[0.3333333333333333,\"#9c179e\"],[0.4444444444444444,\"#bd3786\"],[0.5555555555555556,\"#d8576b\"],[0.6666666666666666,\"#ed7953\"],[0.7777777777777778,\"#fb9f3a\"],[0.8888888888888888,\"#fdca26\"],[1.0,\"#f0f921\"]],\"sequentialminus\":[[0.0,\"#0d0887\"],[0.1111111111111111,\"#46039f\"],[0.2222222222222222,\"#7201a8\"],[0.3333333333333333,\"#9c179e\"],[0.4444444444444444,\"#bd3786\"],[0.5555555555555556,\"#d8576b\"],[0.6666666666666666,\"#ed7953\"],[0.7777777777777778,\"#fb9f3a\"],[0.8888888888888888,\"#fdca26\"],[1.0,\"#f0f921\"]],\"diverging\":[[0,\"#8e0152\"],[0.1,\"#c51b7d\"],[0.2,\"#de77ae\"],[0.3,\"#f1b6da\"],[0.4,\"#fde0ef\"],[0.5,\"#f7f7f7\"],[0.6,\"#e6f5d0\"],[0.7,\"#b8e186\"],[0.8,\"#7fbc41\"],[0.9,\"#4d9221\"],[1,\"#276419\"]]},\"xaxis\":{\"gridcolor\":\"white\",\"linecolor\":\"white\",\"ticks\":\"\",\"title\":{\"standoff\":15},\"zerolinecolor\":\"white\",\"automargin\":true,\"zerolinewidth\":2},\"yaxis\":{\"gridcolor\":\"white\",\"linecolor\":\"white\",\"ticks\":\"\",\"title\":{\"standoff\":15},\"zerolinecolor\":\"white\",\"automargin\":true,\"zerolinewidth\":2},\"scene\":{\"xaxis\":{\"backgroundcolor\":\"#E5ECF6\",\"gridcolor\":\"white\",\"linecolor\":\"white\",\"showbackground\":true,\"ticks\":\"\",\"zerolinecolor\":\"white\",\"gridwidth\":2},\"yaxis\":{\"backgroundcolor\":\"#E5ECF6\",\"gridcolor\":\"white\",\"linecolor\":\"white\",\"showbackground\":true,\"ticks\":\"\",\"zerolinecolor\":\"white\",\"gridwidth\":2},\"zaxis\":{\"backgroundcolor\":\"#E5ECF6\",\"gridcolor\":\"white\",\"linecolor\":\"white\",\"showbackground\":true,\"ticks\":\"\",\"zerolinecolor\":\"white\",\"gridwidth\":2}},\"shapedefaults\":{\"line\":{\"color\":\"#2a3f5f\"}},\"annotationdefaults\":{\"arrowcolor\":\"#2a3f5f\",\"arrowhead\":0,\"arrowwidth\":1},\"geo\":{\"bgcolor\":\"white\",\"landcolor\":\"#E5ECF6\",\"subunitcolor\":\"white\",\"showland\":true,\"showlakes\":true,\"lakecolor\":\"white\"},\"title\":{\"x\":0.05},\"mapbox\":{\"style\":\"light\"}}},\"xaxis\":{\"anchor\":\"y\",\"domain\":[0.0,1.0],\"title\":{\"text\":\"Member/Casual\"},\"categoryorder\":\"array\",\"categoryarray\":[\"casual\",\"member\"]},\"yaxis\":{\"anchor\":\"x\",\"domain\":[0.0,1.0],\"title\":{\"text\":\"Average Ride Length (minutes)\"}},\"legend\":{\"title\":{\"text\":\"Member/Casual\"},\"tracegroupgap\":0},\"margin\":{\"t\":60},\"barmode\":\"relative\"},                        {\"responsive\": true}                    ).then(function(){\n",
       "                            \n",
       "var gd = document.getElementById('7c10ae69-9aeb-4e93-9f13-e107eec52c31');\n",
       "var x = new MutationObserver(function (mutations, observer) {{\n",
       "        var display = window.getComputedStyle(gd).display;\n",
       "        if (!display || display === 'none') {{\n",
       "            console.log([gd, 'removed!']);\n",
       "            Plotly.purge(gd);\n",
       "            observer.disconnect();\n",
       "        }}\n",
       "}});\n",
       "\n",
       "// Listen for the removal of the full notebook cells\n",
       "var notebookContainer = gd.closest('#notebook-container');\n",
       "if (notebookContainer) {{\n",
       "    x.observe(notebookContainer, {childList: true});\n",
       "}}\n",
       "\n",
       "// Listen for the clearing of the current output cell\n",
       "var outputEl = gd.closest('.output');\n",
       "if (outputEl) {{\n",
       "    x.observe(outputEl, {childList: true});\n",
       "}}\n",
       "\n",
       "                        })                };                });            </script>        </div>"
      ]
     },
     "metadata": {},
     "output_type": "display_data"
    }
   ],
   "source": [
    "pivot7 = pd.pivot_table(df,\n",
    "               index = 'member_casual',\n",
    "               values = ['ride_length'],\n",
    "               aggfunc = ['mean'],\n",
    "               margins = True,\n",
    "               margins_name = 'Total Ride Average')\n",
    "print(pivot7)\n",
    "print(\"-\"*40)\n",
    "group7 = round(df.groupby(\"member_casual\" , as_index=False).mean(),3)\n",
    "\n",
    "px.bar(group7, y = 'ride_length', x = 'member_casual',\n",
    "        color = 'member_casual', \n",
    "        text = 'ride_length', \n",
    "        labels = {'ride_length': 'Average Ride Length (minutes)', 'member_casual': 'Member/Casual'},\n",
    "      )"
   ]
  },
  {
   "cell_type": "markdown",
   "id": "4174bcaf",
   "metadata": {
    "papermill": {
     "duration": 0.02376,
     "end_time": "2023-06-19T11:31:17.661410",
     "exception": false,
     "start_time": "2023-06-19T11:31:17.637650",
     "status": "completed"
    },
    "tags": []
   },
   "source": [
    "*=> The average ride length of casual riders are more than twice of members .*"
   ]
  },
  {
   "cell_type": "markdown",
   "id": "8957b9fd",
   "metadata": {
    "papermill": {
     "duration": 0.022744,
     "end_time": "2023-06-19T11:31:17.707400",
     "exception": false,
     "start_time": "2023-06-19T11:31:17.684656",
     "status": "completed"
    },
    "tags": []
   },
   "source": [
    "b. Over the months"
   ]
  },
  {
   "cell_type": "code",
   "execution_count": 35,
   "id": "e3ae70fa",
   "metadata": {
    "execution": {
     "iopub.execute_input": "2023-06-19T11:31:17.755379Z",
     "iopub.status.busy": "2023-06-19T11:31:17.754993Z",
     "iopub.status.idle": "2023-06-19T11:31:18.616394Z",
     "shell.execute_reply": "2023-06-19T11:31:18.615400Z"
    },
    "papermill": {
     "duration": 0.888378,
     "end_time": "2023-06-19T11:31:18.618770",
     "exception": false,
     "start_time": "2023-06-19T11:31:17.730392",
     "status": "completed"
    },
    "tags": []
   },
   "outputs": [
    {
     "name": "stdout",
     "output_type": "stream",
     "text": [
      "                                        mean\n",
      "                                 ride_length\n",
      "month              member_casual            \n",
      "January            casual          23.100574\n",
      "                   member          10.216719\n",
      "February           casual          23.355421\n",
      "                   member          10.572259\n",
      "March              casual          21.592395\n",
      "                   member          10.333839\n",
      "April              casual          28.094961\n",
      "                   member          11.632827\n",
      "May                casual          27.444889\n",
      "                   member          12.908957\n",
      "June               casual          32.231543\n",
      "                   member          13.794532\n",
      "July               casual          29.397263\n",
      "                   member          13.534380\n",
      "August             casual          29.457111\n",
      "                   member          13.198219\n",
      "September          casual          28.093159\n",
      "                   member          12.777824\n",
      "October            casual          26.504993\n",
      "                   member          11.748959\n",
      "November           casual          21.310653\n",
      "                   member          10.885020\n",
      "December           casual          22.374023\n",
      "                   member          10.406782\n",
      "Total Ride Average                 18.632927\n",
      "----------------------------------------\n"
     ]
    },
    {
     "data": {
      "text/html": [
       "<div>                            <div id=\"fd926405-ffeb-4e3a-b497-60b93b2d778f\" class=\"plotly-graph-div\" style=\"height:525px; width:100%;\"></div>            <script type=\"text/javascript\">                require([\"plotly\"], function(Plotly) {                    window.PLOTLYENV=window.PLOTLYENV || {};                                    if (document.getElementById(\"fd926405-ffeb-4e3a-b497-60b93b2d778f\")) {                    Plotly.newPlot(                        \"fd926405-ffeb-4e3a-b497-60b93b2d778f\",                        [{\"alignmentgroup\":\"True\",\"hovertemplate\":\"member_casual=casual<br>Member/Casual=%{x}<br>Average Ride Length (minutes)=%{text}<extra></extra>\",\"legendgroup\":\"casual\",\"marker\":{\"color\":\"#636efa\",\"pattern\":{\"shape\":\"\"}},\"name\":\"casual\",\"offsetgroup\":\"casual\",\"orientation\":\"v\",\"showlegend\":true,\"text\":[23.101,23.355,21.592,28.095,27.445,32.232,29.397,29.457,28.093,26.505,21.311,22.374],\"textposition\":\"auto\",\"x\":[\"January\",\"February\",\"March\",\"April\",\"May\",\"June\",\"July\",\"August\",\"September\",\"October\",\"November\",\"December\"],\"xaxis\":\"x\",\"y\":[23.101,23.355,21.592,28.095,27.445,32.232,29.397,29.457,28.093,26.505,21.311,22.374],\"yaxis\":\"y\",\"type\":\"bar\"},{\"alignmentgroup\":\"True\",\"hovertemplate\":\"member_casual=member<br>Member/Casual=%{x}<br>Average Ride Length (minutes)=%{text}<extra></extra>\",\"legendgroup\":\"member\",\"marker\":{\"color\":\"#EF553B\",\"pattern\":{\"shape\":\"\"}},\"name\":\"member\",\"offsetgroup\":\"member\",\"orientation\":\"v\",\"showlegend\":true,\"text\":[10.217,10.572,10.334,11.633,12.909,13.795,13.534,13.198,12.778,11.749,10.885,10.407],\"textposition\":\"auto\",\"x\":[\"January\",\"February\",\"March\",\"April\",\"May\",\"June\",\"July\",\"August\",\"September\",\"October\",\"November\",\"December\"],\"xaxis\":\"x\",\"y\":[10.217,10.572,10.334,11.633,12.909,13.795,13.534,13.198,12.778,11.749,10.885,10.407],\"yaxis\":\"y\",\"type\":\"bar\"}],                        {\"template\":{\"data\":{\"histogram2dcontour\":[{\"type\":\"histogram2dcontour\",\"colorbar\":{\"outlinewidth\":0,\"ticks\":\"\"},\"colorscale\":[[0.0,\"#0d0887\"],[0.1111111111111111,\"#46039f\"],[0.2222222222222222,\"#7201a8\"],[0.3333333333333333,\"#9c179e\"],[0.4444444444444444,\"#bd3786\"],[0.5555555555555556,\"#d8576b\"],[0.6666666666666666,\"#ed7953\"],[0.7777777777777778,\"#fb9f3a\"],[0.8888888888888888,\"#fdca26\"],[1.0,\"#f0f921\"]]}],\"choropleth\":[{\"type\":\"choropleth\",\"colorbar\":{\"outlinewidth\":0,\"ticks\":\"\"}}],\"histogram2d\":[{\"type\":\"histogram2d\",\"colorbar\":{\"outlinewidth\":0,\"ticks\":\"\"},\"colorscale\":[[0.0,\"#0d0887\"],[0.1111111111111111,\"#46039f\"],[0.2222222222222222,\"#7201a8\"],[0.3333333333333333,\"#9c179e\"],[0.4444444444444444,\"#bd3786\"],[0.5555555555555556,\"#d8576b\"],[0.6666666666666666,\"#ed7953\"],[0.7777777777777778,\"#fb9f3a\"],[0.8888888888888888,\"#fdca26\"],[1.0,\"#f0f921\"]]}],\"heatmap\":[{\"type\":\"heatmap\",\"colorbar\":{\"outlinewidth\":0,\"ticks\":\"\"},\"colorscale\":[[0.0,\"#0d0887\"],[0.1111111111111111,\"#46039f\"],[0.2222222222222222,\"#7201a8\"],[0.3333333333333333,\"#9c179e\"],[0.4444444444444444,\"#bd3786\"],[0.5555555555555556,\"#d8576b\"],[0.6666666666666666,\"#ed7953\"],[0.7777777777777778,\"#fb9f3a\"],[0.8888888888888888,\"#fdca26\"],[1.0,\"#f0f921\"]]}],\"heatmapgl\":[{\"type\":\"heatmapgl\",\"colorbar\":{\"outlinewidth\":0,\"ticks\":\"\"},\"colorscale\":[[0.0,\"#0d0887\"],[0.1111111111111111,\"#46039f\"],[0.2222222222222222,\"#7201a8\"],[0.3333333333333333,\"#9c179e\"],[0.4444444444444444,\"#bd3786\"],[0.5555555555555556,\"#d8576b\"],[0.6666666666666666,\"#ed7953\"],[0.7777777777777778,\"#fb9f3a\"],[0.8888888888888888,\"#fdca26\"],[1.0,\"#f0f921\"]]}],\"contourcarpet\":[{\"type\":\"contourcarpet\",\"colorbar\":{\"outlinewidth\":0,\"ticks\":\"\"}}],\"contour\":[{\"type\":\"contour\",\"colorbar\":{\"outlinewidth\":0,\"ticks\":\"\"},\"colorscale\":[[0.0,\"#0d0887\"],[0.1111111111111111,\"#46039f\"],[0.2222222222222222,\"#7201a8\"],[0.3333333333333333,\"#9c179e\"],[0.4444444444444444,\"#bd3786\"],[0.5555555555555556,\"#d8576b\"],[0.6666666666666666,\"#ed7953\"],[0.7777777777777778,\"#fb9f3a\"],[0.8888888888888888,\"#fdca26\"],[1.0,\"#f0f921\"]]}],\"surface\":[{\"type\":\"surface\",\"colorbar\":{\"outlinewidth\":0,\"ticks\":\"\"},\"colorscale\":[[0.0,\"#0d0887\"],[0.1111111111111111,\"#46039f\"],[0.2222222222222222,\"#7201a8\"],[0.3333333333333333,\"#9c179e\"],[0.4444444444444444,\"#bd3786\"],[0.5555555555555556,\"#d8576b\"],[0.6666666666666666,\"#ed7953\"],[0.7777777777777778,\"#fb9f3a\"],[0.8888888888888888,\"#fdca26\"],[1.0,\"#f0f921\"]]}],\"mesh3d\":[{\"type\":\"mesh3d\",\"colorbar\":{\"outlinewidth\":0,\"ticks\":\"\"}}],\"scatter\":[{\"fillpattern\":{\"fillmode\":\"overlay\",\"size\":10,\"solidity\":0.2},\"type\":\"scatter\"}],\"parcoords\":[{\"type\":\"parcoords\",\"line\":{\"colorbar\":{\"outlinewidth\":0,\"ticks\":\"\"}}}],\"scatterpolargl\":[{\"type\":\"scatterpolargl\",\"marker\":{\"colorbar\":{\"outlinewidth\":0,\"ticks\":\"\"}}}],\"bar\":[{\"error_x\":{\"color\":\"#2a3f5f\"},\"error_y\":{\"color\":\"#2a3f5f\"},\"marker\":{\"line\":{\"color\":\"#E5ECF6\",\"width\":0.5},\"pattern\":{\"fillmode\":\"overlay\",\"size\":10,\"solidity\":0.2}},\"type\":\"bar\"}],\"scattergeo\":[{\"type\":\"scattergeo\",\"marker\":{\"colorbar\":{\"outlinewidth\":0,\"ticks\":\"\"}}}],\"scatterpolar\":[{\"type\":\"scatterpolar\",\"marker\":{\"colorbar\":{\"outlinewidth\":0,\"ticks\":\"\"}}}],\"histogram\":[{\"marker\":{\"pattern\":{\"fillmode\":\"overlay\",\"size\":10,\"solidity\":0.2}},\"type\":\"histogram\"}],\"scattergl\":[{\"type\":\"scattergl\",\"marker\":{\"colorbar\":{\"outlinewidth\":0,\"ticks\":\"\"}}}],\"scatter3d\":[{\"type\":\"scatter3d\",\"line\":{\"colorbar\":{\"outlinewidth\":0,\"ticks\":\"\"}},\"marker\":{\"colorbar\":{\"outlinewidth\":0,\"ticks\":\"\"}}}],\"scattermapbox\":[{\"type\":\"scattermapbox\",\"marker\":{\"colorbar\":{\"outlinewidth\":0,\"ticks\":\"\"}}}],\"scatterternary\":[{\"type\":\"scatterternary\",\"marker\":{\"colorbar\":{\"outlinewidth\":0,\"ticks\":\"\"}}}],\"scattercarpet\":[{\"type\":\"scattercarpet\",\"marker\":{\"colorbar\":{\"outlinewidth\":0,\"ticks\":\"\"}}}],\"carpet\":[{\"aaxis\":{\"endlinecolor\":\"#2a3f5f\",\"gridcolor\":\"white\",\"linecolor\":\"white\",\"minorgridcolor\":\"white\",\"startlinecolor\":\"#2a3f5f\"},\"baxis\":{\"endlinecolor\":\"#2a3f5f\",\"gridcolor\":\"white\",\"linecolor\":\"white\",\"minorgridcolor\":\"white\",\"startlinecolor\":\"#2a3f5f\"},\"type\":\"carpet\"}],\"table\":[{\"cells\":{\"fill\":{\"color\":\"#EBF0F8\"},\"line\":{\"color\":\"white\"}},\"header\":{\"fill\":{\"color\":\"#C8D4E3\"},\"line\":{\"color\":\"white\"}},\"type\":\"table\"}],\"barpolar\":[{\"marker\":{\"line\":{\"color\":\"#E5ECF6\",\"width\":0.5},\"pattern\":{\"fillmode\":\"overlay\",\"size\":10,\"solidity\":0.2}},\"type\":\"barpolar\"}],\"pie\":[{\"automargin\":true,\"type\":\"pie\"}]},\"layout\":{\"autotypenumbers\":\"strict\",\"colorway\":[\"#636efa\",\"#EF553B\",\"#00cc96\",\"#ab63fa\",\"#FFA15A\",\"#19d3f3\",\"#FF6692\",\"#B6E880\",\"#FF97FF\",\"#FECB52\"],\"font\":{\"color\":\"#2a3f5f\"},\"hovermode\":\"closest\",\"hoverlabel\":{\"align\":\"left\"},\"paper_bgcolor\":\"white\",\"plot_bgcolor\":\"#E5ECF6\",\"polar\":{\"bgcolor\":\"#E5ECF6\",\"angularaxis\":{\"gridcolor\":\"white\",\"linecolor\":\"white\",\"ticks\":\"\"},\"radialaxis\":{\"gridcolor\":\"white\",\"linecolor\":\"white\",\"ticks\":\"\"}},\"ternary\":{\"bgcolor\":\"#E5ECF6\",\"aaxis\":{\"gridcolor\":\"white\",\"linecolor\":\"white\",\"ticks\":\"\"},\"baxis\":{\"gridcolor\":\"white\",\"linecolor\":\"white\",\"ticks\":\"\"},\"caxis\":{\"gridcolor\":\"white\",\"linecolor\":\"white\",\"ticks\":\"\"}},\"coloraxis\":{\"colorbar\":{\"outlinewidth\":0,\"ticks\":\"\"}},\"colorscale\":{\"sequential\":[[0.0,\"#0d0887\"],[0.1111111111111111,\"#46039f\"],[0.2222222222222222,\"#7201a8\"],[0.3333333333333333,\"#9c179e\"],[0.4444444444444444,\"#bd3786\"],[0.5555555555555556,\"#d8576b\"],[0.6666666666666666,\"#ed7953\"],[0.7777777777777778,\"#fb9f3a\"],[0.8888888888888888,\"#fdca26\"],[1.0,\"#f0f921\"]],\"sequentialminus\":[[0.0,\"#0d0887\"],[0.1111111111111111,\"#46039f\"],[0.2222222222222222,\"#7201a8\"],[0.3333333333333333,\"#9c179e\"],[0.4444444444444444,\"#bd3786\"],[0.5555555555555556,\"#d8576b\"],[0.6666666666666666,\"#ed7953\"],[0.7777777777777778,\"#fb9f3a\"],[0.8888888888888888,\"#fdca26\"],[1.0,\"#f0f921\"]],\"diverging\":[[0,\"#8e0152\"],[0.1,\"#c51b7d\"],[0.2,\"#de77ae\"],[0.3,\"#f1b6da\"],[0.4,\"#fde0ef\"],[0.5,\"#f7f7f7\"],[0.6,\"#e6f5d0\"],[0.7,\"#b8e186\"],[0.8,\"#7fbc41\"],[0.9,\"#4d9221\"],[1,\"#276419\"]]},\"xaxis\":{\"gridcolor\":\"white\",\"linecolor\":\"white\",\"ticks\":\"\",\"title\":{\"standoff\":15},\"zerolinecolor\":\"white\",\"automargin\":true,\"zerolinewidth\":2},\"yaxis\":{\"gridcolor\":\"white\",\"linecolor\":\"white\",\"ticks\":\"\",\"title\":{\"standoff\":15},\"zerolinecolor\":\"white\",\"automargin\":true,\"zerolinewidth\":2},\"scene\":{\"xaxis\":{\"backgroundcolor\":\"#E5ECF6\",\"gridcolor\":\"white\",\"linecolor\":\"white\",\"showbackground\":true,\"ticks\":\"\",\"zerolinecolor\":\"white\",\"gridwidth\":2},\"yaxis\":{\"backgroundcolor\":\"#E5ECF6\",\"gridcolor\":\"white\",\"linecolor\":\"white\",\"showbackground\":true,\"ticks\":\"\",\"zerolinecolor\":\"white\",\"gridwidth\":2},\"zaxis\":{\"backgroundcolor\":\"#E5ECF6\",\"gridcolor\":\"white\",\"linecolor\":\"white\",\"showbackground\":true,\"ticks\":\"\",\"zerolinecolor\":\"white\",\"gridwidth\":2}},\"shapedefaults\":{\"line\":{\"color\":\"#2a3f5f\"}},\"annotationdefaults\":{\"arrowcolor\":\"#2a3f5f\",\"arrowhead\":0,\"arrowwidth\":1},\"geo\":{\"bgcolor\":\"white\",\"landcolor\":\"#E5ECF6\",\"subunitcolor\":\"white\",\"showland\":true,\"showlakes\":true,\"lakecolor\":\"white\"},\"title\":{\"x\":0.05},\"mapbox\":{\"style\":\"light\"}}},\"xaxis\":{\"anchor\":\"y\",\"domain\":[0.0,1.0],\"title\":{\"text\":\"Member/Casual\"}},\"yaxis\":{\"anchor\":\"x\",\"domain\":[0.0,1.0],\"title\":{\"text\":\"Average Ride Length (minutes)\"}},\"legend\":{\"title\":{\"text\":\"member_casual\"},\"tracegroupgap\":0},\"margin\":{\"t\":60},\"barmode\":\"group\"},                        {\"responsive\": true}                    ).then(function(){\n",
       "                            \n",
       "var gd = document.getElementById('fd926405-ffeb-4e3a-b497-60b93b2d778f');\n",
       "var x = new MutationObserver(function (mutations, observer) {{\n",
       "        var display = window.getComputedStyle(gd).display;\n",
       "        if (!display || display === 'none') {{\n",
       "            console.log([gd, 'removed!']);\n",
       "            Plotly.purge(gd);\n",
       "            observer.disconnect();\n",
       "        }}\n",
       "}});\n",
       "\n",
       "// Listen for the removal of the full notebook cells\n",
       "var notebookContainer = gd.closest('#notebook-container');\n",
       "if (notebookContainer) {{\n",
       "    x.observe(notebookContainer, {childList: true});\n",
       "}}\n",
       "\n",
       "// Listen for the clearing of the current output cell\n",
       "var outputEl = gd.closest('.output');\n",
       "if (outputEl) {{\n",
       "    x.observe(outputEl, {childList: true});\n",
       "}}\n",
       "\n",
       "                        })                };                });            </script>        </div>"
      ]
     },
     "metadata": {},
     "output_type": "display_data"
    }
   ],
   "source": [
    "pivot8 = pd.pivot_table(df,\n",
    "               index = ['month','member_casual'],\n",
    "               values = ['ride_length'],\n",
    "               aggfunc = ['mean'],\n",
    "               margins = True,\n",
    "               margins_name = 'Total Ride Average')\n",
    "print(pivot8)\n",
    "print(\"-\"*40)\n",
    "group8 = round(df.groupby([\"month\",\"member_casual\"] , as_index=False).mean(),3)\n",
    "\n",
    "px.bar(group8, y = 'ride_length', x = 'month',\n",
    "        color = 'member_casual', \n",
    "        barmode = \"group\",\n",
    "        text = 'ride_length', \n",
    "        labels = {'ride_length': 'Average Ride Length (minutes)', 'month': 'Member/Casual'},\n",
    "      )"
   ]
  },
  {
   "cell_type": "markdown",
   "id": "8929a03a",
   "metadata": {
    "papermill": {
     "duration": 0.023271,
     "end_time": "2023-06-19T11:31:18.666104",
     "exception": false,
     "start_time": "2023-06-19T11:31:18.642833",
     "status": "completed"
    },
    "tags": []
   },
   "source": [
    "*=> It shows that average ride length of both rider types tend to fluctuate the same , the ride length get highest in summer season.*"
   ]
  },
  {
   "cell_type": "markdown",
   "id": "beb584b9",
   "metadata": {
    "papermill": {
     "duration": 0.023245,
     "end_time": "2023-06-19T11:31:18.712947",
     "exception": false,
     "start_time": "2023-06-19T11:31:18.689702",
     "status": "completed"
    },
    "tags": []
   },
   "source": [
    "c. Over the Days"
   ]
  },
  {
   "cell_type": "code",
   "execution_count": 36,
   "id": "2fca67d2",
   "metadata": {
    "execution": {
     "iopub.execute_input": "2023-06-19T11:31:18.761483Z",
     "iopub.status.busy": "2023-06-19T11:31:18.761086Z",
     "iopub.status.idle": "2023-06-19T11:31:19.629530Z",
     "shell.execute_reply": "2023-06-19T11:31:19.628686Z"
    },
    "papermill": {
     "duration": 0.895475,
     "end_time": "2023-06-19T11:31:19.631817",
     "exception": false,
     "start_time": "2023-06-19T11:31:18.736342",
     "status": "completed"
    },
    "tags": []
   },
   "outputs": [
    {
     "name": "stdout",
     "output_type": "stream",
     "text": [
      "                                        mean\n",
      "                                 ride_length\n",
      "day                member_casual            \n",
      "Sunday             casual          33.444493\n",
      "                   member          13.729349\n",
      "Monday             casual          27.637596\n",
      "                   member          11.661298\n",
      "Tuesday            casual          25.161602\n",
      "                   member          11.797084\n",
      "Wednesday          casual          23.796057\n",
      "                   member          11.700890\n",
      "Thursday           casual          24.363642\n",
      "                   member          11.860982\n",
      "Friday             casual          27.388480\n",
      "                   member          12.178373\n",
      "Saturday           casual          32.259298\n",
      "                   member          13.791268\n",
      "Total Ride Average                 18.632927\n",
      "----------------------------------------\n"
     ]
    },
    {
     "data": {
      "text/html": [
       "<div>                            <div id=\"018a1dac-cc76-4cc8-a83e-5ac1eece370e\" class=\"plotly-graph-div\" style=\"height:525px; width:100%;\"></div>            <script type=\"text/javascript\">                require([\"plotly\"], function(Plotly) {                    window.PLOTLYENV=window.PLOTLYENV || {};                                    if (document.getElementById(\"018a1dac-cc76-4cc8-a83e-5ac1eece370e\")) {                    Plotly.newPlot(                        \"018a1dac-cc76-4cc8-a83e-5ac1eece370e\",                        [{\"alignmentgroup\":\"True\",\"hovertemplate\":\"member_casual=casual<br>Member/Casual=%{x}<br>Average Ride Length (minutes)=%{text}<extra></extra>\",\"legendgroup\":\"casual\",\"marker\":{\"color\":\"#636efa\",\"pattern\":{\"shape\":\"\"}},\"name\":\"casual\",\"offsetgroup\":\"casual\",\"orientation\":\"v\",\"showlegend\":true,\"text\":[33.444,27.638,25.162,23.796,24.364,27.388,32.259],\"textposition\":\"auto\",\"x\":[\"Sunday\",\"Monday\",\"Tuesday\",\"Wednesday\",\"Thursday\",\"Friday\",\"Saturday\"],\"xaxis\":\"x\",\"y\":[33.444,27.638,25.162,23.796,24.364,27.388,32.259],\"yaxis\":\"y\",\"type\":\"bar\"},{\"alignmentgroup\":\"True\",\"hovertemplate\":\"member_casual=member<br>Member/Casual=%{x}<br>Average Ride Length (minutes)=%{text}<extra></extra>\",\"legendgroup\":\"member\",\"marker\":{\"color\":\"#EF553B\",\"pattern\":{\"shape\":\"\"}},\"name\":\"member\",\"offsetgroup\":\"member\",\"orientation\":\"v\",\"showlegend\":true,\"text\":[13.729,11.661,11.797,11.701,11.861,12.178,13.791],\"textposition\":\"auto\",\"x\":[\"Sunday\",\"Monday\",\"Tuesday\",\"Wednesday\",\"Thursday\",\"Friday\",\"Saturday\"],\"xaxis\":\"x\",\"y\":[13.729,11.661,11.797,11.701,11.861,12.178,13.791],\"yaxis\":\"y\",\"type\":\"bar\"}],                        {\"template\":{\"data\":{\"histogram2dcontour\":[{\"type\":\"histogram2dcontour\",\"colorbar\":{\"outlinewidth\":0,\"ticks\":\"\"},\"colorscale\":[[0.0,\"#0d0887\"],[0.1111111111111111,\"#46039f\"],[0.2222222222222222,\"#7201a8\"],[0.3333333333333333,\"#9c179e\"],[0.4444444444444444,\"#bd3786\"],[0.5555555555555556,\"#d8576b\"],[0.6666666666666666,\"#ed7953\"],[0.7777777777777778,\"#fb9f3a\"],[0.8888888888888888,\"#fdca26\"],[1.0,\"#f0f921\"]]}],\"choropleth\":[{\"type\":\"choropleth\",\"colorbar\":{\"outlinewidth\":0,\"ticks\":\"\"}}],\"histogram2d\":[{\"type\":\"histogram2d\",\"colorbar\":{\"outlinewidth\":0,\"ticks\":\"\"},\"colorscale\":[[0.0,\"#0d0887\"],[0.1111111111111111,\"#46039f\"],[0.2222222222222222,\"#7201a8\"],[0.3333333333333333,\"#9c179e\"],[0.4444444444444444,\"#bd3786\"],[0.5555555555555556,\"#d8576b\"],[0.6666666666666666,\"#ed7953\"],[0.7777777777777778,\"#fb9f3a\"],[0.8888888888888888,\"#fdca26\"],[1.0,\"#f0f921\"]]}],\"heatmap\":[{\"type\":\"heatmap\",\"colorbar\":{\"outlinewidth\":0,\"ticks\":\"\"},\"colorscale\":[[0.0,\"#0d0887\"],[0.1111111111111111,\"#46039f\"],[0.2222222222222222,\"#7201a8\"],[0.3333333333333333,\"#9c179e\"],[0.4444444444444444,\"#bd3786\"],[0.5555555555555556,\"#d8576b\"],[0.6666666666666666,\"#ed7953\"],[0.7777777777777778,\"#fb9f3a\"],[0.8888888888888888,\"#fdca26\"],[1.0,\"#f0f921\"]]}],\"heatmapgl\":[{\"type\":\"heatmapgl\",\"colorbar\":{\"outlinewidth\":0,\"ticks\":\"\"},\"colorscale\":[[0.0,\"#0d0887\"],[0.1111111111111111,\"#46039f\"],[0.2222222222222222,\"#7201a8\"],[0.3333333333333333,\"#9c179e\"],[0.4444444444444444,\"#bd3786\"],[0.5555555555555556,\"#d8576b\"],[0.6666666666666666,\"#ed7953\"],[0.7777777777777778,\"#fb9f3a\"],[0.8888888888888888,\"#fdca26\"],[1.0,\"#f0f921\"]]}],\"contourcarpet\":[{\"type\":\"contourcarpet\",\"colorbar\":{\"outlinewidth\":0,\"ticks\":\"\"}}],\"contour\":[{\"type\":\"contour\",\"colorbar\":{\"outlinewidth\":0,\"ticks\":\"\"},\"colorscale\":[[0.0,\"#0d0887\"],[0.1111111111111111,\"#46039f\"],[0.2222222222222222,\"#7201a8\"],[0.3333333333333333,\"#9c179e\"],[0.4444444444444444,\"#bd3786\"],[0.5555555555555556,\"#d8576b\"],[0.6666666666666666,\"#ed7953\"],[0.7777777777777778,\"#fb9f3a\"],[0.8888888888888888,\"#fdca26\"],[1.0,\"#f0f921\"]]}],\"surface\":[{\"type\":\"surface\",\"colorbar\":{\"outlinewidth\":0,\"ticks\":\"\"},\"colorscale\":[[0.0,\"#0d0887\"],[0.1111111111111111,\"#46039f\"],[0.2222222222222222,\"#7201a8\"],[0.3333333333333333,\"#9c179e\"],[0.4444444444444444,\"#bd3786\"],[0.5555555555555556,\"#d8576b\"],[0.6666666666666666,\"#ed7953\"],[0.7777777777777778,\"#fb9f3a\"],[0.8888888888888888,\"#fdca26\"],[1.0,\"#f0f921\"]]}],\"mesh3d\":[{\"type\":\"mesh3d\",\"colorbar\":{\"outlinewidth\":0,\"ticks\":\"\"}}],\"scatter\":[{\"fillpattern\":{\"fillmode\":\"overlay\",\"size\":10,\"solidity\":0.2},\"type\":\"scatter\"}],\"parcoords\":[{\"type\":\"parcoords\",\"line\":{\"colorbar\":{\"outlinewidth\":0,\"ticks\":\"\"}}}],\"scatterpolargl\":[{\"type\":\"scatterpolargl\",\"marker\":{\"colorbar\":{\"outlinewidth\":0,\"ticks\":\"\"}}}],\"bar\":[{\"error_x\":{\"color\":\"#2a3f5f\"},\"error_y\":{\"color\":\"#2a3f5f\"},\"marker\":{\"line\":{\"color\":\"#E5ECF6\",\"width\":0.5},\"pattern\":{\"fillmode\":\"overlay\",\"size\":10,\"solidity\":0.2}},\"type\":\"bar\"}],\"scattergeo\":[{\"type\":\"scattergeo\",\"marker\":{\"colorbar\":{\"outlinewidth\":0,\"ticks\":\"\"}}}],\"scatterpolar\":[{\"type\":\"scatterpolar\",\"marker\":{\"colorbar\":{\"outlinewidth\":0,\"ticks\":\"\"}}}],\"histogram\":[{\"marker\":{\"pattern\":{\"fillmode\":\"overlay\",\"size\":10,\"solidity\":0.2}},\"type\":\"histogram\"}],\"scattergl\":[{\"type\":\"scattergl\",\"marker\":{\"colorbar\":{\"outlinewidth\":0,\"ticks\":\"\"}}}],\"scatter3d\":[{\"type\":\"scatter3d\",\"line\":{\"colorbar\":{\"outlinewidth\":0,\"ticks\":\"\"}},\"marker\":{\"colorbar\":{\"outlinewidth\":0,\"ticks\":\"\"}}}],\"scattermapbox\":[{\"type\":\"scattermapbox\",\"marker\":{\"colorbar\":{\"outlinewidth\":0,\"ticks\":\"\"}}}],\"scatterternary\":[{\"type\":\"scatterternary\",\"marker\":{\"colorbar\":{\"outlinewidth\":0,\"ticks\":\"\"}}}],\"scattercarpet\":[{\"type\":\"scattercarpet\",\"marker\":{\"colorbar\":{\"outlinewidth\":0,\"ticks\":\"\"}}}],\"carpet\":[{\"aaxis\":{\"endlinecolor\":\"#2a3f5f\",\"gridcolor\":\"white\",\"linecolor\":\"white\",\"minorgridcolor\":\"white\",\"startlinecolor\":\"#2a3f5f\"},\"baxis\":{\"endlinecolor\":\"#2a3f5f\",\"gridcolor\":\"white\",\"linecolor\":\"white\",\"minorgridcolor\":\"white\",\"startlinecolor\":\"#2a3f5f\"},\"type\":\"carpet\"}],\"table\":[{\"cells\":{\"fill\":{\"color\":\"#EBF0F8\"},\"line\":{\"color\":\"white\"}},\"header\":{\"fill\":{\"color\":\"#C8D4E3\"},\"line\":{\"color\":\"white\"}},\"type\":\"table\"}],\"barpolar\":[{\"marker\":{\"line\":{\"color\":\"#E5ECF6\",\"width\":0.5},\"pattern\":{\"fillmode\":\"overlay\",\"size\":10,\"solidity\":0.2}},\"type\":\"barpolar\"}],\"pie\":[{\"automargin\":true,\"type\":\"pie\"}]},\"layout\":{\"autotypenumbers\":\"strict\",\"colorway\":[\"#636efa\",\"#EF553B\",\"#00cc96\",\"#ab63fa\",\"#FFA15A\",\"#19d3f3\",\"#FF6692\",\"#B6E880\",\"#FF97FF\",\"#FECB52\"],\"font\":{\"color\":\"#2a3f5f\"},\"hovermode\":\"closest\",\"hoverlabel\":{\"align\":\"left\"},\"paper_bgcolor\":\"white\",\"plot_bgcolor\":\"#E5ECF6\",\"polar\":{\"bgcolor\":\"#E5ECF6\",\"angularaxis\":{\"gridcolor\":\"white\",\"linecolor\":\"white\",\"ticks\":\"\"},\"radialaxis\":{\"gridcolor\":\"white\",\"linecolor\":\"white\",\"ticks\":\"\"}},\"ternary\":{\"bgcolor\":\"#E5ECF6\",\"aaxis\":{\"gridcolor\":\"white\",\"linecolor\":\"white\",\"ticks\":\"\"},\"baxis\":{\"gridcolor\":\"white\",\"linecolor\":\"white\",\"ticks\":\"\"},\"caxis\":{\"gridcolor\":\"white\",\"linecolor\":\"white\",\"ticks\":\"\"}},\"coloraxis\":{\"colorbar\":{\"outlinewidth\":0,\"ticks\":\"\"}},\"colorscale\":{\"sequential\":[[0.0,\"#0d0887\"],[0.1111111111111111,\"#46039f\"],[0.2222222222222222,\"#7201a8\"],[0.3333333333333333,\"#9c179e\"],[0.4444444444444444,\"#bd3786\"],[0.5555555555555556,\"#d8576b\"],[0.6666666666666666,\"#ed7953\"],[0.7777777777777778,\"#fb9f3a\"],[0.8888888888888888,\"#fdca26\"],[1.0,\"#f0f921\"]],\"sequentialminus\":[[0.0,\"#0d0887\"],[0.1111111111111111,\"#46039f\"],[0.2222222222222222,\"#7201a8\"],[0.3333333333333333,\"#9c179e\"],[0.4444444444444444,\"#bd3786\"],[0.5555555555555556,\"#d8576b\"],[0.6666666666666666,\"#ed7953\"],[0.7777777777777778,\"#fb9f3a\"],[0.8888888888888888,\"#fdca26\"],[1.0,\"#f0f921\"]],\"diverging\":[[0,\"#8e0152\"],[0.1,\"#c51b7d\"],[0.2,\"#de77ae\"],[0.3,\"#f1b6da\"],[0.4,\"#fde0ef\"],[0.5,\"#f7f7f7\"],[0.6,\"#e6f5d0\"],[0.7,\"#b8e186\"],[0.8,\"#7fbc41\"],[0.9,\"#4d9221\"],[1,\"#276419\"]]},\"xaxis\":{\"gridcolor\":\"white\",\"linecolor\":\"white\",\"ticks\":\"\",\"title\":{\"standoff\":15},\"zerolinecolor\":\"white\",\"automargin\":true,\"zerolinewidth\":2},\"yaxis\":{\"gridcolor\":\"white\",\"linecolor\":\"white\",\"ticks\":\"\",\"title\":{\"standoff\":15},\"zerolinecolor\":\"white\",\"automargin\":true,\"zerolinewidth\":2},\"scene\":{\"xaxis\":{\"backgroundcolor\":\"#E5ECF6\",\"gridcolor\":\"white\",\"linecolor\":\"white\",\"showbackground\":true,\"ticks\":\"\",\"zerolinecolor\":\"white\",\"gridwidth\":2},\"yaxis\":{\"backgroundcolor\":\"#E5ECF6\",\"gridcolor\":\"white\",\"linecolor\":\"white\",\"showbackground\":true,\"ticks\":\"\",\"zerolinecolor\":\"white\",\"gridwidth\":2},\"zaxis\":{\"backgroundcolor\":\"#E5ECF6\",\"gridcolor\":\"white\",\"linecolor\":\"white\",\"showbackground\":true,\"ticks\":\"\",\"zerolinecolor\":\"white\",\"gridwidth\":2}},\"shapedefaults\":{\"line\":{\"color\":\"#2a3f5f\"}},\"annotationdefaults\":{\"arrowcolor\":\"#2a3f5f\",\"arrowhead\":0,\"arrowwidth\":1},\"geo\":{\"bgcolor\":\"white\",\"landcolor\":\"#E5ECF6\",\"subunitcolor\":\"white\",\"showland\":true,\"showlakes\":true,\"lakecolor\":\"white\"},\"title\":{\"x\":0.05},\"mapbox\":{\"style\":\"light\"}}},\"xaxis\":{\"anchor\":\"y\",\"domain\":[0.0,1.0],\"title\":{\"text\":\"Member/Casual\"}},\"yaxis\":{\"anchor\":\"x\",\"domain\":[0.0,1.0],\"title\":{\"text\":\"Average Ride Length (minutes)\"}},\"legend\":{\"title\":{\"text\":\"member_casual\"},\"tracegroupgap\":0},\"margin\":{\"t\":60},\"barmode\":\"group\"},                        {\"responsive\": true}                    ).then(function(){\n",
       "                            \n",
       "var gd = document.getElementById('018a1dac-cc76-4cc8-a83e-5ac1eece370e');\n",
       "var x = new MutationObserver(function (mutations, observer) {{\n",
       "        var display = window.getComputedStyle(gd).display;\n",
       "        if (!display || display === 'none') {{\n",
       "            console.log([gd, 'removed!']);\n",
       "            Plotly.purge(gd);\n",
       "            observer.disconnect();\n",
       "        }}\n",
       "}});\n",
       "\n",
       "// Listen for the removal of the full notebook cells\n",
       "var notebookContainer = gd.closest('#notebook-container');\n",
       "if (notebookContainer) {{\n",
       "    x.observe(notebookContainer, {childList: true});\n",
       "}}\n",
       "\n",
       "// Listen for the clearing of the current output cell\n",
       "var outputEl = gd.closest('.output');\n",
       "if (outputEl) {{\n",
       "    x.observe(outputEl, {childList: true});\n",
       "}}\n",
       "\n",
       "                        })                };                });            </script>        </div>"
      ]
     },
     "metadata": {},
     "output_type": "display_data"
    }
   ],
   "source": [
    "pivot9 = pd.pivot_table(df,\n",
    "               index = ['day','member_casual'],\n",
    "               values = ['ride_length'],\n",
    "               aggfunc = ['mean'],\n",
    "               margins = True,\n",
    "               margins_name = 'Total Ride Average')\n",
    "print(pivot9)\n",
    "print(\"-\"*40)\n",
    "group9 = round(df.groupby([\"day\",\"member_casual\"] , as_index=False).mean(),3)\n",
    "\n",
    "px.bar(group9, y = 'ride_length', x = 'day',\n",
    "        color = 'member_casual', \n",
    "        barmode = \"group\",\n",
    "        text = 'ride_length', \n",
    "        labels = {'ride_length': 'Average Ride Length (minutes)', 'day': 'Member/Casual'},\n",
    "      )"
   ]
  },
  {
   "cell_type": "markdown",
   "id": "a0e51e48",
   "metadata": {
    "papermill": {
     "duration": 0.024201,
     "end_time": "2023-06-19T11:31:19.680273",
     "exception": false,
     "start_time": "2023-06-19T11:31:19.656072",
     "status": "completed"
    },
    "tags": []
   },
   "source": [
    "*=> Member and casual riders tend to have ride time duration the most in Weekends .*"
   ]
  },
  {
   "cell_type": "markdown",
   "id": "00a86822",
   "metadata": {
    "papermill": {
     "duration": 0.023539,
     "end_time": "2023-06-19T11:31:19.727640",
     "exception": false,
     "start_time": "2023-06-19T11:31:19.704101",
     "status": "completed"
    },
    "tags": []
   },
   "source": [
    "d. Over the Hours"
   ]
  },
  {
   "cell_type": "code",
   "execution_count": 37,
   "id": "fb428a3e",
   "metadata": {
    "execution": {
     "iopub.execute_input": "2023-06-19T11:31:19.777217Z",
     "iopub.status.busy": "2023-06-19T11:31:19.776825Z",
     "iopub.status.idle": "2023-06-19T11:31:20.762175Z",
     "shell.execute_reply": "2023-06-19T11:31:20.760229Z"
    },
    "papermill": {
     "duration": 1.014635,
     "end_time": "2023-06-19T11:31:20.766516",
     "exception": false,
     "start_time": "2023-06-19T11:31:19.751881",
     "status": "completed"
    },
    "tags": []
   },
   "outputs": [
    {
     "name": "stdout",
     "output_type": "stream",
     "text": [
      "                                        mean\n",
      "                                 ride_length\n",
      "day                member_casual            \n",
      "Sunday             casual          33.444493\n",
      "                   member          13.729349\n",
      "Monday             casual          27.637596\n",
      "                   member          11.661298\n",
      "Tuesday            casual          25.161602\n",
      "                   member          11.797084\n",
      "Wednesday          casual          23.796057\n",
      "                   member          11.700890\n",
      "Thursday           casual          24.363642\n",
      "                   member          11.860982\n",
      "Friday             casual          27.388480\n",
      "                   member          12.178373\n",
      "Saturday           casual          32.259298\n",
      "                   member          13.791268\n",
      "Total Ride Average                 18.632927\n",
      "----------------------------------------\n"
     ]
    },
    {
     "data": {
      "text/html": [
       "<div>                            <div id=\"8b952758-ca2e-4313-99ca-9a334ec7ead4\" class=\"plotly-graph-div\" style=\"height:525px; width:100%;\"></div>            <script type=\"text/javascript\">                require([\"plotly\"], function(Plotly) {                    window.PLOTLYENV=window.PLOTLYENV || {};                                    if (document.getElementById(\"8b952758-ca2e-4313-99ca-9a334ec7ead4\")) {                    Plotly.newPlot(                        \"8b952758-ca2e-4313-99ca-9a334ec7ead4\",                        [{\"alignmentgroup\":\"True\",\"hovertemplate\":\"member_casual=casual<br>Member/Casual=%{x}<br>Average Ride Length (minutes)=%{text}<extra></extra>\",\"legendgroup\":\"casual\",\"marker\":{\"color\":\"#636efa\",\"pattern\":{\"shape\":\"\"}},\"name\":\"casual\",\"offsetgroup\":\"casual\",\"orientation\":\"v\",\"showlegend\":true,\"text\":[29.63,36.363,36.838,42.018,36.017,26.052,21.907,18.218,19.131,24.945,30.829,31.837,30.57,30.349,31.514,30.509,27.634,24.888,27.011,28.832,27.791,27.466,26.099,29.72],\"textposition\":\"auto\",\"x\":[0,1,2,3,4,5,6,7,8,9,10,11,12,13,14,15,16,17,18,19,20,21,22,23],\"xaxis\":\"x\",\"y\":[29.63,36.363,36.838,42.018,36.017,26.052,21.907,18.218,19.131,24.945,30.829,31.837,30.57,30.349,31.514,30.509,27.634,24.888,27.011,28.832,27.791,27.466,26.099,29.72],\"yaxis\":\"y\",\"type\":\"bar\"},{\"alignmentgroup\":\"True\",\"hovertemplate\":\"member_casual=member<br>Member/Casual=%{x}<br>Average Ride Length (minutes)=%{text}<extra></extra>\",\"legendgroup\":\"member\",\"marker\":{\"color\":\"#EF553B\",\"pattern\":{\"shape\":\"\"}},\"name\":\"member\",\"offsetgroup\":\"member\",\"orientation\":\"v\",\"showlegend\":true,\"text\":[12.0,12.908,12.803,12.621,12.868,10.017,10.454,11.133,11.008,11.333,12.361,12.542,12.128,12.186,12.65,12.63,12.849,13.184,12.909,12.676,12.334,12.206,12.177,12.407],\"textposition\":\"auto\",\"x\":[0,1,2,3,4,5,6,7,8,9,10,11,12,13,14,15,16,17,18,19,20,21,22,23],\"xaxis\":\"x\",\"y\":[12.0,12.908,12.803,12.621,12.868,10.017,10.454,11.133,11.008,11.333,12.361,12.542,12.128,12.186,12.65,12.63,12.849,13.184,12.909,12.676,12.334,12.206,12.177,12.407],\"yaxis\":\"y\",\"type\":\"bar\"}],                        {\"template\":{\"data\":{\"histogram2dcontour\":[{\"type\":\"histogram2dcontour\",\"colorbar\":{\"outlinewidth\":0,\"ticks\":\"\"},\"colorscale\":[[0.0,\"#0d0887\"],[0.1111111111111111,\"#46039f\"],[0.2222222222222222,\"#7201a8\"],[0.3333333333333333,\"#9c179e\"],[0.4444444444444444,\"#bd3786\"],[0.5555555555555556,\"#d8576b\"],[0.6666666666666666,\"#ed7953\"],[0.7777777777777778,\"#fb9f3a\"],[0.8888888888888888,\"#fdca26\"],[1.0,\"#f0f921\"]]}],\"choropleth\":[{\"type\":\"choropleth\",\"colorbar\":{\"outlinewidth\":0,\"ticks\":\"\"}}],\"histogram2d\":[{\"type\":\"histogram2d\",\"colorbar\":{\"outlinewidth\":0,\"ticks\":\"\"},\"colorscale\":[[0.0,\"#0d0887\"],[0.1111111111111111,\"#46039f\"],[0.2222222222222222,\"#7201a8\"],[0.3333333333333333,\"#9c179e\"],[0.4444444444444444,\"#bd3786\"],[0.5555555555555556,\"#d8576b\"],[0.6666666666666666,\"#ed7953\"],[0.7777777777777778,\"#fb9f3a\"],[0.8888888888888888,\"#fdca26\"],[1.0,\"#f0f921\"]]}],\"heatmap\":[{\"type\":\"heatmap\",\"colorbar\":{\"outlinewidth\":0,\"ticks\":\"\"},\"colorscale\":[[0.0,\"#0d0887\"],[0.1111111111111111,\"#46039f\"],[0.2222222222222222,\"#7201a8\"],[0.3333333333333333,\"#9c179e\"],[0.4444444444444444,\"#bd3786\"],[0.5555555555555556,\"#d8576b\"],[0.6666666666666666,\"#ed7953\"],[0.7777777777777778,\"#fb9f3a\"],[0.8888888888888888,\"#fdca26\"],[1.0,\"#f0f921\"]]}],\"heatmapgl\":[{\"type\":\"heatmapgl\",\"colorbar\":{\"outlinewidth\":0,\"ticks\":\"\"},\"colorscale\":[[0.0,\"#0d0887\"],[0.1111111111111111,\"#46039f\"],[0.2222222222222222,\"#7201a8\"],[0.3333333333333333,\"#9c179e\"],[0.4444444444444444,\"#bd3786\"],[0.5555555555555556,\"#d8576b\"],[0.6666666666666666,\"#ed7953\"],[0.7777777777777778,\"#fb9f3a\"],[0.8888888888888888,\"#fdca26\"],[1.0,\"#f0f921\"]]}],\"contourcarpet\":[{\"type\":\"contourcarpet\",\"colorbar\":{\"outlinewidth\":0,\"ticks\":\"\"}}],\"contour\":[{\"type\":\"contour\",\"colorbar\":{\"outlinewidth\":0,\"ticks\":\"\"},\"colorscale\":[[0.0,\"#0d0887\"],[0.1111111111111111,\"#46039f\"],[0.2222222222222222,\"#7201a8\"],[0.3333333333333333,\"#9c179e\"],[0.4444444444444444,\"#bd3786\"],[0.5555555555555556,\"#d8576b\"],[0.6666666666666666,\"#ed7953\"],[0.7777777777777778,\"#fb9f3a\"],[0.8888888888888888,\"#fdca26\"],[1.0,\"#f0f921\"]]}],\"surface\":[{\"type\":\"surface\",\"colorbar\":{\"outlinewidth\":0,\"ticks\":\"\"},\"colorscale\":[[0.0,\"#0d0887\"],[0.1111111111111111,\"#46039f\"],[0.2222222222222222,\"#7201a8\"],[0.3333333333333333,\"#9c179e\"],[0.4444444444444444,\"#bd3786\"],[0.5555555555555556,\"#d8576b\"],[0.6666666666666666,\"#ed7953\"],[0.7777777777777778,\"#fb9f3a\"],[0.8888888888888888,\"#fdca26\"],[1.0,\"#f0f921\"]]}],\"mesh3d\":[{\"type\":\"mesh3d\",\"colorbar\":{\"outlinewidth\":0,\"ticks\":\"\"}}],\"scatter\":[{\"fillpattern\":{\"fillmode\":\"overlay\",\"size\":10,\"solidity\":0.2},\"type\":\"scatter\"}],\"parcoords\":[{\"type\":\"parcoords\",\"line\":{\"colorbar\":{\"outlinewidth\":0,\"ticks\":\"\"}}}],\"scatterpolargl\":[{\"type\":\"scatterpolargl\",\"marker\":{\"colorbar\":{\"outlinewidth\":0,\"ticks\":\"\"}}}],\"bar\":[{\"error_x\":{\"color\":\"#2a3f5f\"},\"error_y\":{\"color\":\"#2a3f5f\"},\"marker\":{\"line\":{\"color\":\"#E5ECF6\",\"width\":0.5},\"pattern\":{\"fillmode\":\"overlay\",\"size\":10,\"solidity\":0.2}},\"type\":\"bar\"}],\"scattergeo\":[{\"type\":\"scattergeo\",\"marker\":{\"colorbar\":{\"outlinewidth\":0,\"ticks\":\"\"}}}],\"scatterpolar\":[{\"type\":\"scatterpolar\",\"marker\":{\"colorbar\":{\"outlinewidth\":0,\"ticks\":\"\"}}}],\"histogram\":[{\"marker\":{\"pattern\":{\"fillmode\":\"overlay\",\"size\":10,\"solidity\":0.2}},\"type\":\"histogram\"}],\"scattergl\":[{\"type\":\"scattergl\",\"marker\":{\"colorbar\":{\"outlinewidth\":0,\"ticks\":\"\"}}}],\"scatter3d\":[{\"type\":\"scatter3d\",\"line\":{\"colorbar\":{\"outlinewidth\":0,\"ticks\":\"\"}},\"marker\":{\"colorbar\":{\"outlinewidth\":0,\"ticks\":\"\"}}}],\"scattermapbox\":[{\"type\":\"scattermapbox\",\"marker\":{\"colorbar\":{\"outlinewidth\":0,\"ticks\":\"\"}}}],\"scatterternary\":[{\"type\":\"scatterternary\",\"marker\":{\"colorbar\":{\"outlinewidth\":0,\"ticks\":\"\"}}}],\"scattercarpet\":[{\"type\":\"scattercarpet\",\"marker\":{\"colorbar\":{\"outlinewidth\":0,\"ticks\":\"\"}}}],\"carpet\":[{\"aaxis\":{\"endlinecolor\":\"#2a3f5f\",\"gridcolor\":\"white\",\"linecolor\":\"white\",\"minorgridcolor\":\"white\",\"startlinecolor\":\"#2a3f5f\"},\"baxis\":{\"endlinecolor\":\"#2a3f5f\",\"gridcolor\":\"white\",\"linecolor\":\"white\",\"minorgridcolor\":\"white\",\"startlinecolor\":\"#2a3f5f\"},\"type\":\"carpet\"}],\"table\":[{\"cells\":{\"fill\":{\"color\":\"#EBF0F8\"},\"line\":{\"color\":\"white\"}},\"header\":{\"fill\":{\"color\":\"#C8D4E3\"},\"line\":{\"color\":\"white\"}},\"type\":\"table\"}],\"barpolar\":[{\"marker\":{\"line\":{\"color\":\"#E5ECF6\",\"width\":0.5},\"pattern\":{\"fillmode\":\"overlay\",\"size\":10,\"solidity\":0.2}},\"type\":\"barpolar\"}],\"pie\":[{\"automargin\":true,\"type\":\"pie\"}]},\"layout\":{\"autotypenumbers\":\"strict\",\"colorway\":[\"#636efa\",\"#EF553B\",\"#00cc96\",\"#ab63fa\",\"#FFA15A\",\"#19d3f3\",\"#FF6692\",\"#B6E880\",\"#FF97FF\",\"#FECB52\"],\"font\":{\"color\":\"#2a3f5f\"},\"hovermode\":\"closest\",\"hoverlabel\":{\"align\":\"left\"},\"paper_bgcolor\":\"white\",\"plot_bgcolor\":\"#E5ECF6\",\"polar\":{\"bgcolor\":\"#E5ECF6\",\"angularaxis\":{\"gridcolor\":\"white\",\"linecolor\":\"white\",\"ticks\":\"\"},\"radialaxis\":{\"gridcolor\":\"white\",\"linecolor\":\"white\",\"ticks\":\"\"}},\"ternary\":{\"bgcolor\":\"#E5ECF6\",\"aaxis\":{\"gridcolor\":\"white\",\"linecolor\":\"white\",\"ticks\":\"\"},\"baxis\":{\"gridcolor\":\"white\",\"linecolor\":\"white\",\"ticks\":\"\"},\"caxis\":{\"gridcolor\":\"white\",\"linecolor\":\"white\",\"ticks\":\"\"}},\"coloraxis\":{\"colorbar\":{\"outlinewidth\":0,\"ticks\":\"\"}},\"colorscale\":{\"sequential\":[[0.0,\"#0d0887\"],[0.1111111111111111,\"#46039f\"],[0.2222222222222222,\"#7201a8\"],[0.3333333333333333,\"#9c179e\"],[0.4444444444444444,\"#bd3786\"],[0.5555555555555556,\"#d8576b\"],[0.6666666666666666,\"#ed7953\"],[0.7777777777777778,\"#fb9f3a\"],[0.8888888888888888,\"#fdca26\"],[1.0,\"#f0f921\"]],\"sequentialminus\":[[0.0,\"#0d0887\"],[0.1111111111111111,\"#46039f\"],[0.2222222222222222,\"#7201a8\"],[0.3333333333333333,\"#9c179e\"],[0.4444444444444444,\"#bd3786\"],[0.5555555555555556,\"#d8576b\"],[0.6666666666666666,\"#ed7953\"],[0.7777777777777778,\"#fb9f3a\"],[0.8888888888888888,\"#fdca26\"],[1.0,\"#f0f921\"]],\"diverging\":[[0,\"#8e0152\"],[0.1,\"#c51b7d\"],[0.2,\"#de77ae\"],[0.3,\"#f1b6da\"],[0.4,\"#fde0ef\"],[0.5,\"#f7f7f7\"],[0.6,\"#e6f5d0\"],[0.7,\"#b8e186\"],[0.8,\"#7fbc41\"],[0.9,\"#4d9221\"],[1,\"#276419\"]]},\"xaxis\":{\"gridcolor\":\"white\",\"linecolor\":\"white\",\"ticks\":\"\",\"title\":{\"standoff\":15},\"zerolinecolor\":\"white\",\"automargin\":true,\"zerolinewidth\":2},\"yaxis\":{\"gridcolor\":\"white\",\"linecolor\":\"white\",\"ticks\":\"\",\"title\":{\"standoff\":15},\"zerolinecolor\":\"white\",\"automargin\":true,\"zerolinewidth\":2},\"scene\":{\"xaxis\":{\"backgroundcolor\":\"#E5ECF6\",\"gridcolor\":\"white\",\"linecolor\":\"white\",\"showbackground\":true,\"ticks\":\"\",\"zerolinecolor\":\"white\",\"gridwidth\":2},\"yaxis\":{\"backgroundcolor\":\"#E5ECF6\",\"gridcolor\":\"white\",\"linecolor\":\"white\",\"showbackground\":true,\"ticks\":\"\",\"zerolinecolor\":\"white\",\"gridwidth\":2},\"zaxis\":{\"backgroundcolor\":\"#E5ECF6\",\"gridcolor\":\"white\",\"linecolor\":\"white\",\"showbackground\":true,\"ticks\":\"\",\"zerolinecolor\":\"white\",\"gridwidth\":2}},\"shapedefaults\":{\"line\":{\"color\":\"#2a3f5f\"}},\"annotationdefaults\":{\"arrowcolor\":\"#2a3f5f\",\"arrowhead\":0,\"arrowwidth\":1},\"geo\":{\"bgcolor\":\"white\",\"landcolor\":\"#E5ECF6\",\"subunitcolor\":\"white\",\"showland\":true,\"showlakes\":true,\"lakecolor\":\"white\"},\"title\":{\"x\":0.05},\"mapbox\":{\"style\":\"light\"}}},\"xaxis\":{\"anchor\":\"y\",\"domain\":[0.0,1.0],\"title\":{\"text\":\"Member/Casual\"},\"tickfont\":{\"size\":11},\"tickangle\":0},\"yaxis\":{\"anchor\":\"x\",\"domain\":[0.0,1.0],\"title\":{\"text\":\"Average Ride Length (minutes)\"}},\"legend\":{\"title\":{\"text\":\"member_casual\"},\"tracegroupgap\":0},\"margin\":{\"t\":60},\"barmode\":\"group\"},                        {\"responsive\": true}                    ).then(function(){\n",
       "                            \n",
       "var gd = document.getElementById('8b952758-ca2e-4313-99ca-9a334ec7ead4');\n",
       "var x = new MutationObserver(function (mutations, observer) {{\n",
       "        var display = window.getComputedStyle(gd).display;\n",
       "        if (!display || display === 'none') {{\n",
       "            console.log([gd, 'removed!']);\n",
       "            Plotly.purge(gd);\n",
       "            observer.disconnect();\n",
       "        }}\n",
       "}});\n",
       "\n",
       "// Listen for the removal of the full notebook cells\n",
       "var notebookContainer = gd.closest('#notebook-container');\n",
       "if (notebookContainer) {{\n",
       "    x.observe(notebookContainer, {childList: true});\n",
       "}}\n",
       "\n",
       "// Listen for the clearing of the current output cell\n",
       "var outputEl = gd.closest('.output');\n",
       "if (outputEl) {{\n",
       "    x.observe(outputEl, {childList: true});\n",
       "}}\n",
       "\n",
       "                        })                };                });            </script>        </div>"
      ]
     },
     "metadata": {},
     "output_type": "display_data"
    }
   ],
   "source": [
    "pivot10 = pd.pivot_table(df,\n",
    "               index = ['hour','member_casual'],\n",
    "               values = ['ride_length'],\n",
    "               aggfunc = ['mean'],\n",
    "               margins = True,\n",
    "               margins_name = 'Total Ride Average')\n",
    "print(pivot9)\n",
    "print(\"-\"*40)\n",
    "group10 = round(df.groupby([\"hour\",\"member_casual\"] , as_index=False).mean(),3)\n",
    "\n",
    "fig_hour = px.bar(group10, y = 'ride_length', x = 'hour',\n",
    "            color = 'member_casual', \n",
    "            barmode = \"group\",\n",
    "            text = 'ride_length', \n",
    "            labels = {'ride_length': 'Average Ride Length (minutes)', 'hour': 'Member/Casual'},\n",
    "          )\n",
    "fig_hour.update_layout(\n",
    "            xaxis_tickangle = 0,\n",
    "            xaxis_tickfont_size = 11)\n",
    "fig_hour.show()"
   ]
  },
  {
   "cell_type": "markdown",
   "id": "d6418eba",
   "metadata": {
    "papermill": {
     "duration": 0.023889,
     "end_time": "2023-06-19T11:31:20.814970",
     "exception": false,
     "start_time": "2023-06-19T11:31:20.791081",
     "status": "completed"
    },
    "tags": []
   },
   "source": [
    "*=> The casual riders have more time use service in 1:AM to 4:AM , meanwhile , their tendency of ride length are the same .*"
   ]
  },
  {
   "cell_type": "markdown",
   "id": "03a4252d",
   "metadata": {
    "papermill": {
     "duration": 0.032201,
     "end_time": "2023-06-19T11:31:20.871582",
     "exception": false,
     "start_time": "2023-06-19T11:31:20.839381",
     "status": "completed"
    },
    "tags": []
   },
   "source": [
    "e. Final Subplots by Plotly"
   ]
  },
  {
   "cell_type": "code",
   "execution_count": 38,
   "id": "2fc0085c",
   "metadata": {
    "execution": {
     "iopub.execute_input": "2023-06-19T11:31:20.926490Z",
     "iopub.status.busy": "2023-06-19T11:31:20.925824Z",
     "iopub.status.idle": "2023-06-19T11:31:21.007691Z",
     "shell.execute_reply": "2023-06-19T11:31:21.006535Z"
    },
    "papermill": {
     "duration": 0.112176,
     "end_time": "2023-06-19T11:31:21.010133",
     "exception": false,
     "start_time": "2023-06-19T11:31:20.897957",
     "status": "completed"
    },
    "tags": []
   },
   "outputs": [
    {
     "data": {
      "text/html": [
       "<div>                            <div id=\"9b22269b-227b-45c2-814d-c058beee3800\" class=\"plotly-graph-div\" style=\"height:2000px; width:1200px;\"></div>            <script type=\"text/javascript\">                require([\"plotly\"], function(Plotly) {                    window.PLOTLYENV=window.PLOTLYENV || {};                                    if (document.getElementById(\"9b22269b-227b-45c2-814d-c058beee3800\")) {                    Plotly.newPlot(                        \"9b22269b-227b-45c2-814d-c058beee3800\",                        [{\"marker\":{\"color\":[\"#1f77b4\",\"#ff7f0e\",\"#2ca02c\",\"#d62728\",\"#9467bd\",\"#8c564b\",\"#e377c2\",\"#7f7f7f\",\"#bcbd22\",\"#17becf\",\"#f0ad4e\",\"#3a87ad\",\"#1f77b4\",\"#ff7f0e\",\"#2ca02c\",\"#d62728\",\"#9467bd\",\"#8c564b\",\"#e377c2\",\"#7f7f7f\",\"#bcbd22\",\"#17becf\",\"#f0ad4e\",\"#3a87ad\",\"#1f77b4\",\"#ff7f0e\",\"#2ca02c\",\"#d62728\",\"#9467bd\",\"#8c564b\",\"#e377c2\",\"#7f7f7f\",\"#bcbd22\",\"#17becf\",\"#f0ad4e\",\"#3a87ad\",\"#1f77b4\",\"#ff7f0e\",\"#2ca02c\",\"#d62728\",\"#9467bd\",\"#8c564b\",\"#e377c2\",\"#7f7f7f\",\"#bcbd22\",\"#17becf\",\"#f0ad4e\",\"#3a87ad\",\"#1f77b4\",\"#ff7f0e\",\"#2ca02c\",\"#d62728\",\"#9467bd\",\"#8c564b\",\"#e377c2\",\"#7f7f7f\",\"#bcbd22\",\"#17becf\",\"#f0ad4e\",\"#3a87ad\",\"#1f77b4\",\"#ff7f0e\",\"#2ca02c\",\"#d62728\",\"#9467bd\",\"#8c564b\",\"#e377c2\",\"#7f7f7f\",\"#bcbd22\",\"#17becf\",\"#f0ad4e\",\"#3a87ad\",\"#1f77b4\",\"#ff7f0e\",\"#2ca02c\",\"#d62728\",\"#9467bd\",\"#8c564b\",\"#e377c2\",\"#7f7f7f\",\"#bcbd22\",\"#17becf\",\"#f0ad4e\",\"#3a87ad\",\"#1f77b4\",\"#ff7f0e\",\"#2ca02c\",\"#d62728\",\"#9467bd\",\"#8c564b\",\"#e377c2\",\"#7f7f7f\",\"#bcbd22\",\"#17becf\",\"#f0ad4e\",\"#3a87ad\",\"#1f77b4\",\"#ff7f0e\",\"#2ca02c\",\"#d62728\",\"#9467bd\",\"#8c564b\",\"#e377c2\",\"#7f7f7f\",\"#bcbd22\",\"#17becf\",\"#f0ad4e\",\"#3a87ad\",\"#1f77b4\",\"#ff7f0e\",\"#2ca02c\",\"#d62728\",\"#9467bd\",\"#8c564b\",\"#e377c2\",\"#7f7f7f\",\"#bcbd22\",\"#17becf\",\"#f0ad4e\",\"#3a87ad\",\"#1f77b4\",\"#ff7f0e\",\"#2ca02c\",\"#d62728\",\"#9467bd\",\"#8c564b\",\"#e377c2\",\"#7f7f7f\",\"#bcbd22\",\"#17becf\",\"#f0ad4e\",\"#3a87ad\",\"#1f77b4\",\"#ff7f0e\",\"#2ca02c\",\"#d62728\",\"#9467bd\",\"#8c564b\",\"#e377c2\",\"#7f7f7f\",\"#bcbd22\",\"#17becf\",\"#f0ad4e\",\"#3a87ad\"]},\"name\":\"Periods\",\"text\":[28.236,12.301],\"textfont\":{\"color\":\"white\"},\"x\":[\"casual\",\"member\"],\"y\":[28.236,12.301],\"type\":\"bar\",\"xaxis\":\"x\",\"yaxis\":\"y\"},{\"marker\":{\"color\":[\"#bcbd22\",\"#bcbd22\",\"#bcbd22\",\"#bcbd22\",\"#bcbd22\",\"#bcbd22\",\"#bcbd22\",\"#bcbd22\",\"#bcbd22\",\"#bcbd22\",\"#bcbd22\",\"#bcbd22\"]},\"name\":\"casual-months\",\"text\":[23.101,23.355,21.592,28.095,27.445,32.232,29.397,29.457,28.093,26.505,21.311,22.374],\"x\":[\"January\",\"February\",\"March\",\"April\",\"May\",\"June\",\"July\",\"August\",\"September\",\"October\",\"November\",\"December\"],\"y\":[23.101,23.355,21.592,28.095,27.445,32.232,29.397,29.457,28.093,26.505,21.311,22.374],\"type\":\"bar\",\"xaxis\":\"x2\",\"yaxis\":\"y2\"},{\"marker\":{\"color\":[\"#9467bd\",\"#9467bd\",\"#9467bd\",\"#9467bd\",\"#9467bd\",\"#9467bd\",\"#9467bd\",\"#9467bd\",\"#9467bd\",\"#9467bd\",\"#9467bd\",\"#9467bd\"]},\"name\":\"member-months\",\"text\":[10.217,10.572,10.334,11.633,12.909,13.795,13.534,13.198,12.778,11.749,10.885,10.407],\"x\":[\"January\",\"February\",\"March\",\"April\",\"May\",\"June\",\"July\",\"August\",\"September\",\"October\",\"November\",\"December\"],\"y\":[10.217,10.572,10.334,11.633,12.909,13.795,13.534,13.198,12.778,11.749,10.885,10.407],\"type\":\"bar\",\"xaxis\":\"x2\",\"yaxis\":\"y2\"},{\"marker\":{\"color\":[\"#8c564b\",\"#8c564b\",\"#8c564b\",\"#8c564b\",\"#8c564b\",\"#8c564b\",\"#8c564b\",\"#8c564b\",\"#8c564b\",\"#8c564b\",\"#8c564b\",\"#8c564b\"]},\"name\":\"casual-days\",\"text\":[33.444,27.638,25.162,23.796,24.364,27.388,32.259],\"x\":[\"Sunday\",\"Monday\",\"Tuesday\",\"Wednesday\",\"Thursday\",\"Friday\",\"Saturday\"],\"y\":[33.444,27.638,25.162,23.796,24.364,27.388,32.259],\"type\":\"bar\",\"xaxis\":\"x3\",\"yaxis\":\"y3\"},{\"marker\":{\"color\":[\"#e377c2\",\"#e377c2\",\"#e377c2\",\"#e377c2\",\"#e377c2\",\"#e377c2\",\"#e377c2\",\"#e377c2\",\"#e377c2\",\"#e377c2\",\"#e377c2\",\"#e377c2\"]},\"name\":\"member-days\",\"text\":[13.729,11.661,11.797,11.701,11.861,12.178,13.791],\"x\":[\"Sunday\",\"Monday\",\"Tuesday\",\"Wednesday\",\"Thursday\",\"Friday\",\"Saturday\"],\"y\":[13.729,11.661,11.797,11.701,11.861,12.178,13.791],\"type\":\"bar\",\"xaxis\":\"x3\",\"yaxis\":\"y3\"},{\"marker\":{\"color\":[\"#2ca02c\",\"#d62728\",\"#2ca02c\",\"#d62728\",\"#2ca02c\",\"#d62728\",\"#2ca02c\",\"#d62728\",\"#2ca02c\",\"#d62728\",\"#2ca02c\",\"#d62728\",\"#2ca02c\",\"#d62728\",\"#2ca02c\",\"#d62728\",\"#2ca02c\",\"#d62728\",\"#2ca02c\",\"#d62728\",\"#2ca02c\",\"#d62728\",\"#2ca02c\",\"#d62728\"]},\"name\":\"member-hours\",\"text\":[12.0,12.908,12.803,12.621,12.868,10.017,10.454,11.133,11.008,11.333,12.361,12.542,12.128,12.186,12.65,12.63,12.849,13.184,12.909,12.676,12.334,12.206,12.177,12.407],\"x\":[0,1,2,3,4,5,6,7,8,9,10,11,12,13,14,15,16,17,18,19,20,21,22,23],\"y\":[12.0,12.908,12.803,12.621,12.868,10.017,10.454,11.133,11.008,11.333,12.361,12.542,12.128,12.186,12.65,12.63,12.849,13.184,12.909,12.676,12.334,12.206,12.177,12.407],\"type\":\"bar\",\"xaxis\":\"x4\",\"yaxis\":\"y4\"},{\"marker\":{\"color\":[\"#d62728\",\"#2ca02c\",\"#d62728\",\"#2ca02c\",\"#d62728\",\"#2ca02c\",\"#d62728\",\"#2ca02c\",\"#d62728\",\"#2ca02c\",\"#d62728\",\"#2ca02c\",\"#d62728\",\"#2ca02c\",\"#d62728\",\"#2ca02c\",\"#d62728\",\"#2ca02c\",\"#d62728\",\"#2ca02c\",\"#d62728\",\"#2ca02c\",\"#d62728\",\"#2ca02c\"]},\"name\":\"casual-hours\",\"text\":[29.63,36.363,36.838,42.018,36.017,26.052,21.907,18.218,19.131,24.945,30.829,31.837,30.57,30.349,31.514,30.509,27.634,24.888,27.011,28.832,27.791,27.466,26.099,29.72],\"x\":[0,1,2,3,4,5,6,7,8,9,10,11,12,13,14,15,16,17,18,19,20,21,22,23],\"y\":[29.63,36.363,36.838,42.018,36.017,26.052,21.907,18.218,19.131,24.945,30.829,31.837,30.57,30.349,31.514,30.509,27.634,24.888,27.011,28.832,27.791,27.466,26.099,29.72],\"type\":\"bar\",\"xaxis\":\"x4\",\"yaxis\":\"y4\"}],                        {\"template\":{\"data\":{\"histogram2dcontour\":[{\"type\":\"histogram2dcontour\",\"colorbar\":{\"outlinewidth\":0,\"ticks\":\"\"},\"colorscale\":[[0.0,\"#0d0887\"],[0.1111111111111111,\"#46039f\"],[0.2222222222222222,\"#7201a8\"],[0.3333333333333333,\"#9c179e\"],[0.4444444444444444,\"#bd3786\"],[0.5555555555555556,\"#d8576b\"],[0.6666666666666666,\"#ed7953\"],[0.7777777777777778,\"#fb9f3a\"],[0.8888888888888888,\"#fdca26\"],[1.0,\"#f0f921\"]]}],\"choropleth\":[{\"type\":\"choropleth\",\"colorbar\":{\"outlinewidth\":0,\"ticks\":\"\"}}],\"histogram2d\":[{\"type\":\"histogram2d\",\"colorbar\":{\"outlinewidth\":0,\"ticks\":\"\"},\"colorscale\":[[0.0,\"#0d0887\"],[0.1111111111111111,\"#46039f\"],[0.2222222222222222,\"#7201a8\"],[0.3333333333333333,\"#9c179e\"],[0.4444444444444444,\"#bd3786\"],[0.5555555555555556,\"#d8576b\"],[0.6666666666666666,\"#ed7953\"],[0.7777777777777778,\"#fb9f3a\"],[0.8888888888888888,\"#fdca26\"],[1.0,\"#f0f921\"]]}],\"heatmap\":[{\"type\":\"heatmap\",\"colorbar\":{\"outlinewidth\":0,\"ticks\":\"\"},\"colorscale\":[[0.0,\"#0d0887\"],[0.1111111111111111,\"#46039f\"],[0.2222222222222222,\"#7201a8\"],[0.3333333333333333,\"#9c179e\"],[0.4444444444444444,\"#bd3786\"],[0.5555555555555556,\"#d8576b\"],[0.6666666666666666,\"#ed7953\"],[0.7777777777777778,\"#fb9f3a\"],[0.8888888888888888,\"#fdca26\"],[1.0,\"#f0f921\"]]}],\"heatmapgl\":[{\"type\":\"heatmapgl\",\"colorbar\":{\"outlinewidth\":0,\"ticks\":\"\"},\"colorscale\":[[0.0,\"#0d0887\"],[0.1111111111111111,\"#46039f\"],[0.2222222222222222,\"#7201a8\"],[0.3333333333333333,\"#9c179e\"],[0.4444444444444444,\"#bd3786\"],[0.5555555555555556,\"#d8576b\"],[0.6666666666666666,\"#ed7953\"],[0.7777777777777778,\"#fb9f3a\"],[0.8888888888888888,\"#fdca26\"],[1.0,\"#f0f921\"]]}],\"contourcarpet\":[{\"type\":\"contourcarpet\",\"colorbar\":{\"outlinewidth\":0,\"ticks\":\"\"}}],\"contour\":[{\"type\":\"contour\",\"colorbar\":{\"outlinewidth\":0,\"ticks\":\"\"},\"colorscale\":[[0.0,\"#0d0887\"],[0.1111111111111111,\"#46039f\"],[0.2222222222222222,\"#7201a8\"],[0.3333333333333333,\"#9c179e\"],[0.4444444444444444,\"#bd3786\"],[0.5555555555555556,\"#d8576b\"],[0.6666666666666666,\"#ed7953\"],[0.7777777777777778,\"#fb9f3a\"],[0.8888888888888888,\"#fdca26\"],[1.0,\"#f0f921\"]]}],\"surface\":[{\"type\":\"surface\",\"colorbar\":{\"outlinewidth\":0,\"ticks\":\"\"},\"colorscale\":[[0.0,\"#0d0887\"],[0.1111111111111111,\"#46039f\"],[0.2222222222222222,\"#7201a8\"],[0.3333333333333333,\"#9c179e\"],[0.4444444444444444,\"#bd3786\"],[0.5555555555555556,\"#d8576b\"],[0.6666666666666666,\"#ed7953\"],[0.7777777777777778,\"#fb9f3a\"],[0.8888888888888888,\"#fdca26\"],[1.0,\"#f0f921\"]]}],\"mesh3d\":[{\"type\":\"mesh3d\",\"colorbar\":{\"outlinewidth\":0,\"ticks\":\"\"}}],\"scatter\":[{\"fillpattern\":{\"fillmode\":\"overlay\",\"size\":10,\"solidity\":0.2},\"type\":\"scatter\"}],\"parcoords\":[{\"type\":\"parcoords\",\"line\":{\"colorbar\":{\"outlinewidth\":0,\"ticks\":\"\"}}}],\"scatterpolargl\":[{\"type\":\"scatterpolargl\",\"marker\":{\"colorbar\":{\"outlinewidth\":0,\"ticks\":\"\"}}}],\"bar\":[{\"error_x\":{\"color\":\"#2a3f5f\"},\"error_y\":{\"color\":\"#2a3f5f\"},\"marker\":{\"line\":{\"color\":\"#E5ECF6\",\"width\":0.5},\"pattern\":{\"fillmode\":\"overlay\",\"size\":10,\"solidity\":0.2}},\"type\":\"bar\"}],\"scattergeo\":[{\"type\":\"scattergeo\",\"marker\":{\"colorbar\":{\"outlinewidth\":0,\"ticks\":\"\"}}}],\"scatterpolar\":[{\"type\":\"scatterpolar\",\"marker\":{\"colorbar\":{\"outlinewidth\":0,\"ticks\":\"\"}}}],\"histogram\":[{\"marker\":{\"pattern\":{\"fillmode\":\"overlay\",\"size\":10,\"solidity\":0.2}},\"type\":\"histogram\"}],\"scattergl\":[{\"type\":\"scattergl\",\"marker\":{\"colorbar\":{\"outlinewidth\":0,\"ticks\":\"\"}}}],\"scatter3d\":[{\"type\":\"scatter3d\",\"line\":{\"colorbar\":{\"outlinewidth\":0,\"ticks\":\"\"}},\"marker\":{\"colorbar\":{\"outlinewidth\":0,\"ticks\":\"\"}}}],\"scattermapbox\":[{\"type\":\"scattermapbox\",\"marker\":{\"colorbar\":{\"outlinewidth\":0,\"ticks\":\"\"}}}],\"scatterternary\":[{\"type\":\"scatterternary\",\"marker\":{\"colorbar\":{\"outlinewidth\":0,\"ticks\":\"\"}}}],\"scattercarpet\":[{\"type\":\"scattercarpet\",\"marker\":{\"colorbar\":{\"outlinewidth\":0,\"ticks\":\"\"}}}],\"carpet\":[{\"aaxis\":{\"endlinecolor\":\"#2a3f5f\",\"gridcolor\":\"white\",\"linecolor\":\"white\",\"minorgridcolor\":\"white\",\"startlinecolor\":\"#2a3f5f\"},\"baxis\":{\"endlinecolor\":\"#2a3f5f\",\"gridcolor\":\"white\",\"linecolor\":\"white\",\"minorgridcolor\":\"white\",\"startlinecolor\":\"#2a3f5f\"},\"type\":\"carpet\"}],\"table\":[{\"cells\":{\"fill\":{\"color\":\"#EBF0F8\"},\"line\":{\"color\":\"white\"}},\"header\":{\"fill\":{\"color\":\"#C8D4E3\"},\"line\":{\"color\":\"white\"}},\"type\":\"table\"}],\"barpolar\":[{\"marker\":{\"line\":{\"color\":\"#E5ECF6\",\"width\":0.5},\"pattern\":{\"fillmode\":\"overlay\",\"size\":10,\"solidity\":0.2}},\"type\":\"barpolar\"}],\"pie\":[{\"automargin\":true,\"type\":\"pie\"}]},\"layout\":{\"autotypenumbers\":\"strict\",\"colorway\":[\"#636efa\",\"#EF553B\",\"#00cc96\",\"#ab63fa\",\"#FFA15A\",\"#19d3f3\",\"#FF6692\",\"#B6E880\",\"#FF97FF\",\"#FECB52\"],\"font\":{\"color\":\"#2a3f5f\"},\"hovermode\":\"closest\",\"hoverlabel\":{\"align\":\"left\"},\"paper_bgcolor\":\"white\",\"plot_bgcolor\":\"#E5ECF6\",\"polar\":{\"bgcolor\":\"#E5ECF6\",\"angularaxis\":{\"gridcolor\":\"white\",\"linecolor\":\"white\",\"ticks\":\"\"},\"radialaxis\":{\"gridcolor\":\"white\",\"linecolor\":\"white\",\"ticks\":\"\"}},\"ternary\":{\"bgcolor\":\"#E5ECF6\",\"aaxis\":{\"gridcolor\":\"white\",\"linecolor\":\"white\",\"ticks\":\"\"},\"baxis\":{\"gridcolor\":\"white\",\"linecolor\":\"white\",\"ticks\":\"\"},\"caxis\":{\"gridcolor\":\"white\",\"linecolor\":\"white\",\"ticks\":\"\"}},\"coloraxis\":{\"colorbar\":{\"outlinewidth\":0,\"ticks\":\"\"}},\"colorscale\":{\"sequential\":[[0.0,\"#0d0887\"],[0.1111111111111111,\"#46039f\"],[0.2222222222222222,\"#7201a8\"],[0.3333333333333333,\"#9c179e\"],[0.4444444444444444,\"#bd3786\"],[0.5555555555555556,\"#d8576b\"],[0.6666666666666666,\"#ed7953\"],[0.7777777777777778,\"#fb9f3a\"],[0.8888888888888888,\"#fdca26\"],[1.0,\"#f0f921\"]],\"sequentialminus\":[[0.0,\"#0d0887\"],[0.1111111111111111,\"#46039f\"],[0.2222222222222222,\"#7201a8\"],[0.3333333333333333,\"#9c179e\"],[0.4444444444444444,\"#bd3786\"],[0.5555555555555556,\"#d8576b\"],[0.6666666666666666,\"#ed7953\"],[0.7777777777777778,\"#fb9f3a\"],[0.8888888888888888,\"#fdca26\"],[1.0,\"#f0f921\"]],\"diverging\":[[0,\"#8e0152\"],[0.1,\"#c51b7d\"],[0.2,\"#de77ae\"],[0.3,\"#f1b6da\"],[0.4,\"#fde0ef\"],[0.5,\"#f7f7f7\"],[0.6,\"#e6f5d0\"],[0.7,\"#b8e186\"],[0.8,\"#7fbc41\"],[0.9,\"#4d9221\"],[1,\"#276419\"]]},\"xaxis\":{\"gridcolor\":\"white\",\"linecolor\":\"white\",\"ticks\":\"\",\"title\":{\"standoff\":15},\"zerolinecolor\":\"white\",\"automargin\":true,\"zerolinewidth\":2},\"yaxis\":{\"gridcolor\":\"white\",\"linecolor\":\"white\",\"ticks\":\"\",\"title\":{\"standoff\":15},\"zerolinecolor\":\"white\",\"automargin\":true,\"zerolinewidth\":2},\"scene\":{\"xaxis\":{\"backgroundcolor\":\"#E5ECF6\",\"gridcolor\":\"white\",\"linecolor\":\"white\",\"showbackground\":true,\"ticks\":\"\",\"zerolinecolor\":\"white\",\"gridwidth\":2},\"yaxis\":{\"backgroundcolor\":\"#E5ECF6\",\"gridcolor\":\"white\",\"linecolor\":\"white\",\"showbackground\":true,\"ticks\":\"\",\"zerolinecolor\":\"white\",\"gridwidth\":2},\"zaxis\":{\"backgroundcolor\":\"#E5ECF6\",\"gridcolor\":\"white\",\"linecolor\":\"white\",\"showbackground\":true,\"ticks\":\"\",\"zerolinecolor\":\"white\",\"gridwidth\":2}},\"shapedefaults\":{\"line\":{\"color\":\"#2a3f5f\"}},\"annotationdefaults\":{\"arrowcolor\":\"#2a3f5f\",\"arrowhead\":0,\"arrowwidth\":1},\"geo\":{\"bgcolor\":\"white\",\"landcolor\":\"#E5ECF6\",\"subunitcolor\":\"white\",\"showland\":true,\"showlakes\":true,\"lakecolor\":\"white\"},\"title\":{\"x\":0.05},\"mapbox\":{\"style\":\"light\"}}},\"xaxis\":{\"anchor\":\"y\",\"domain\":[0.0,1.0]},\"yaxis\":{\"anchor\":\"x\",\"domain\":[0.84375,1.0],\"title\":{\"text\":\"Average Ride Length (minutes)\"}},\"xaxis2\":{\"anchor\":\"y2\",\"domain\":[0.0,1.0]},\"yaxis2\":{\"anchor\":\"x2\",\"domain\":[0.5625,0.71875],\"title\":{\"text\":\"Average Ride Length (minutes)\"}},\"xaxis3\":{\"anchor\":\"y3\",\"domain\":[0.0,1.0]},\"yaxis3\":{\"anchor\":\"x3\",\"domain\":[0.28125,0.4375],\"title\":{\"text\":\"Average Ride Length (minutes)\"}},\"xaxis4\":{\"anchor\":\"y4\",\"domain\":[0.0,1.0]},\"yaxis4\":{\"anchor\":\"x4\",\"domain\":[0.0,0.15625],\"title\":{\"text\":\"Average Ride Length (minutes)\"}},\"annotations\":[{\"font\":{\"size\":16},\"showarrow\":false,\"text\":\"Over the period\",\"x\":0.5,\"xanchor\":\"center\",\"xref\":\"paper\",\"y\":1.0,\"yanchor\":\"bottom\",\"yref\":\"paper\"},{\"font\":{\"size\":16},\"showarrow\":false,\"text\":\"Over the months\",\"x\":0.5,\"xanchor\":\"center\",\"xref\":\"paper\",\"y\":0.71875,\"yanchor\":\"bottom\",\"yref\":\"paper\"},{\"font\":{\"size\":16},\"showarrow\":false,\"text\":\" Over the days\",\"x\":0.5,\"xanchor\":\"center\",\"xref\":\"paper\",\"y\":0.4375,\"yanchor\":\"bottom\",\"yref\":\"paper\"},{\"font\":{\"size\":16},\"showarrow\":false,\"text\":\"Over the hours\",\"x\":0.5,\"xanchor\":\"center\",\"xref\":\"paper\",\"y\":0.15625,\"yanchor\":\"bottom\",\"yref\":\"paper\"}],\"title\":{\"text\":\"Average Ride Length Between Member and Casual\"},\"height\":2000,\"width\":1200,\"barmode\":\"group\"},                        {\"responsive\": true}                    ).then(function(){\n",
       "                            \n",
       "var gd = document.getElementById('9b22269b-227b-45c2-814d-c058beee3800');\n",
       "var x = new MutationObserver(function (mutations, observer) {{\n",
       "        var display = window.getComputedStyle(gd).display;\n",
       "        if (!display || display === 'none') {{\n",
       "            console.log([gd, 'removed!']);\n",
       "            Plotly.purge(gd);\n",
       "            observer.disconnect();\n",
       "        }}\n",
       "}});\n",
       "\n",
       "// Listen for the removal of the full notebook cells\n",
       "var notebookContainer = gd.closest('#notebook-container');\n",
       "if (notebookContainer) {{\n",
       "    x.observe(notebookContainer, {childList: true});\n",
       "}}\n",
       "\n",
       "// Listen for the clearing of the current output cell\n",
       "var outputEl = gd.closest('.output');\n",
       "if (outputEl) {{\n",
       "    x.observe(outputEl, {childList: true});\n",
       "}}\n",
       "\n",
       "                        })                };                });            </script>        </div>"
      ]
     },
     "metadata": {},
     "output_type": "display_data"
    }
   ],
   "source": [
    "colors = ['#1f77b4', '#ff7f0e', '#2ca02c', '#d62728', '#9467bd',\n",
    "          '#8c564b', '#e377c2', '#7f7f7f', '#bcbd22', '#17becf',\n",
    "          '#f0ad4e', '#3a87ad']\n",
    "\n",
    "group8_casual = group8[group8[\"member_casual\"] == \"casual\"]\n",
    "group8_member = group8[group8[\"member_casual\"] == \"member\"]\n",
    "group9_casual = group9[group9[\"member_casual\"] == \"casual\"]\n",
    "group9_member = group9[group9[\"member_casual\"] == \"member\"]\n",
    "group10_casual = group10[group10[\"member_casual\"] == \"casual\"]\n",
    "group10_member = group10[group10[\"member_casual\"] == \"member\"]\n",
    "\n",
    "#Make Subplots\n",
    "fig_final = make_subplots(rows = 4, cols =1 ,\n",
    "                          shared_yaxes = True,\n",
    "                          subplot_titles = (\"Over the period\",\n",
    "                                            \"Over the months\",\n",
    "                                           \" Over the days\",\n",
    "                                           \"Over the hours\"))\n",
    "#Group7 \n",
    "fig_final.add_trace(go.Bar(\n",
    "                            x = group7[\"member_casual\"],\n",
    "                            y = group7[\"ride_length\"],\n",
    "                            name = \"Periods\",\n",
    "                            text = group7[\"ride_length\"],\n",
    "                            textfont_color=\"white\",\n",
    "                            marker_color=colors*len(colors)),\n",
    "                            1,1)\n",
    "#Group8\n",
    "fig_final.add_trace(go.Bar(\n",
    "                            x = group8_casual[\"month\"],\n",
    "                            y = group8_casual[\"ride_length\"],\n",
    "                            name = \"casual-months\",\n",
    "                            text = group8_casual[\"ride_length\"],\n",
    "                            marker_color=['#bcbd22']*12),\n",
    "                            2,1)\n",
    "fig_final.add_trace(go.Bar(\n",
    "                            x = group8_member[\"month\"],\n",
    "                            y = group8_member[\"ride_length\"],\n",
    "                            name = \"member-months\",\n",
    "                            text = group8_member[\"ride_length\"],\n",
    "                            marker_color=['#9467bd']*12),\n",
    "                            2,1)\n",
    "#Group9\n",
    "\n",
    "fig_final.add_trace(go.Bar(\n",
    "                            x = group9_casual[\"day\"],\n",
    "                            y = group9_casual[\"ride_length\"],\n",
    "                            name = \"casual-days\",\n",
    "                            text = group9_casual[\"ride_length\"],\n",
    "                            marker_color=['#8c564b']*12),\n",
    "                            3,1)\n",
    "fig_final.add_trace(go.Bar(\n",
    "                            x = group9_member[\"day\"],\n",
    "                            y = group9_member[\"ride_length\"],\n",
    "                            name = \"member-days\",\n",
    "                            text = group9_member[\"ride_length\"],\n",
    "                            marker_color=['#e377c2']*12),\n",
    "                            3,1)\n",
    "\n",
    "#Group10\n",
    "fig_final.add_trace(go.Bar(\n",
    "                            x = group10_member[\"hour\"],\n",
    "                            y = group10_member[\"ride_length\"],\n",
    "                            name = \"member-hours\",\n",
    "                            text = group10_member[\"ride_length\"],\n",
    "                            marker_color=['#2ca02c','#d62728']*12),\n",
    "                            4,1)\n",
    "fig_final.add_trace(go.Bar(\n",
    "                            x = group10_casual[\"hour\"],\n",
    "                            y = group10_casual[\"ride_length\"],\n",
    "                            name = \"casual-hours\",\n",
    "                            text = group10_casual[\"ride_length\"],\n",
    "                            marker_color=['#d62728','#2ca02c']*12),\n",
    "                            4,1)\n",
    "\n",
    "fig_final.update_yaxes(title_text=\"Average Ride Length (minutes)\", row=1, col=1)\n",
    "fig_final.update_yaxes(title_text=\"Average Ride Length (minutes)\", row=2, col=1)\n",
    "fig_final.update_yaxes(title_text=\"Average Ride Length (minutes)\", row=3, col=1)\n",
    "fig_final.update_yaxes(title_text=\"Average Ride Length (minutes)\", row=4, col=1)\n",
    "\n",
    "#fig_final.update_traces(showlegend=True, selector=dict(name='Periods'), row=1, col=1)\n",
    "#fig_final.update_traces(showlegend=True, selector=dict(name='By Months'), row=2, col=1)\n",
    "#fig_final.update_traces(showlegend=True, selector=dict(name='Days'), row=3, col=1)\n",
    "#fig_final.update_traces(showlegend=True, selector=dict(name='Hours'), row=4, col=1)\n",
    "\n",
    "fig_final.update_layout(title_text=\"Average Ride Length Between Member and Casual\",\n",
    "                        height=2000,width = 1200,\n",
    "                        barmode = \"group\",\n",
    "                        \n",
    "                        )\n",
    "fig_final.show()"
   ]
  },
  {
   "cell_type": "markdown",
   "id": "c904704d",
   "metadata": {
    "papermill": {
     "duration": 0.02432,
     "end_time": "2023-06-19T11:31:21.059160",
     "exception": false,
     "start_time": "2023-06-19T11:31:21.034840",
     "status": "completed"
    },
    "tags": []
   },
   "source": [
    "#### **4.3.5. FIND THE DIFFERNCE BETWEEN RIDEABLE TYPE OF MEMBERS AND CASUALS**"
   ]
  },
  {
   "cell_type": "code",
   "execution_count": 39,
   "id": "0e4f9385",
   "metadata": {
    "execution": {
     "iopub.execute_input": "2023-06-19T11:31:21.109979Z",
     "iopub.status.busy": "2023-06-19T11:31:21.109463Z",
     "iopub.status.idle": "2023-06-19T11:31:26.130463Z",
     "shell.execute_reply": "2023-06-19T11:31:26.129479Z"
    },
    "papermill": {
     "duration": 5.048854,
     "end_time": "2023-06-19T11:31:26.132514",
     "exception": false,
     "start_time": "2023-06-19T11:31:21.083660",
     "status": "completed"
    },
    "tags": []
   },
   "outputs": [
    {
     "name": "stdout",
     "output_type": "stream",
     "text": [
      "                               count\n",
      "                             ride_id\n",
      "rideable_type member_casual         \n",
      "classic_bike  casual          845158\n",
      "              member         1704349\n",
      "docked_bike   casual          155706\n",
      "              member               0\n",
      "electric_bike casual         1257336\n",
      "              member         1720384\n",
      "Total Count                  5682933\n",
      "----------------------------------------\n"
     ]
    },
    {
     "data": {
      "application/vnd.jupyter.widget-view+json": {
       "model_id": "03680dde884741409ed6ae2389b2e182",
       "version_major": 2,
       "version_minor": 0
      },
      "text/plain": [
       "interactive(children=(Dropdown(description='rideable_type', options=('classic_bike', 'docked_bike', 'electric_…"
      ]
     },
     "metadata": {},
     "output_type": "display_data"
    },
    {
     "data": {
      "text/plain": [
       "<function __main__.plot_rideable_type(rideable_type)>"
      ]
     },
     "execution_count": 39,
     "metadata": {},
     "output_type": "execute_result"
    }
   ],
   "source": [
    "pivot11 = pd.pivot_table(df,\n",
    "               index = ['rideable_type','member_casual'],\n",
    "               values = ['ride_id'],\n",
    "               aggfunc = ['count'],\n",
    "               margins = True,\n",
    "               margins_name = 'Total Count')\n",
    "print(pivot11)\n",
    "print(\"-\"*40)\n",
    "\n",
    "# Plot with Matplotlib and Ipywidgets \n",
    "# But it can be not displayed in HTML\n",
    "group11 = df.groupby([\"rideable_type\",\"member_casual\"] , as_index=False).count()\n",
    "def plot_rideable_type(rideable_type):\n",
    "    plt.figure(figsize = (6,8))\n",
    "    ax = sns.barplot(x = \"member_casual\" , y=\"ride_id\", data = group11[group11[\"rideable_type\"] == rideable_type])\n",
    "    plt.title(\"Rideable Type: {}\".format(rideable_type)),\n",
    "    plt.xlabel(\"Casual/Member\"),\n",
    "    plt.ylabel(\"Numbers of Riders\")\n",
    "    for p in ax.patches:\n",
    "        x = p.get_x() + p.get_width() /2 \n",
    "        y = p.get_height()\n",
    "        ax.annotate(str(p.get_height()), (x,y), xytext = (0,5) ,textcoords='offset points', ha='center', va='bottom' )\n",
    "    plt.show()\n",
    "rides = list(group11[\"rideable_type\"].unique())\n",
    "interact(plot_rideable_type, rideable_type = rides)"
   ]
  },
  {
   "cell_type": "markdown",
   "id": "1f73d874",
   "metadata": {
    "papermill": {
     "duration": 0.024682,
     "end_time": "2023-06-19T11:31:26.182043",
     "exception": false,
     "start_time": "2023-06-19T11:31:26.157361",
     "status": "completed"
    },
    "tags": []
   },
   "source": [
    "*=> Both rider types tend to be use more electric bike.*\n",
    "\n",
    "*=> Classic bike is tend to be used by member riders .*\n",
    "\n",
    "*=> In period , none of the cycling members used the docked bike .*"
   ]
  },
  {
   "cell_type": "code",
   "execution_count": 40,
   "id": "5f13842c",
   "metadata": {
    "execution": {
     "iopub.execute_input": "2023-06-19T11:31:26.233548Z",
     "iopub.status.busy": "2023-06-19T11:31:26.232815Z",
     "iopub.status.idle": "2023-06-19T11:31:26.330230Z",
     "shell.execute_reply": "2023-06-19T11:31:26.329311Z"
    },
    "papermill": {
     "duration": 0.125529,
     "end_time": "2023-06-19T11:31:26.332386",
     "exception": false,
     "start_time": "2023-06-19T11:31:26.206857",
     "status": "completed"
    },
    "tags": []
   },
   "outputs": [
    {
     "data": {
      "text/html": [
       "<div>                            <div id=\"9805c094-caee-41b6-9973-e00d55b8fa63\" class=\"plotly-graph-div\" style=\"height:525px; width:100%;\"></div>            <script type=\"text/javascript\">                require([\"plotly\"], function(Plotly) {                    window.PLOTLYENV=window.PLOTLYENV || {};                                    if (document.getElementById(\"9805c094-caee-41b6-9973-e00d55b8fa63\")) {                    Plotly.newPlot(                        \"9805c094-caee-41b6-9973-e00d55b8fa63\",                        [{\"alignmentgroup\":\"True\",\"hovertemplate\":\"rideable_type=classic_bike<br>member_casual=%{x}<br>ride_id=%{text}<extra></extra>\",\"legendgroup\":\"classic_bike\",\"marker\":{\"color\":\"#636efa\",\"pattern\":{\"shape\":\"\"}},\"name\":\"classic_bike\",\"offsetgroup\":\"classic_bike\",\"orientation\":\"v\",\"showlegend\":true,\"text\":[845158.0,1704349.0],\"textposition\":\"auto\",\"x\":[\"casual\",\"member\"],\"xaxis\":\"x\",\"y\":[845158,1704349],\"yaxis\":\"y\",\"type\":\"bar\"},{\"alignmentgroup\":\"True\",\"hovertemplate\":\"rideable_type=docked_bike<br>member_casual=%{x}<br>ride_id=%{text}<extra></extra>\",\"legendgroup\":\"docked_bike\",\"marker\":{\"color\":\"#EF553B\",\"pattern\":{\"shape\":\"\"}},\"name\":\"docked_bike\",\"offsetgroup\":\"docked_bike\",\"orientation\":\"v\",\"showlegend\":true,\"text\":[155706.0,0.0],\"textposition\":\"auto\",\"x\":[\"casual\",\"member\"],\"xaxis\":\"x\",\"y\":[155706,0],\"yaxis\":\"y\",\"type\":\"bar\"},{\"alignmentgroup\":\"True\",\"hovertemplate\":\"rideable_type=electric_bike<br>member_casual=%{x}<br>ride_id=%{text}<extra></extra>\",\"legendgroup\":\"electric_bike\",\"marker\":{\"color\":\"#00cc96\",\"pattern\":{\"shape\":\"\"}},\"name\":\"electric_bike\",\"offsetgroup\":\"electric_bike\",\"orientation\":\"v\",\"showlegend\":true,\"text\":[1257336.0,1720384.0],\"textposition\":\"auto\",\"x\":[\"casual\",\"member\"],\"xaxis\":\"x\",\"y\":[1257336,1720384],\"yaxis\":\"y\",\"type\":\"bar\"}],                        {\"template\":{\"data\":{\"histogram2dcontour\":[{\"type\":\"histogram2dcontour\",\"colorbar\":{\"outlinewidth\":0,\"ticks\":\"\"},\"colorscale\":[[0.0,\"#0d0887\"],[0.1111111111111111,\"#46039f\"],[0.2222222222222222,\"#7201a8\"],[0.3333333333333333,\"#9c179e\"],[0.4444444444444444,\"#bd3786\"],[0.5555555555555556,\"#d8576b\"],[0.6666666666666666,\"#ed7953\"],[0.7777777777777778,\"#fb9f3a\"],[0.8888888888888888,\"#fdca26\"],[1.0,\"#f0f921\"]]}],\"choropleth\":[{\"type\":\"choropleth\",\"colorbar\":{\"outlinewidth\":0,\"ticks\":\"\"}}],\"histogram2d\":[{\"type\":\"histogram2d\",\"colorbar\":{\"outlinewidth\":0,\"ticks\":\"\"},\"colorscale\":[[0.0,\"#0d0887\"],[0.1111111111111111,\"#46039f\"],[0.2222222222222222,\"#7201a8\"],[0.3333333333333333,\"#9c179e\"],[0.4444444444444444,\"#bd3786\"],[0.5555555555555556,\"#d8576b\"],[0.6666666666666666,\"#ed7953\"],[0.7777777777777778,\"#fb9f3a\"],[0.8888888888888888,\"#fdca26\"],[1.0,\"#f0f921\"]]}],\"heatmap\":[{\"type\":\"heatmap\",\"colorbar\":{\"outlinewidth\":0,\"ticks\":\"\"},\"colorscale\":[[0.0,\"#0d0887\"],[0.1111111111111111,\"#46039f\"],[0.2222222222222222,\"#7201a8\"],[0.3333333333333333,\"#9c179e\"],[0.4444444444444444,\"#bd3786\"],[0.5555555555555556,\"#d8576b\"],[0.6666666666666666,\"#ed7953\"],[0.7777777777777778,\"#fb9f3a\"],[0.8888888888888888,\"#fdca26\"],[1.0,\"#f0f921\"]]}],\"heatmapgl\":[{\"type\":\"heatmapgl\",\"colorbar\":{\"outlinewidth\":0,\"ticks\":\"\"},\"colorscale\":[[0.0,\"#0d0887\"],[0.1111111111111111,\"#46039f\"],[0.2222222222222222,\"#7201a8\"],[0.3333333333333333,\"#9c179e\"],[0.4444444444444444,\"#bd3786\"],[0.5555555555555556,\"#d8576b\"],[0.6666666666666666,\"#ed7953\"],[0.7777777777777778,\"#fb9f3a\"],[0.8888888888888888,\"#fdca26\"],[1.0,\"#f0f921\"]]}],\"contourcarpet\":[{\"type\":\"contourcarpet\",\"colorbar\":{\"outlinewidth\":0,\"ticks\":\"\"}}],\"contour\":[{\"type\":\"contour\",\"colorbar\":{\"outlinewidth\":0,\"ticks\":\"\"},\"colorscale\":[[0.0,\"#0d0887\"],[0.1111111111111111,\"#46039f\"],[0.2222222222222222,\"#7201a8\"],[0.3333333333333333,\"#9c179e\"],[0.4444444444444444,\"#bd3786\"],[0.5555555555555556,\"#d8576b\"],[0.6666666666666666,\"#ed7953\"],[0.7777777777777778,\"#fb9f3a\"],[0.8888888888888888,\"#fdca26\"],[1.0,\"#f0f921\"]]}],\"surface\":[{\"type\":\"surface\",\"colorbar\":{\"outlinewidth\":0,\"ticks\":\"\"},\"colorscale\":[[0.0,\"#0d0887\"],[0.1111111111111111,\"#46039f\"],[0.2222222222222222,\"#7201a8\"],[0.3333333333333333,\"#9c179e\"],[0.4444444444444444,\"#bd3786\"],[0.5555555555555556,\"#d8576b\"],[0.6666666666666666,\"#ed7953\"],[0.7777777777777778,\"#fb9f3a\"],[0.8888888888888888,\"#fdca26\"],[1.0,\"#f0f921\"]]}],\"mesh3d\":[{\"type\":\"mesh3d\",\"colorbar\":{\"outlinewidth\":0,\"ticks\":\"\"}}],\"scatter\":[{\"fillpattern\":{\"fillmode\":\"overlay\",\"size\":10,\"solidity\":0.2},\"type\":\"scatter\"}],\"parcoords\":[{\"type\":\"parcoords\",\"line\":{\"colorbar\":{\"outlinewidth\":0,\"ticks\":\"\"}}}],\"scatterpolargl\":[{\"type\":\"scatterpolargl\",\"marker\":{\"colorbar\":{\"outlinewidth\":0,\"ticks\":\"\"}}}],\"bar\":[{\"error_x\":{\"color\":\"#2a3f5f\"},\"error_y\":{\"color\":\"#2a3f5f\"},\"marker\":{\"line\":{\"color\":\"#E5ECF6\",\"width\":0.5},\"pattern\":{\"fillmode\":\"overlay\",\"size\":10,\"solidity\":0.2}},\"type\":\"bar\"}],\"scattergeo\":[{\"type\":\"scattergeo\",\"marker\":{\"colorbar\":{\"outlinewidth\":0,\"ticks\":\"\"}}}],\"scatterpolar\":[{\"type\":\"scatterpolar\",\"marker\":{\"colorbar\":{\"outlinewidth\":0,\"ticks\":\"\"}}}],\"histogram\":[{\"marker\":{\"pattern\":{\"fillmode\":\"overlay\",\"size\":10,\"solidity\":0.2}},\"type\":\"histogram\"}],\"scattergl\":[{\"type\":\"scattergl\",\"marker\":{\"colorbar\":{\"outlinewidth\":0,\"ticks\":\"\"}}}],\"scatter3d\":[{\"type\":\"scatter3d\",\"line\":{\"colorbar\":{\"outlinewidth\":0,\"ticks\":\"\"}},\"marker\":{\"colorbar\":{\"outlinewidth\":0,\"ticks\":\"\"}}}],\"scattermapbox\":[{\"type\":\"scattermapbox\",\"marker\":{\"colorbar\":{\"outlinewidth\":0,\"ticks\":\"\"}}}],\"scatterternary\":[{\"type\":\"scatterternary\",\"marker\":{\"colorbar\":{\"outlinewidth\":0,\"ticks\":\"\"}}}],\"scattercarpet\":[{\"type\":\"scattercarpet\",\"marker\":{\"colorbar\":{\"outlinewidth\":0,\"ticks\":\"\"}}}],\"carpet\":[{\"aaxis\":{\"endlinecolor\":\"#2a3f5f\",\"gridcolor\":\"white\",\"linecolor\":\"white\",\"minorgridcolor\":\"white\",\"startlinecolor\":\"#2a3f5f\"},\"baxis\":{\"endlinecolor\":\"#2a3f5f\",\"gridcolor\":\"white\",\"linecolor\":\"white\",\"minorgridcolor\":\"white\",\"startlinecolor\":\"#2a3f5f\"},\"type\":\"carpet\"}],\"table\":[{\"cells\":{\"fill\":{\"color\":\"#EBF0F8\"},\"line\":{\"color\":\"white\"}},\"header\":{\"fill\":{\"color\":\"#C8D4E3\"},\"line\":{\"color\":\"white\"}},\"type\":\"table\"}],\"barpolar\":[{\"marker\":{\"line\":{\"color\":\"#E5ECF6\",\"width\":0.5},\"pattern\":{\"fillmode\":\"overlay\",\"size\":10,\"solidity\":0.2}},\"type\":\"barpolar\"}],\"pie\":[{\"automargin\":true,\"type\":\"pie\"}]},\"layout\":{\"autotypenumbers\":\"strict\",\"colorway\":[\"#636efa\",\"#EF553B\",\"#00cc96\",\"#ab63fa\",\"#FFA15A\",\"#19d3f3\",\"#FF6692\",\"#B6E880\",\"#FF97FF\",\"#FECB52\"],\"font\":{\"color\":\"#2a3f5f\"},\"hovermode\":\"closest\",\"hoverlabel\":{\"align\":\"left\"},\"paper_bgcolor\":\"white\",\"plot_bgcolor\":\"#E5ECF6\",\"polar\":{\"bgcolor\":\"#E5ECF6\",\"angularaxis\":{\"gridcolor\":\"white\",\"linecolor\":\"white\",\"ticks\":\"\"},\"radialaxis\":{\"gridcolor\":\"white\",\"linecolor\":\"white\",\"ticks\":\"\"}},\"ternary\":{\"bgcolor\":\"#E5ECF6\",\"aaxis\":{\"gridcolor\":\"white\",\"linecolor\":\"white\",\"ticks\":\"\"},\"baxis\":{\"gridcolor\":\"white\",\"linecolor\":\"white\",\"ticks\":\"\"},\"caxis\":{\"gridcolor\":\"white\",\"linecolor\":\"white\",\"ticks\":\"\"}},\"coloraxis\":{\"colorbar\":{\"outlinewidth\":0,\"ticks\":\"\"}},\"colorscale\":{\"sequential\":[[0.0,\"#0d0887\"],[0.1111111111111111,\"#46039f\"],[0.2222222222222222,\"#7201a8\"],[0.3333333333333333,\"#9c179e\"],[0.4444444444444444,\"#bd3786\"],[0.5555555555555556,\"#d8576b\"],[0.6666666666666666,\"#ed7953\"],[0.7777777777777778,\"#fb9f3a\"],[0.8888888888888888,\"#fdca26\"],[1.0,\"#f0f921\"]],\"sequentialminus\":[[0.0,\"#0d0887\"],[0.1111111111111111,\"#46039f\"],[0.2222222222222222,\"#7201a8\"],[0.3333333333333333,\"#9c179e\"],[0.4444444444444444,\"#bd3786\"],[0.5555555555555556,\"#d8576b\"],[0.6666666666666666,\"#ed7953\"],[0.7777777777777778,\"#fb9f3a\"],[0.8888888888888888,\"#fdca26\"],[1.0,\"#f0f921\"]],\"diverging\":[[0,\"#8e0152\"],[0.1,\"#c51b7d\"],[0.2,\"#de77ae\"],[0.3,\"#f1b6da\"],[0.4,\"#fde0ef\"],[0.5,\"#f7f7f7\"],[0.6,\"#e6f5d0\"],[0.7,\"#b8e186\"],[0.8,\"#7fbc41\"],[0.9,\"#4d9221\"],[1,\"#276419\"]]},\"xaxis\":{\"gridcolor\":\"white\",\"linecolor\":\"white\",\"ticks\":\"\",\"title\":{\"standoff\":15},\"zerolinecolor\":\"white\",\"automargin\":true,\"zerolinewidth\":2},\"yaxis\":{\"gridcolor\":\"white\",\"linecolor\":\"white\",\"ticks\":\"\",\"title\":{\"standoff\":15},\"zerolinecolor\":\"white\",\"automargin\":true,\"zerolinewidth\":2},\"scene\":{\"xaxis\":{\"backgroundcolor\":\"#E5ECF6\",\"gridcolor\":\"white\",\"linecolor\":\"white\",\"showbackground\":true,\"ticks\":\"\",\"zerolinecolor\":\"white\",\"gridwidth\":2},\"yaxis\":{\"backgroundcolor\":\"#E5ECF6\",\"gridcolor\":\"white\",\"linecolor\":\"white\",\"showbackground\":true,\"ticks\":\"\",\"zerolinecolor\":\"white\",\"gridwidth\":2},\"zaxis\":{\"backgroundcolor\":\"#E5ECF6\",\"gridcolor\":\"white\",\"linecolor\":\"white\",\"showbackground\":true,\"ticks\":\"\",\"zerolinecolor\":\"white\",\"gridwidth\":2}},\"shapedefaults\":{\"line\":{\"color\":\"#2a3f5f\"}},\"annotationdefaults\":{\"arrowcolor\":\"#2a3f5f\",\"arrowhead\":0,\"arrowwidth\":1},\"geo\":{\"bgcolor\":\"white\",\"landcolor\":\"#E5ECF6\",\"subunitcolor\":\"white\",\"showland\":true,\"showlakes\":true,\"lakecolor\":\"white\"},\"title\":{\"x\":0.05},\"mapbox\":{\"style\":\"light\"}}},\"xaxis\":{\"anchor\":\"y\",\"domain\":[0.0,1.0],\"title\":{\"text\":\"member_casual\"}},\"yaxis\":{\"anchor\":\"x\",\"domain\":[0.0,1.0],\"title\":{\"text\":\"ride_id\"}},\"legend\":{\"title\":{\"text\":\"rideable_type\"},\"tracegroupgap\":0},\"margin\":{\"t\":60},\"barmode\":\"group\",\"updatemenus\":[{\"active\":0,\"buttons\":[{\"args\":[{\"visible\":[true,true,true]},{\"title\":\"All\",\"showlegend\":true}],\"label\":\"All\",\"method\":\"update\"},{\"args\":[{\"visible\":[true,false,false]},{\"title\":\"Docked Bike\",\"showlegend\":true}],\"label\":\"Docked Bike\",\"method\":\"update\"},{\"args\":[{\"visible\":[false,true,false]},{\"title\":\"Classic Bike\",\"showlegend\":true}],\"label\":\"Classic Bike\",\"method\":\"update\"},{\"args\":[{\"visible\":[false,false,true]},{\"title\":\"Electric Bike\",\"showlegend\":true}],\"label\":\"Electric Bike\",\"method\":\"update\"}],\"direction\":\"down\",\"showactive\":true,\"x\":0.5,\"y\":1.2}]},                        {\"responsive\": true}                    ).then(function(){\n",
       "                            \n",
       "var gd = document.getElementById('9805c094-caee-41b6-9973-e00d55b8fa63');\n",
       "var x = new MutationObserver(function (mutations, observer) {{\n",
       "        var display = window.getComputedStyle(gd).display;\n",
       "        if (!display || display === 'none') {{\n",
       "            console.log([gd, 'removed!']);\n",
       "            Plotly.purge(gd);\n",
       "            observer.disconnect();\n",
       "        }}\n",
       "}});\n",
       "\n",
       "// Listen for the removal of the full notebook cells\n",
       "var notebookContainer = gd.closest('#notebook-container');\n",
       "if (notebookContainer) {{\n",
       "    x.observe(notebookContainer, {childList: true});\n",
       "}}\n",
       "\n",
       "// Listen for the clearing of the current output cell\n",
       "var outputEl = gd.closest('.output');\n",
       "if (outputEl) {{\n",
       "    x.observe(outputEl, {childList: true});\n",
       "}}\n",
       "\n",
       "                        })                };                });            </script>        </div>"
      ]
     },
     "metadata": {},
     "output_type": "display_data"
    }
   ],
   "source": [
    "#Plot with Plotly \n",
    "fig = px.bar( group11,x=\"member_casual\" , y=\"ride_id\",\n",
    "             color = \"rideable_type\" ,barmode = \"group\" ,\n",
    "             text = \"ride_id\" )\n",
    "fig.update_layout(\n",
    "    updatemenus = [\n",
    "        dict(\n",
    "            active = 0,\n",
    "            buttons = list([\n",
    "                dict(label = 'All',\n",
    "                     method = 'update',\n",
    "                     args = [{'visible': [True, True,True]},\n",
    "                             {'title': 'All',\n",
    "                              'showlegend':True}],\n",
    "                  ),\n",
    "                dict(label = 'Docked Bike',\n",
    "                     method = 'update',\n",
    "                     args = [{'visible': [True,False,False]},\n",
    "                             {'title': 'Docked Bike',\n",
    "                              'showlegend':True}],\n",
    "                  ),\n",
    "                dict(label = 'Classic Bike',\n",
    "                     method = 'update',\n",
    "                     args = [{'visible': [False,True,False]},\n",
    "                             {'title': 'Classic Bike',\n",
    "                              'showlegend':True}]\n",
    "                 ),\n",
    "                dict(label = 'Electric Bike',\n",
    "                     method = 'update',\n",
    "                     args = [{'visible': [False,False,True]},\n",
    "                             {'title': 'Electric Bike',\n",
    "                              'showlegend':True}]\n",
    "                 ),\n",
    "                \n",
    "            ]),\n",
    "            direction=\"down\",\n",
    "            x=0.5,\n",
    "            y=1.2,\n",
    "            showactive=True\n",
    "        ),\n",
    "    ]\n",
    ")\n"
   ]
  },
  {
   "cell_type": "markdown",
   "id": "e002a39a",
   "metadata": {
    "papermill": {
     "duration": 0.024819,
     "end_time": "2023-06-19T11:31:26.382286",
     "exception": false,
     "start_time": "2023-06-19T11:31:26.357467",
     "status": "completed"
    },
    "tags": []
   },
   "source": [
    "# 5. Act"
   ]
  },
  {
   "cell_type": "markdown",
   "id": "c34a29b4",
   "metadata": {
    "papermill": {
     "duration": 0.026355,
     "end_time": "2023-06-19T11:31:26.433640",
     "exception": false,
     "start_time": "2023-06-19T11:31:26.407285",
     "status": "completed"
    },
    "tags": []
   },
   "source": [
    "### INSIGHTS"
   ]
  },
  {
   "cell_type": "markdown",
   "id": "9dc17d2c",
   "metadata": {
    "papermill": {
     "duration": 0.025543,
     "end_time": "2023-06-19T11:31:26.485156",
     "exception": false,
     "start_time": "2023-06-19T11:31:26.459613",
     "status": "completed"
    },
    "tags": []
   },
   "source": [
    " \n",
    " - Annual members and Casual riders use Cyclistic bike share service **differently .**\n",
    " \n",
    " - The average ride length of casual riders are **more than twice** compared to members in every time form cases.\n",
    " \n",
    " - From the average **ride length differnce** and **rideable type** , we can conclude that Annual members use service for **daily communiting** , meanwhile , the most Casual riders use this service to **go to work , job purposes** . But there are a fixed number of casual riders wh use bike share **for communting .**\n",
    " \n",
    " - Members want to use docked bike due to a number of reasons such as : **long wait** to find an empty station, **broken station system** , **limited number** of bicycles, etc. \n",
    " \n",
    " - However , docked bike is still a good option for casual members who want to **rent a bike easily** ."
   ]
  },
  {
   "cell_type": "markdown",
   "id": "a2224a7e",
   "metadata": {
    "papermill": {
     "duration": 0.024821,
     "end_time": "2023-06-19T11:31:26.535382",
     "exception": false,
     "start_time": "2023-06-19T11:31:26.510561",
     "status": "completed"
    },
    "tags": []
   },
   "source": [
    "### RECMMENDATIONS"
   ]
  },
  {
   "cell_type": "markdown",
   "id": "15eb2051",
   "metadata": {
    "papermill": {
     "duration": 0.024866,
     "end_time": "2023-06-19T11:31:26.585404",
     "exception": false,
     "start_time": "2023-06-19T11:31:26.560538",
     "status": "completed"
    },
    "tags": []
   },
   "source": [
    "- A new **Annual Membership package for Weekend usage only** will attract current Weekend casual riders.\n",
    "\n",
    "- **Promotions** aiming at current Weekday casual riders must be implemented as soon as possible. Those promtions must include the financial savings of taking membership when compared to single passes and full day passes for a year long period.\n",
    "\n",
    "- A **Loyalty Program** for casual riders can be implemented, where occasional membership fees discounts must be given to casual riders with high loyalty points."
   ]
  },
  {
   "cell_type": "markdown",
   "id": "7e07f9e0",
   "metadata": {
    "papermill": {
     "duration": 0.024853,
     "end_time": "2023-06-19T11:31:26.635319",
     "exception": false,
     "start_time": "2023-06-19T11:31:26.610466",
     "status": "completed"
    },
    "tags": []
   },
   "source": [
    "# An Extra Analysis"
   ]
  },
  {
   "cell_type": "code",
   "execution_count": 41,
   "id": "2ef7421c",
   "metadata": {
    "execution": {
     "iopub.execute_input": "2023-06-19T11:31:26.687906Z",
     "iopub.status.busy": "2023-06-19T11:31:26.687502Z",
     "iopub.status.idle": "2023-06-19T11:31:27.048124Z",
     "shell.execute_reply": "2023-06-19T11:31:27.046924Z"
    },
    "papermill": {
     "duration": 0.390077,
     "end_time": "2023-06-19T11:31:27.050914",
     "exception": false,
     "start_time": "2023-06-19T11:31:26.660837",
     "status": "completed"
    },
    "tags": []
   },
   "outputs": [],
   "source": [
    "may_2023_member = df[(df[\"member_casual\"] == \"member\") & (df[\"month\"] == \"May\")][\"ride_id\"].count()\n",
    "april_2023_member = df[(df[\"member_casual\"] == \"member\") & (df[\"month\"] == \"April\")][\"ride_id\"].count()\n",
    "\n",
    "may_2023_casual = df[(df[\"member_casual\"] == \"casual\") & (df[\"month\"] == \"May\")][\"ride_id\"].count()\n",
    "april_2023_casual = df[(df[\"member_casual\"] == \"casual\") & (df[\"month\"] == \"April\")][\"ride_id\"].count()"
   ]
  },
  {
   "cell_type": "code",
   "execution_count": 42,
   "id": "a6efa923",
   "metadata": {
    "execution": {
     "iopub.execute_input": "2023-06-19T11:31:27.103899Z",
     "iopub.status.busy": "2023-06-19T11:31:27.103260Z",
     "iopub.status.idle": "2023-06-19T11:31:27.162799Z",
     "shell.execute_reply": "2023-06-19T11:31:27.161938Z"
    },
    "papermill": {
     "duration": 0.088338,
     "end_time": "2023-06-19T11:31:27.164986",
     "exception": false,
     "start_time": "2023-06-19T11:31:27.076648",
     "status": "completed"
    },
    "tags": []
   },
   "outputs": [
    {
     "data": {
      "text/html": [
       "<div>                            <div id=\"950f6b17-7dc7-4122-89e8-658547c88535\" class=\"plotly-graph-div\" style=\"height:525px; width:100%;\"></div>            <script type=\"text/javascript\">                require([\"plotly\"], function(Plotly) {                    window.PLOTLYENV=window.PLOTLYENV || {};                                    if (document.getElementById(\"950f6b17-7dc7-4122-89e8-658547c88535\")) {                    Plotly.newPlot(                        \"950f6b17-7dc7-4122-89e8-658547c88535\",                        [{\"delta\":{\"reference\":269086},\"domain\":{\"column\":0,\"row\":0},\"mode\":\"number+delta\",\"title\":{\"text\":\"Member\"},\"value\":359545,\"type\":\"indicator\"},{\"delta\":{\"reference\":142521},\"domain\":{\"column\":0,\"row\":1},\"mode\":\"number+delta\",\"title\":{\"text\":\"Casual\"},\"value\":227286,\"type\":\"indicator\"}],                        {\"template\":{\"data\":{\"histogram2dcontour\":[{\"type\":\"histogram2dcontour\",\"colorbar\":{\"outlinewidth\":0,\"ticks\":\"\"},\"colorscale\":[[0.0,\"#0d0887\"],[0.1111111111111111,\"#46039f\"],[0.2222222222222222,\"#7201a8\"],[0.3333333333333333,\"#9c179e\"],[0.4444444444444444,\"#bd3786\"],[0.5555555555555556,\"#d8576b\"],[0.6666666666666666,\"#ed7953\"],[0.7777777777777778,\"#fb9f3a\"],[0.8888888888888888,\"#fdca26\"],[1.0,\"#f0f921\"]]}],\"choropleth\":[{\"type\":\"choropleth\",\"colorbar\":{\"outlinewidth\":0,\"ticks\":\"\"}}],\"histogram2d\":[{\"type\":\"histogram2d\",\"colorbar\":{\"outlinewidth\":0,\"ticks\":\"\"},\"colorscale\":[[0.0,\"#0d0887\"],[0.1111111111111111,\"#46039f\"],[0.2222222222222222,\"#7201a8\"],[0.3333333333333333,\"#9c179e\"],[0.4444444444444444,\"#bd3786\"],[0.5555555555555556,\"#d8576b\"],[0.6666666666666666,\"#ed7953\"],[0.7777777777777778,\"#fb9f3a\"],[0.8888888888888888,\"#fdca26\"],[1.0,\"#f0f921\"]]}],\"heatmap\":[{\"type\":\"heatmap\",\"colorbar\":{\"outlinewidth\":0,\"ticks\":\"\"},\"colorscale\":[[0.0,\"#0d0887\"],[0.1111111111111111,\"#46039f\"],[0.2222222222222222,\"#7201a8\"],[0.3333333333333333,\"#9c179e\"],[0.4444444444444444,\"#bd3786\"],[0.5555555555555556,\"#d8576b\"],[0.6666666666666666,\"#ed7953\"],[0.7777777777777778,\"#fb9f3a\"],[0.8888888888888888,\"#fdca26\"],[1.0,\"#f0f921\"]]}],\"heatmapgl\":[{\"type\":\"heatmapgl\",\"colorbar\":{\"outlinewidth\":0,\"ticks\":\"\"},\"colorscale\":[[0.0,\"#0d0887\"],[0.1111111111111111,\"#46039f\"],[0.2222222222222222,\"#7201a8\"],[0.3333333333333333,\"#9c179e\"],[0.4444444444444444,\"#bd3786\"],[0.5555555555555556,\"#d8576b\"],[0.6666666666666666,\"#ed7953\"],[0.7777777777777778,\"#fb9f3a\"],[0.8888888888888888,\"#fdca26\"],[1.0,\"#f0f921\"]]}],\"contourcarpet\":[{\"type\":\"contourcarpet\",\"colorbar\":{\"outlinewidth\":0,\"ticks\":\"\"}}],\"contour\":[{\"type\":\"contour\",\"colorbar\":{\"outlinewidth\":0,\"ticks\":\"\"},\"colorscale\":[[0.0,\"#0d0887\"],[0.1111111111111111,\"#46039f\"],[0.2222222222222222,\"#7201a8\"],[0.3333333333333333,\"#9c179e\"],[0.4444444444444444,\"#bd3786\"],[0.5555555555555556,\"#d8576b\"],[0.6666666666666666,\"#ed7953\"],[0.7777777777777778,\"#fb9f3a\"],[0.8888888888888888,\"#fdca26\"],[1.0,\"#f0f921\"]]}],\"surface\":[{\"type\":\"surface\",\"colorbar\":{\"outlinewidth\":0,\"ticks\":\"\"},\"colorscale\":[[0.0,\"#0d0887\"],[0.1111111111111111,\"#46039f\"],[0.2222222222222222,\"#7201a8\"],[0.3333333333333333,\"#9c179e\"],[0.4444444444444444,\"#bd3786\"],[0.5555555555555556,\"#d8576b\"],[0.6666666666666666,\"#ed7953\"],[0.7777777777777778,\"#fb9f3a\"],[0.8888888888888888,\"#fdca26\"],[1.0,\"#f0f921\"]]}],\"mesh3d\":[{\"type\":\"mesh3d\",\"colorbar\":{\"outlinewidth\":0,\"ticks\":\"\"}}],\"scatter\":[{\"fillpattern\":{\"fillmode\":\"overlay\",\"size\":10,\"solidity\":0.2},\"type\":\"scatter\"}],\"parcoords\":[{\"type\":\"parcoords\",\"line\":{\"colorbar\":{\"outlinewidth\":0,\"ticks\":\"\"}}}],\"scatterpolargl\":[{\"type\":\"scatterpolargl\",\"marker\":{\"colorbar\":{\"outlinewidth\":0,\"ticks\":\"\"}}}],\"bar\":[{\"error_x\":{\"color\":\"#2a3f5f\"},\"error_y\":{\"color\":\"#2a3f5f\"},\"marker\":{\"line\":{\"color\":\"#E5ECF6\",\"width\":0.5},\"pattern\":{\"fillmode\":\"overlay\",\"size\":10,\"solidity\":0.2}},\"type\":\"bar\"}],\"scattergeo\":[{\"type\":\"scattergeo\",\"marker\":{\"colorbar\":{\"outlinewidth\":0,\"ticks\":\"\"}}}],\"scatterpolar\":[{\"type\":\"scatterpolar\",\"marker\":{\"colorbar\":{\"outlinewidth\":0,\"ticks\":\"\"}}}],\"histogram\":[{\"marker\":{\"pattern\":{\"fillmode\":\"overlay\",\"size\":10,\"solidity\":0.2}},\"type\":\"histogram\"}],\"scattergl\":[{\"type\":\"scattergl\",\"marker\":{\"colorbar\":{\"outlinewidth\":0,\"ticks\":\"\"}}}],\"scatter3d\":[{\"type\":\"scatter3d\",\"line\":{\"colorbar\":{\"outlinewidth\":0,\"ticks\":\"\"}},\"marker\":{\"colorbar\":{\"outlinewidth\":0,\"ticks\":\"\"}}}],\"scattermapbox\":[{\"type\":\"scattermapbox\",\"marker\":{\"colorbar\":{\"outlinewidth\":0,\"ticks\":\"\"}}}],\"scatterternary\":[{\"type\":\"scatterternary\",\"marker\":{\"colorbar\":{\"outlinewidth\":0,\"ticks\":\"\"}}}],\"scattercarpet\":[{\"type\":\"scattercarpet\",\"marker\":{\"colorbar\":{\"outlinewidth\":0,\"ticks\":\"\"}}}],\"carpet\":[{\"aaxis\":{\"endlinecolor\":\"#2a3f5f\",\"gridcolor\":\"white\",\"linecolor\":\"white\",\"minorgridcolor\":\"white\",\"startlinecolor\":\"#2a3f5f\"},\"baxis\":{\"endlinecolor\":\"#2a3f5f\",\"gridcolor\":\"white\",\"linecolor\":\"white\",\"minorgridcolor\":\"white\",\"startlinecolor\":\"#2a3f5f\"},\"type\":\"carpet\"}],\"table\":[{\"cells\":{\"fill\":{\"color\":\"#EBF0F8\"},\"line\":{\"color\":\"white\"}},\"header\":{\"fill\":{\"color\":\"#C8D4E3\"},\"line\":{\"color\":\"white\"}},\"type\":\"table\"}],\"barpolar\":[{\"marker\":{\"line\":{\"color\":\"#E5ECF6\",\"width\":0.5},\"pattern\":{\"fillmode\":\"overlay\",\"size\":10,\"solidity\":0.2}},\"type\":\"barpolar\"}],\"pie\":[{\"automargin\":true,\"type\":\"pie\"}],\"indicator\":[{\"delta\":{\"reference\":90},\"mode\":\"number+delta+gauge\",\"title\":{\"text\":\"Speed\"},\"type\":\"indicator\"}]},\"layout\":{\"autotypenumbers\":\"strict\",\"colorway\":[\"#636efa\",\"#EF553B\",\"#00cc96\",\"#ab63fa\",\"#FFA15A\",\"#19d3f3\",\"#FF6692\",\"#B6E880\",\"#FF97FF\",\"#FECB52\"],\"font\":{\"color\":\"#2a3f5f\"},\"hovermode\":\"closest\",\"hoverlabel\":{\"align\":\"left\"},\"paper_bgcolor\":\"white\",\"plot_bgcolor\":\"#E5ECF6\",\"polar\":{\"bgcolor\":\"#E5ECF6\",\"angularaxis\":{\"gridcolor\":\"white\",\"linecolor\":\"white\",\"ticks\":\"\"},\"radialaxis\":{\"gridcolor\":\"white\",\"linecolor\":\"white\",\"ticks\":\"\"}},\"ternary\":{\"bgcolor\":\"#E5ECF6\",\"aaxis\":{\"gridcolor\":\"white\",\"linecolor\":\"white\",\"ticks\":\"\"},\"baxis\":{\"gridcolor\":\"white\",\"linecolor\":\"white\",\"ticks\":\"\"},\"caxis\":{\"gridcolor\":\"white\",\"linecolor\":\"white\",\"ticks\":\"\"}},\"coloraxis\":{\"colorbar\":{\"outlinewidth\":0,\"ticks\":\"\"}},\"colorscale\":{\"sequential\":[[0.0,\"#0d0887\"],[0.1111111111111111,\"#46039f\"],[0.2222222222222222,\"#7201a8\"],[0.3333333333333333,\"#9c179e\"],[0.4444444444444444,\"#bd3786\"],[0.5555555555555556,\"#d8576b\"],[0.6666666666666666,\"#ed7953\"],[0.7777777777777778,\"#fb9f3a\"],[0.8888888888888888,\"#fdca26\"],[1.0,\"#f0f921\"]],\"sequentialminus\":[[0.0,\"#0d0887\"],[0.1111111111111111,\"#46039f\"],[0.2222222222222222,\"#7201a8\"],[0.3333333333333333,\"#9c179e\"],[0.4444444444444444,\"#bd3786\"],[0.5555555555555556,\"#d8576b\"],[0.6666666666666666,\"#ed7953\"],[0.7777777777777778,\"#fb9f3a\"],[0.8888888888888888,\"#fdca26\"],[1.0,\"#f0f921\"]],\"diverging\":[[0,\"#8e0152\"],[0.1,\"#c51b7d\"],[0.2,\"#de77ae\"],[0.3,\"#f1b6da\"],[0.4,\"#fde0ef\"],[0.5,\"#f7f7f7\"],[0.6,\"#e6f5d0\"],[0.7,\"#b8e186\"],[0.8,\"#7fbc41\"],[0.9,\"#4d9221\"],[1,\"#276419\"]]},\"xaxis\":{\"gridcolor\":\"white\",\"linecolor\":\"white\",\"ticks\":\"\",\"title\":{\"standoff\":15},\"zerolinecolor\":\"white\",\"automargin\":true,\"zerolinewidth\":2},\"yaxis\":{\"gridcolor\":\"white\",\"linecolor\":\"white\",\"ticks\":\"\",\"title\":{\"standoff\":15},\"zerolinecolor\":\"white\",\"automargin\":true,\"zerolinewidth\":2},\"scene\":{\"xaxis\":{\"backgroundcolor\":\"#E5ECF6\",\"gridcolor\":\"white\",\"linecolor\":\"white\",\"showbackground\":true,\"ticks\":\"\",\"zerolinecolor\":\"white\",\"gridwidth\":2},\"yaxis\":{\"backgroundcolor\":\"#E5ECF6\",\"gridcolor\":\"white\",\"linecolor\":\"white\",\"showbackground\":true,\"ticks\":\"\",\"zerolinecolor\":\"white\",\"gridwidth\":2},\"zaxis\":{\"backgroundcolor\":\"#E5ECF6\",\"gridcolor\":\"white\",\"linecolor\":\"white\",\"showbackground\":true,\"ticks\":\"\",\"zerolinecolor\":\"white\",\"gridwidth\":2}},\"shapedefaults\":{\"line\":{\"color\":\"#2a3f5f\"}},\"annotationdefaults\":{\"arrowcolor\":\"#2a3f5f\",\"arrowhead\":0,\"arrowwidth\":1},\"geo\":{\"bgcolor\":\"white\",\"landcolor\":\"#E5ECF6\",\"subunitcolor\":\"white\",\"showland\":true,\"showlakes\":true,\"lakecolor\":\"white\"},\"title\":{\"x\":0.05},\"mapbox\":{\"style\":\"light\"}}},\"grid\":{\"rows\":2,\"columns\":1,\"pattern\":\"independent\"}},                        {\"responsive\": true}                    ).then(function(){\n",
       "                            \n",
       "var gd = document.getElementById('950f6b17-7dc7-4122-89e8-658547c88535');\n",
       "var x = new MutationObserver(function (mutations, observer) {{\n",
       "        var display = window.getComputedStyle(gd).display;\n",
       "        if (!display || display === 'none') {{\n",
       "            console.log([gd, 'removed!']);\n",
       "            Plotly.purge(gd);\n",
       "            observer.disconnect();\n",
       "        }}\n",
       "}});\n",
       "\n",
       "// Listen for the removal of the full notebook cells\n",
       "var notebookContainer = gd.closest('#notebook-container');\n",
       "if (notebookContainer) {{\n",
       "    x.observe(notebookContainer, {childList: true});\n",
       "}}\n",
       "\n",
       "// Listen for the clearing of the current output cell\n",
       "var outputEl = gd.closest('.output');\n",
       "if (outputEl) {{\n",
       "    x.observe(outputEl, {childList: true});\n",
       "}}\n",
       "\n",
       "                        })                };                });            </script>        </div>"
      ]
     },
     "metadata": {},
     "output_type": "display_data"
    }
   ],
   "source": [
    "fig_change = go.Figure()\n",
    "fig_change.add_trace(go.Indicator(\n",
    "                    mode = \"number +delta\",\n",
    "                    title = {\"text\" : \"Member\"},\n",
    "                    value = may_2023_member,\n",
    "                    delta = {\"reference\" : april_2023_member},\n",
    "                    domain = {\"row\" : 0 , \"column\": 0})\n",
    "                )\n",
    "fig_change.add_trace(go.Indicator(\n",
    "                    mode = \"number +delta\",\n",
    "                    title = {\"text\" : \"Casual\"},\n",
    "                    value = may_2023_casual,\n",
    "                    delta = {\"reference\" : april_2023_casual},\n",
    "                    domain = {\"row\" :1 , \"column\" : 0})\n",
    "                )\n",
    "fig_change.update_layout(\n",
    "    grid = {'rows' : 2 , 'columns' : 1 ,'pattern' : 'independent'},\n",
    "    template = {'data' : {'indicator': [{\n",
    "        'title' : {'text' : 'Speed'},\n",
    "        'mode' : 'number+delta+gauge',\n",
    "        'delta' : {'reference' : 90}}]\n",
    "                         }})\n",
    "fig_change.show()"
   ]
  }
 ],
 "metadata": {
  "kernelspec": {
   "display_name": "Python 3",
   "language": "python",
   "name": "python3"
  },
  "language_info": {
   "codemirror_mode": {
    "name": "ipython",
    "version": 3
   },
   "file_extension": ".py",
   "mimetype": "text/x-python",
   "name": "python",
   "nbconvert_exporter": "python",
   "pygments_lexer": "ipython3",
   "version": "3.10.10"
  },
  "papermill": {
   "default_parameters": {},
   "duration": 166.007995,
   "end_time": "2023-06-19T11:31:29.810955",
   "environment_variables": {},
   "exception": null,
   "input_path": "__notebook__.ipynb",
   "output_path": "__notebook__.ipynb",
   "parameters": {},
   "start_time": "2023-06-19T11:28:43.802960",
   "version": "2.4.0"
  },
  "widgets": {
   "application/vnd.jupyter.widget-state+json": {
    "state": {
     "03680dde884741409ed6ae2389b2e182": {
      "model_module": "@jupyter-widgets/controls",
      "model_module_version": "1.5.0",
      "model_name": "VBoxModel",
      "state": {
       "_dom_classes": [
        "widget-interact"
       ],
       "_model_module": "@jupyter-widgets/controls",
       "_model_module_version": "1.5.0",
       "_model_name": "VBoxModel",
       "_view_count": null,
       "_view_module": "@jupyter-widgets/controls",
       "_view_module_version": "1.5.0",
       "_view_name": "VBoxView",
       "box_style": "",
       "children": [
        "IPY_MODEL_1270659b1dda478289e60a43bdead536",
        "IPY_MODEL_9a896fa86bfe4ee6ac69b7b089d3b3bd"
       ],
       "layout": "IPY_MODEL_0ea6b87f645446e6a1b4f5d7d438227e"
      }
     },
     "0ea6b87f645446e6a1b4f5d7d438227e": {
      "model_module": "@jupyter-widgets/base",
      "model_module_version": "1.2.0",
      "model_name": "LayoutModel",
      "state": {
       "_model_module": "@jupyter-widgets/base",
       "_model_module_version": "1.2.0",
       "_model_name": "LayoutModel",
       "_view_count": null,
       "_view_module": "@jupyter-widgets/base",
       "_view_module_version": "1.2.0",
       "_view_name": "LayoutView",
       "align_content": null,
       "align_items": null,
       "align_self": null,
       "border": null,
       "bottom": null,
       "display": null,
       "flex": null,
       "flex_flow": null,
       "grid_area": null,
       "grid_auto_columns": null,
       "grid_auto_flow": null,
       "grid_auto_rows": null,
       "grid_column": null,
       "grid_gap": null,
       "grid_row": null,
       "grid_template_areas": null,
       "grid_template_columns": null,
       "grid_template_rows": null,
       "height": null,
       "justify_content": null,
       "justify_items": null,
       "left": null,
       "margin": null,
       "max_height": null,
       "max_width": null,
       "min_height": null,
       "min_width": null,
       "object_fit": null,
       "object_position": null,
       "order": null,
       "overflow": null,
       "overflow_x": null,
       "overflow_y": null,
       "padding": null,
       "right": null,
       "top": null,
       "visibility": null,
       "width": null
      }
     },
     "0f78fa8758314bb6b92a6707a610d601": {
      "model_module": "@jupyter-widgets/base",
      "model_module_version": "1.2.0",
      "model_name": "LayoutModel",
      "state": {
       "_model_module": "@jupyter-widgets/base",
       "_model_module_version": "1.2.0",
       "_model_name": "LayoutModel",
       "_view_count": null,
       "_view_module": "@jupyter-widgets/base",
       "_view_module_version": "1.2.0",
       "_view_name": "LayoutView",
       "align_content": null,
       "align_items": null,
       "align_self": null,
       "border": null,
       "bottom": null,
       "display": null,
       "flex": null,
       "flex_flow": null,
       "grid_area": null,
       "grid_auto_columns": null,
       "grid_auto_flow": null,
       "grid_auto_rows": null,
       "grid_column": null,
       "grid_gap": null,
       "grid_row": null,
       "grid_template_areas": null,
       "grid_template_columns": null,
       "grid_template_rows": null,
       "height": null,
       "justify_content": null,
       "justify_items": null,
       "left": null,
       "margin": null,
       "max_height": null,
       "max_width": null,
       "min_height": null,
       "min_width": null,
       "object_fit": null,
       "object_position": null,
       "order": null,
       "overflow": null,
       "overflow_x": null,
       "overflow_y": null,
       "padding": null,
       "right": null,
       "top": null,
       "visibility": null,
       "width": null
      }
     },
     "1270659b1dda478289e60a43bdead536": {
      "model_module": "@jupyter-widgets/controls",
      "model_module_version": "1.5.0",
      "model_name": "DropdownModel",
      "state": {
       "_dom_classes": [],
       "_model_module": "@jupyter-widgets/controls",
       "_model_module_version": "1.5.0",
       "_model_name": "DropdownModel",
       "_options_labels": [
        "classic_bike",
        "docked_bike",
        "electric_bike"
       ],
       "_view_count": null,
       "_view_module": "@jupyter-widgets/controls",
       "_view_module_version": "1.5.0",
       "_view_name": "DropdownView",
       "description": "rideable_type",
       "description_tooltip": null,
       "disabled": false,
       "index": 0,
       "layout": "IPY_MODEL_24487b4ac2004c338285f86c70cd889e",
       "style": "IPY_MODEL_be092fe9c5374384aa41f8a67024b0b9"
      }
     },
     "24487b4ac2004c338285f86c70cd889e": {
      "model_module": "@jupyter-widgets/base",
      "model_module_version": "1.2.0",
      "model_name": "LayoutModel",
      "state": {
       "_model_module": "@jupyter-widgets/base",
       "_model_module_version": "1.2.0",
       "_model_name": "LayoutModel",
       "_view_count": null,
       "_view_module": "@jupyter-widgets/base",
       "_view_module_version": "1.2.0",
       "_view_name": "LayoutView",
       "align_content": null,
       "align_items": null,
       "align_self": null,
       "border": null,
       "bottom": null,
       "display": null,
       "flex": null,
       "flex_flow": null,
       "grid_area": null,
       "grid_auto_columns": null,
       "grid_auto_flow": null,
       "grid_auto_rows": null,
       "grid_column": null,
       "grid_gap": null,
       "grid_row": null,
       "grid_template_areas": null,
       "grid_template_columns": null,
       "grid_template_rows": null,
       "height": null,
       "justify_content": null,
       "justify_items": null,
       "left": null,
       "margin": null,
       "max_height": null,
       "max_width": null,
       "min_height": null,
       "min_width": null,
       "object_fit": null,
       "object_position": null,
       "order": null,
       "overflow": null,
       "overflow_x": null,
       "overflow_y": null,
       "padding": null,
       "right": null,
       "top": null,
       "visibility": null,
       "width": null
      }
     },
     "9a896fa86bfe4ee6ac69b7b089d3b3bd": {
      "model_module": "@jupyter-widgets/output",
      "model_module_version": "1.0.0",
      "model_name": "OutputModel",
      "state": {
       "_dom_classes": [],
       "_model_module": "@jupyter-widgets/output",
       "_model_module_version": "1.0.0",
       "_model_name": "OutputModel",
       "_view_count": null,
       "_view_module": "@jupyter-widgets/output",
       "_view_module_version": "1.0.0",
       "_view_name": "OutputView",
       "layout": "IPY_MODEL_0f78fa8758314bb6b92a6707a610d601",
       "msg_id": "",
       "outputs": [
        {
         "data": {
          "image/png": "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",
          "text/plain": "<Figure size 600x800 with 1 Axes>"
         },
         "metadata": {},
         "output_type": "display_data"
        }
       ]
      }
     },
     "be092fe9c5374384aa41f8a67024b0b9": {
      "model_module": "@jupyter-widgets/controls",
      "model_module_version": "1.5.0",
      "model_name": "DescriptionStyleModel",
      "state": {
       "_model_module": "@jupyter-widgets/controls",
       "_model_module_version": "1.5.0",
       "_model_name": "DescriptionStyleModel",
       "_view_count": null,
       "_view_module": "@jupyter-widgets/base",
       "_view_module_version": "1.2.0",
       "_view_name": "StyleView",
       "description_width": ""
      }
     }
    },
    "version_major": 2,
    "version_minor": 0
   }
  }
 },
 "nbformat": 4,
 "nbformat_minor": 5
}
